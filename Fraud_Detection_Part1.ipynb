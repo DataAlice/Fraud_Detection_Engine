{
 "cells": [
  {
   "cell_type": "code",
   "execution_count": 232,
   "id": "ec9df2ef",
   "metadata": {},
   "outputs": [],
   "source": [
    "import pandas as pd\n",
    "from matplotlib import pyplot as plt\n",
    "import seaborn as sns\n",
    "import numpy as np\n"
   ]
  },
  {
   "cell_type": "code",
   "execution_count": 233,
   "id": "80f7feab",
   "metadata": {},
   "outputs": [
    {
     "name": "stdout",
     "output_type": "stream",
     "text": [
      "<class 'pandas.core.frame.DataFrame'>\n",
      "RangeIndex: 17998 entries, 0 to 17997\n",
      "Data columns (total 25 columns):\n",
      " #   Column                   Non-Null Count  Dtype  \n",
      "---  ------                   --------------  -----  \n",
      " 0   claim_number             17998 non-null  int64  \n",
      " 1   age_of_driver            17998 non-null  int64  \n",
      " 2   gender                   17998 non-null  object \n",
      " 3   marital_status           17993 non-null  float64\n",
      " 4   safty_rating             17998 non-null  int64  \n",
      " 5   annual_income            17998 non-null  int64  \n",
      " 6   high_education_ind       17998 non-null  int64  \n",
      " 7   address_change_ind       17998 non-null  int64  \n",
      " 8   living_status            17998 non-null  object \n",
      " 9   zip_code                 17998 non-null  int64  \n",
      " 10  claim_date               17998 non-null  object \n",
      " 11  claim_day_of_week        17998 non-null  object \n",
      " 12  accident_site            17998 non-null  object \n",
      " 13  past_num_of_claims       17998 non-null  int64  \n",
      " 14  witness_present_ind      17866 non-null  float64\n",
      " 15  liab_prct                17998 non-null  int64  \n",
      " 16  channel                  17998 non-null  object \n",
      " 17  policy_report_filed_ind  17998 non-null  int64  \n",
      " 18  claim_est_payout         17981 non-null  float64\n",
      " 19  age_of_vehicle           17990 non-null  float64\n",
      " 20  vehicle_category         17998 non-null  object \n",
      " 21  vehicle_price            17998 non-null  float64\n",
      " 22  vehicle_color            17998 non-null  object \n",
      " 23  vehicle_weight           17998 non-null  float64\n",
      " 24  fraud                    17998 non-null  int64  \n",
      "dtypes: float64(6), int64(11), object(8)\n",
      "memory usage: 3.4+ MB\n"
     ]
    }
   ],
   "source": [
    "\n",
    "df=pd.read_csv(car_damage_claim_fraud.csv)\n",
    "pd.set_option('display.max_columns',None)\n",
    "pd.set_option('display.max_rows',None)\n",
    "df.info()"
   ]
  },
  {
   "cell_type": "code",
   "execution_count": 234,
   "id": "02d85bbc",
   "metadata": {},
   "outputs": [
    {
     "data": {
      "text/html": [
       "<div>\n",
       "<style scoped>\n",
       "    .dataframe tbody tr th:only-of-type {\n",
       "        vertical-align: middle;\n",
       "    }\n",
       "\n",
       "    .dataframe tbody tr th {\n",
       "        vertical-align: top;\n",
       "    }\n",
       "\n",
       "    .dataframe thead th {\n",
       "        text-align: right;\n",
       "    }\n",
       "</style>\n",
       "<table border=\"1\" class=\"dataframe\">\n",
       "  <thead>\n",
       "    <tr style=\"text-align: right;\">\n",
       "      <th></th>\n",
       "      <th>claim_number</th>\n",
       "      <th>age_of_driver</th>\n",
       "      <th>marital_status</th>\n",
       "      <th>safty_rating</th>\n",
       "      <th>annual_income</th>\n",
       "      <th>high_education_ind</th>\n",
       "      <th>address_change_ind</th>\n",
       "      <th>zip_code</th>\n",
       "      <th>past_num_of_claims</th>\n",
       "      <th>witness_present_ind</th>\n",
       "      <th>liab_prct</th>\n",
       "      <th>policy_report_filed_ind</th>\n",
       "      <th>claim_est_payout</th>\n",
       "      <th>age_of_vehicle</th>\n",
       "      <th>vehicle_price</th>\n",
       "      <th>vehicle_weight</th>\n",
       "      <th>fraud</th>\n",
       "    </tr>\n",
       "  </thead>\n",
       "  <tbody>\n",
       "    <tr>\n",
       "      <th>count</th>\n",
       "      <td>17998.000000</td>\n",
       "      <td>17998.000000</td>\n",
       "      <td>17993.000000</td>\n",
       "      <td>17998.000000</td>\n",
       "      <td>17998.000000</td>\n",
       "      <td>17998.000000</td>\n",
       "      <td>17998.000000</td>\n",
       "      <td>17998.000000</td>\n",
       "      <td>17998.000000</td>\n",
       "      <td>17866.000000</td>\n",
       "      <td>17998.000000</td>\n",
       "      <td>17998.000000</td>\n",
       "      <td>17981.000000</td>\n",
       "      <td>17990.000000</td>\n",
       "      <td>17998.000000</td>\n",
       "      <td>17998.000000</td>\n",
       "      <td>17998.000000</td>\n",
       "    </tr>\n",
       "    <tr>\n",
       "      <th>mean</th>\n",
       "      <td>14970.601622</td>\n",
       "      <td>43.695466</td>\n",
       "      <td>0.712722</td>\n",
       "      <td>73.562951</td>\n",
       "      <td>37367.655684</td>\n",
       "      <td>0.699189</td>\n",
       "      <td>0.577286</td>\n",
       "      <td>49875.595955</td>\n",
       "      <td>0.505001</td>\n",
       "      <td>0.232677</td>\n",
       "      <td>49.423269</td>\n",
       "      <td>0.600678</td>\n",
       "      <td>4975.792083</td>\n",
       "      <td>5.008060</td>\n",
       "      <td>23089.123114</td>\n",
       "      <td>23031.322385</td>\n",
       "      <td>0.156462</td>\n",
       "    </tr>\n",
       "    <tr>\n",
       "      <th>std</th>\n",
       "      <td>8659.940765</td>\n",
       "      <td>11.959819</td>\n",
       "      <td>0.452505</td>\n",
       "      <td>15.346807</td>\n",
       "      <td>2957.297249</td>\n",
       "      <td>0.458623</td>\n",
       "      <td>0.494004</td>\n",
       "      <td>29214.655149</td>\n",
       "      <td>0.955504</td>\n",
       "      <td>0.422550</td>\n",
       "      <td>33.678470</td>\n",
       "      <td>0.489773</td>\n",
       "      <td>2215.706510</td>\n",
       "      <td>2.258391</td>\n",
       "      <td>11988.429767</td>\n",
       "      <td>12052.385584</td>\n",
       "      <td>0.363303</td>\n",
       "    </tr>\n",
       "    <tr>\n",
       "      <th>min</th>\n",
       "      <td>1.000000</td>\n",
       "      <td>18.000000</td>\n",
       "      <td>0.000000</td>\n",
       "      <td>1.000000</td>\n",
       "      <td>-1.000000</td>\n",
       "      <td>0.000000</td>\n",
       "      <td>0.000000</td>\n",
       "      <td>0.000000</td>\n",
       "      <td>0.000000</td>\n",
       "      <td>0.000000</td>\n",
       "      <td>0.000000</td>\n",
       "      <td>0.000000</td>\n",
       "      <td>282.639432</td>\n",
       "      <td>0.000000</td>\n",
       "      <td>2457.329316</td>\n",
       "      <td>2429.429302</td>\n",
       "      <td>0.000000</td>\n",
       "    </tr>\n",
       "    <tr>\n",
       "      <th>25%</th>\n",
       "      <td>7479.250000</td>\n",
       "      <td>35.000000</td>\n",
       "      <td>0.000000</td>\n",
       "      <td>65.000000</td>\n",
       "      <td>35554.000000</td>\n",
       "      <td>0.000000</td>\n",
       "      <td>0.000000</td>\n",
       "      <td>20111.000000</td>\n",
       "      <td>0.000000</td>\n",
       "      <td>0.000000</td>\n",
       "      <td>17.000000</td>\n",
       "      <td>0.000000</td>\n",
       "      <td>3337.029436</td>\n",
       "      <td>3.000000</td>\n",
       "      <td>14279.574850</td>\n",
       "      <td>14164.122133</td>\n",
       "      <td>0.000000</td>\n",
       "    </tr>\n",
       "    <tr>\n",
       "      <th>50%</th>\n",
       "      <td>14965.500000</td>\n",
       "      <td>43.000000</td>\n",
       "      <td>1.000000</td>\n",
       "      <td>76.000000</td>\n",
       "      <td>37610.000000</td>\n",
       "      <td>1.000000</td>\n",
       "      <td>1.000000</td>\n",
       "      <td>50028.000000</td>\n",
       "      <td>0.000000</td>\n",
       "      <td>0.000000</td>\n",
       "      <td>50.000000</td>\n",
       "      <td>1.000000</td>\n",
       "      <td>4668.796318</td>\n",
       "      <td>5.000000</td>\n",
       "      <td>20948.879250</td>\n",
       "      <td>20838.150260</td>\n",
       "      <td>0.000000</td>\n",
       "    </tr>\n",
       "    <tr>\n",
       "      <th>75%</th>\n",
       "      <td>22467.750000</td>\n",
       "      <td>51.000000</td>\n",
       "      <td>1.000000</td>\n",
       "      <td>85.000000</td>\n",
       "      <td>39318.000000</td>\n",
       "      <td>1.000000</td>\n",
       "      <td>1.000000</td>\n",
       "      <td>80038.000000</td>\n",
       "      <td>1.000000</td>\n",
       "      <td>0.000000</td>\n",
       "      <td>81.000000</td>\n",
       "      <td>1.000000</td>\n",
       "      <td>6255.901066</td>\n",
       "      <td>6.000000</td>\n",
       "      <td>29562.232780</td>\n",
       "      <td>29430.446293</td>\n",
       "      <td>0.000000</td>\n",
       "    </tr>\n",
       "    <tr>\n",
       "      <th>max</th>\n",
       "      <td>30000.000000</td>\n",
       "      <td>229.000000</td>\n",
       "      <td>1.000000</td>\n",
       "      <td>100.000000</td>\n",
       "      <td>54333.000000</td>\n",
       "      <td>1.000000</td>\n",
       "      <td>1.000000</td>\n",
       "      <td>85083.000000</td>\n",
       "      <td>6.000000</td>\n",
       "      <td>1.000000</td>\n",
       "      <td>100.000000</td>\n",
       "      <td>1.000000</td>\n",
       "      <td>17218.345010</td>\n",
       "      <td>16.000000</td>\n",
       "      <td>127063.506000</td>\n",
       "      <td>123016.650400</td>\n",
       "      <td>1.000000</td>\n",
       "    </tr>\n",
       "  </tbody>\n",
       "</table>\n",
       "</div>"
      ],
      "text/plain": [
       "       claim_number  age_of_driver  marital_status  safty_rating  \\\n",
       "count  17998.000000   17998.000000    17993.000000  17998.000000   \n",
       "mean   14970.601622      43.695466        0.712722     73.562951   \n",
       "std     8659.940765      11.959819        0.452505     15.346807   \n",
       "min        1.000000      18.000000        0.000000      1.000000   \n",
       "25%     7479.250000      35.000000        0.000000     65.000000   \n",
       "50%    14965.500000      43.000000        1.000000     76.000000   \n",
       "75%    22467.750000      51.000000        1.000000     85.000000   \n",
       "max    30000.000000     229.000000        1.000000    100.000000   \n",
       "\n",
       "       annual_income  high_education_ind  address_change_ind      zip_code  \\\n",
       "count   17998.000000        17998.000000        17998.000000  17998.000000   \n",
       "mean    37367.655684            0.699189            0.577286  49875.595955   \n",
       "std      2957.297249            0.458623            0.494004  29214.655149   \n",
       "min        -1.000000            0.000000            0.000000      0.000000   \n",
       "25%     35554.000000            0.000000            0.000000  20111.000000   \n",
       "50%     37610.000000            1.000000            1.000000  50028.000000   \n",
       "75%     39318.000000            1.000000            1.000000  80038.000000   \n",
       "max     54333.000000            1.000000            1.000000  85083.000000   \n",
       "\n",
       "       past_num_of_claims  witness_present_ind     liab_prct  \\\n",
       "count        17998.000000         17866.000000  17998.000000   \n",
       "mean             0.505001             0.232677     49.423269   \n",
       "std              0.955504             0.422550     33.678470   \n",
       "min              0.000000             0.000000      0.000000   \n",
       "25%              0.000000             0.000000     17.000000   \n",
       "50%              0.000000             0.000000     50.000000   \n",
       "75%              1.000000             0.000000     81.000000   \n",
       "max              6.000000             1.000000    100.000000   \n",
       "\n",
       "       policy_report_filed_ind  claim_est_payout  age_of_vehicle  \\\n",
       "count             17998.000000      17981.000000    17990.000000   \n",
       "mean                  0.600678       4975.792083        5.008060   \n",
       "std                   0.489773       2215.706510        2.258391   \n",
       "min                   0.000000        282.639432        0.000000   \n",
       "25%                   0.000000       3337.029436        3.000000   \n",
       "50%                   1.000000       4668.796318        5.000000   \n",
       "75%                   1.000000       6255.901066        6.000000   \n",
       "max                   1.000000      17218.345010       16.000000   \n",
       "\n",
       "       vehicle_price  vehicle_weight         fraud  \n",
       "count   17998.000000    17998.000000  17998.000000  \n",
       "mean    23089.123114    23031.322385      0.156462  \n",
       "std     11988.429767    12052.385584      0.363303  \n",
       "min      2457.329316     2429.429302      0.000000  \n",
       "25%     14279.574850    14164.122133      0.000000  \n",
       "50%     20948.879250    20838.150260      0.000000  \n",
       "75%     29562.232780    29430.446293      0.000000  \n",
       "max    127063.506000   123016.650400      1.000000  "
      ]
     },
     "execution_count": 234,
     "metadata": {},
     "output_type": "execute_result"
    }
   ],
   "source": [
    "df.describe()"
   ]
  },
  {
   "cell_type": "code",
   "execution_count": 235,
   "id": "95e0c05f",
   "metadata": {},
   "outputs": [
    {
     "data": {
      "text/plain": [
       "Index(['claim_number', 'age_of_driver', 'gender', 'marital_status',\n",
       "       'safty_rating', 'annual_income', 'high_education_ind',\n",
       "       'address_change_ind', 'living_status', 'zip_code', 'claim_date',\n",
       "       'claim_day_of_week', 'accident_site', 'past_num_of_claims',\n",
       "       'witness_present_ind', 'liab_prct', 'channel',\n",
       "       'policy_report_filed_ind', 'claim_est_payout', 'age_of_vehicle',\n",
       "       'vehicle_category', 'vehicle_price', 'vehicle_color', 'vehicle_weight',\n",
       "       'fraud'],\n",
       "      dtype='object')"
      ]
     },
     "execution_count": 235,
     "metadata": {},
     "output_type": "execute_result"
    }
   ],
   "source": [
    "df.columns"
   ]
  },
  {
   "cell_type": "code",
   "execution_count": 236,
   "id": "d186ee26",
   "metadata": {},
   "outputs": [
    {
     "data": {
      "text/html": [
       "<div>\n",
       "<style scoped>\n",
       "    .dataframe tbody tr th:only-of-type {\n",
       "        vertical-align: middle;\n",
       "    }\n",
       "\n",
       "    .dataframe tbody tr th {\n",
       "        vertical-align: top;\n",
       "    }\n",
       "\n",
       "    .dataframe thead th {\n",
       "        text-align: right;\n",
       "    }\n",
       "</style>\n",
       "<table border=\"1\" class=\"dataframe\">\n",
       "  <thead>\n",
       "    <tr style=\"text-align: right;\">\n",
       "      <th></th>\n",
       "      <th>claim_number</th>\n",
       "      <th>age_of_driver</th>\n",
       "      <th>gender</th>\n",
       "      <th>marital_status</th>\n",
       "      <th>safty_rating</th>\n",
       "      <th>annual_income</th>\n",
       "      <th>high_education_ind</th>\n",
       "      <th>address_change_ind</th>\n",
       "      <th>living_status</th>\n",
       "      <th>zip_code</th>\n",
       "      <th>claim_date</th>\n",
       "      <th>claim_day_of_week</th>\n",
       "      <th>accident_site</th>\n",
       "      <th>past_num_of_claims</th>\n",
       "      <th>witness_present_ind</th>\n",
       "      <th>liab_prct</th>\n",
       "      <th>channel</th>\n",
       "      <th>policy_report_filed_ind</th>\n",
       "      <th>claim_est_payout</th>\n",
       "      <th>age_of_vehicle</th>\n",
       "      <th>vehicle_category</th>\n",
       "      <th>vehicle_price</th>\n",
       "      <th>vehicle_color</th>\n",
       "      <th>vehicle_weight</th>\n",
       "      <th>fraud</th>\n",
       "    </tr>\n",
       "  </thead>\n",
       "  <tbody>\n",
       "    <tr>\n",
       "      <th>0</th>\n",
       "      <td>1</td>\n",
       "      <td>46</td>\n",
       "      <td>M</td>\n",
       "      <td>1.0</td>\n",
       "      <td>85</td>\n",
       "      <td>38301</td>\n",
       "      <td>1</td>\n",
       "      <td>1</td>\n",
       "      <td>Rent</td>\n",
       "      <td>80006</td>\n",
       "      <td>12/16/2016</td>\n",
       "      <td>Friday</td>\n",
       "      <td>Local</td>\n",
       "      <td>1</td>\n",
       "      <td>0.0</td>\n",
       "      <td>74</td>\n",
       "      <td>Broker</td>\n",
       "      <td>0</td>\n",
       "      <td>7530.940993</td>\n",
       "      <td>9.0</td>\n",
       "      <td>Compact</td>\n",
       "      <td>12885.45235</td>\n",
       "      <td>white</td>\n",
       "      <td>16161.33381</td>\n",
       "      <td>0</td>\n",
       "    </tr>\n",
       "    <tr>\n",
       "      <th>1</th>\n",
       "      <td>3</td>\n",
       "      <td>21</td>\n",
       "      <td>F</td>\n",
       "      <td>0.0</td>\n",
       "      <td>75</td>\n",
       "      <td>30445</td>\n",
       "      <td>0</td>\n",
       "      <td>1</td>\n",
       "      <td>Rent</td>\n",
       "      <td>15021</td>\n",
       "      <td>2/12/2015</td>\n",
       "      <td>Thursday</td>\n",
       "      <td>Highway</td>\n",
       "      <td>1</td>\n",
       "      <td>1.0</td>\n",
       "      <td>79</td>\n",
       "      <td>Online</td>\n",
       "      <td>0</td>\n",
       "      <td>2966.024895</td>\n",
       "      <td>4.0</td>\n",
       "      <td>Large</td>\n",
       "      <td>29429.45218</td>\n",
       "      <td>white</td>\n",
       "      <td>28691.96422</td>\n",
       "      <td>0</td>\n",
       "    </tr>\n",
       "    <tr>\n",
       "      <th>2</th>\n",
       "      <td>4</td>\n",
       "      <td>49</td>\n",
       "      <td>F</td>\n",
       "      <td>0.0</td>\n",
       "      <td>87</td>\n",
       "      <td>38923</td>\n",
       "      <td>0</td>\n",
       "      <td>1</td>\n",
       "      <td>Own</td>\n",
       "      <td>20158</td>\n",
       "      <td>12/6/2016</td>\n",
       "      <td>Tuesday</td>\n",
       "      <td>Local</td>\n",
       "      <td>0</td>\n",
       "      <td>0.0</td>\n",
       "      <td>0</td>\n",
       "      <td>Broker</td>\n",
       "      <td>0</td>\n",
       "      <td>6283.888333</td>\n",
       "      <td>3.0</td>\n",
       "      <td>Compact</td>\n",
       "      <td>21701.18195</td>\n",
       "      <td>white</td>\n",
       "      <td>22090.94758</td>\n",
       "      <td>1</td>\n",
       "    </tr>\n",
       "    <tr>\n",
       "      <th>3</th>\n",
       "      <td>5</td>\n",
       "      <td>58</td>\n",
       "      <td>F</td>\n",
       "      <td>1.0</td>\n",
       "      <td>58</td>\n",
       "      <td>40605</td>\n",
       "      <td>1</td>\n",
       "      <td>0</td>\n",
       "      <td>Own</td>\n",
       "      <td>15024</td>\n",
       "      <td>5/5/2016</td>\n",
       "      <td>Thursday</td>\n",
       "      <td>Local</td>\n",
       "      <td>3</td>\n",
       "      <td>0.0</td>\n",
       "      <td>99</td>\n",
       "      <td>Broker</td>\n",
       "      <td>1</td>\n",
       "      <td>6169.747994</td>\n",
       "      <td>4.0</td>\n",
       "      <td>Medium</td>\n",
       "      <td>13198.27344</td>\n",
       "      <td>other</td>\n",
       "      <td>38329.58106</td>\n",
       "      <td>1</td>\n",
       "    </tr>\n",
       "    <tr>\n",
       "      <th>4</th>\n",
       "      <td>6</td>\n",
       "      <td>38</td>\n",
       "      <td>M</td>\n",
       "      <td>1.0</td>\n",
       "      <td>95</td>\n",
       "      <td>36380</td>\n",
       "      <td>1</td>\n",
       "      <td>0</td>\n",
       "      <td>Rent</td>\n",
       "      <td>50034</td>\n",
       "      <td>10/27/2015</td>\n",
       "      <td>Tuesday</td>\n",
       "      <td>Highway</td>\n",
       "      <td>0</td>\n",
       "      <td>1.0</td>\n",
       "      <td>7</td>\n",
       "      <td>Broker</td>\n",
       "      <td>0</td>\n",
       "      <td>4541.387150</td>\n",
       "      <td>7.0</td>\n",
       "      <td>Medium</td>\n",
       "      <td>38060.21122</td>\n",
       "      <td>gray</td>\n",
       "      <td>25876.56319</td>\n",
       "      <td>0</td>\n",
       "    </tr>\n",
       "  </tbody>\n",
       "</table>\n",
       "</div>"
      ],
      "text/plain": [
       "   claim_number  age_of_driver gender  marital_status  safty_rating  \\\n",
       "0             1             46      M             1.0            85   \n",
       "1             3             21      F             0.0            75   \n",
       "2             4             49      F             0.0            87   \n",
       "3             5             58      F             1.0            58   \n",
       "4             6             38      M             1.0            95   \n",
       "\n",
       "   annual_income  high_education_ind  address_change_ind living_status  \\\n",
       "0          38301                   1                   1          Rent   \n",
       "1          30445                   0                   1          Rent   \n",
       "2          38923                   0                   1           Own   \n",
       "3          40605                   1                   0           Own   \n",
       "4          36380                   1                   0          Rent   \n",
       "\n",
       "   zip_code  claim_date claim_day_of_week accident_site  past_num_of_claims  \\\n",
       "0     80006  12/16/2016            Friday         Local                   1   \n",
       "1     15021   2/12/2015          Thursday       Highway                   1   \n",
       "2     20158   12/6/2016           Tuesday         Local                   0   \n",
       "3     15024    5/5/2016          Thursday         Local                   3   \n",
       "4     50034  10/27/2015           Tuesday       Highway                   0   \n",
       "\n",
       "   witness_present_ind  liab_prct channel  policy_report_filed_ind  \\\n",
       "0                  0.0         74  Broker                        0   \n",
       "1                  1.0         79  Online                        0   \n",
       "2                  0.0          0  Broker                        0   \n",
       "3                  0.0         99  Broker                        1   \n",
       "4                  1.0          7  Broker                        0   \n",
       "\n",
       "   claim_est_payout  age_of_vehicle vehicle_category  vehicle_price  \\\n",
       "0       7530.940993             9.0          Compact    12885.45235   \n",
       "1       2966.024895             4.0            Large    29429.45218   \n",
       "2       6283.888333             3.0          Compact    21701.18195   \n",
       "3       6169.747994             4.0           Medium    13198.27344   \n",
       "4       4541.387150             7.0           Medium    38060.21122   \n",
       "\n",
       "  vehicle_color  vehicle_weight  fraud  \n",
       "0         white     16161.33381      0  \n",
       "1         white     28691.96422      0  \n",
       "2         white     22090.94758      1  \n",
       "3         other     38329.58106      1  \n",
       "4          gray     25876.56319      0  "
      ]
     },
     "execution_count": 236,
     "metadata": {},
     "output_type": "execute_result"
    }
   ],
   "source": [
    "df.head()"
   ]
  },
  {
   "cell_type": "code",
   "execution_count": 237,
   "id": "9a90f71a",
   "metadata": {},
   "outputs": [
    {
     "data": {
      "image/png": "[encoded data removed]",
      "text/plain": [
       "<Figure size 2000x1600 with 2 Axes>"
      ]
     },
     "metadata": {
      "needs_background": "light"
     },
     "output_type": "display_data"
    }
   ],
   "source": [
    "plt.figure(figsize=(10,8),dpi=200)\n",
    "corr = df.corr()\n",
    "sns.heatmap(data=corr)\n",
    "plt.xticks(fontsize=10)\n",
    "plt.yticks(fontsize=10);\n",
    "plt.savefig(folder + 'corr' +'.png',dpi=200)\n",
    "plt.show()"
   ]
  },
  {
   "cell_type": "code",
   "execution_count": 238,
   "id": "9f20fb63",
   "metadata": {},
   "outputs": [
    {
     "data": {
      "text/html": [
       "<div>\n",
       "<style scoped>\n",
       "    .dataframe tbody tr th:only-of-type {\n",
       "        vertical-align: middle;\n",
       "    }\n",
       "\n",
       "    .dataframe tbody tr th {\n",
       "        vertical-align: top;\n",
       "    }\n",
       "\n",
       "    .dataframe thead th {\n",
       "        text-align: right;\n",
       "    }\n",
       "</style>\n",
       "<table border=\"1\" class=\"dataframe\">\n",
       "  <thead>\n",
       "    <tr style=\"text-align: right;\">\n",
       "      <th></th>\n",
       "      <th>claim_number</th>\n",
       "      <th>age_of_driver</th>\n",
       "      <th>marital_status</th>\n",
       "      <th>safty_rating</th>\n",
       "      <th>annual_income</th>\n",
       "      <th>high_education_ind</th>\n",
       "      <th>address_change_ind</th>\n",
       "      <th>zip_code</th>\n",
       "      <th>past_num_of_claims</th>\n",
       "      <th>witness_present_ind</th>\n",
       "      <th>liab_prct</th>\n",
       "      <th>policy_report_filed_ind</th>\n",
       "      <th>claim_est_payout</th>\n",
       "      <th>age_of_vehicle</th>\n",
       "      <th>vehicle_price</th>\n",
       "      <th>vehicle_weight</th>\n",
       "      <th>fraud</th>\n",
       "    </tr>\n",
       "  </thead>\n",
       "  <tbody>\n",
       "    <tr>\n",
       "      <th>claim_number</th>\n",
       "      <td>1.000000</td>\n",
       "      <td>-0.009338</td>\n",
       "      <td>-0.000652</td>\n",
       "      <td>0.002897</td>\n",
       "      <td>-0.004340</td>\n",
       "      <td>0.002919</td>\n",
       "      <td>-0.011654</td>\n",
       "      <td>-0.005396</td>\n",
       "      <td>0.001580</td>\n",
       "      <td>-0.002298</td>\n",
       "      <td>0.015418</td>\n",
       "      <td>-0.003159</td>\n",
       "      <td>0.009851</td>\n",
       "      <td>-0.006860</td>\n",
       "      <td>0.002604</td>\n",
       "      <td>-0.000266</td>\n",
       "      <td>0.007354</td>\n",
       "    </tr>\n",
       "    <tr>\n",
       "      <th>age_of_driver</th>\n",
       "      <td>-0.009338</td>\n",
       "      <td>1.000000</td>\n",
       "      <td>0.067701</td>\n",
       "      <td>-0.017472</td>\n",
       "      <td>0.907018</td>\n",
       "      <td>0.004196</td>\n",
       "      <td>0.001139</td>\n",
       "      <td>-0.000789</td>\n",
       "      <td>-0.024351</td>\n",
       "      <td>0.005660</td>\n",
       "      <td>0.003558</td>\n",
       "      <td>0.001919</td>\n",
       "      <td>0.004152</td>\n",
       "      <td>0.004695</td>\n",
       "      <td>-0.019054</td>\n",
       "      <td>-0.011288</td>\n",
       "      <td>-0.059291</td>\n",
       "    </tr>\n",
       "    <tr>\n",
       "      <th>marital_status</th>\n",
       "      <td>-0.000652</td>\n",
       "      <td>0.067701</td>\n",
       "      <td>1.000000</td>\n",
       "      <td>-0.019447</td>\n",
       "      <td>0.066652</td>\n",
       "      <td>-0.001694</td>\n",
       "      <td>0.001979</td>\n",
       "      <td>-0.003646</td>\n",
       "      <td>-0.010953</td>\n",
       "      <td>0.000993</td>\n",
       "      <td>0.005594</td>\n",
       "      <td>-0.001601</td>\n",
       "      <td>0.002612</td>\n",
       "      <td>0.008617</td>\n",
       "      <td>0.003811</td>\n",
       "      <td>-0.014006</td>\n",
       "      <td>-0.078435</td>\n",
       "    </tr>\n",
       "    <tr>\n",
       "      <th>safty_rating</th>\n",
       "      <td>0.002897</td>\n",
       "      <td>-0.017472</td>\n",
       "      <td>-0.019447</td>\n",
       "      <td>1.000000</td>\n",
       "      <td>-0.010767</td>\n",
       "      <td>0.003022</td>\n",
       "      <td>-0.006362</td>\n",
       "      <td>-0.006070</td>\n",
       "      <td>0.011475</td>\n",
       "      <td>-0.004910</td>\n",
       "      <td>0.004564</td>\n",
       "      <td>0.000303</td>\n",
       "      <td>0.004552</td>\n",
       "      <td>0.010194</td>\n",
       "      <td>-0.007130</td>\n",
       "      <td>-0.003219</td>\n",
       "      <td>-0.050729</td>\n",
       "    </tr>\n",
       "    <tr>\n",
       "      <th>annual_income</th>\n",
       "      <td>-0.004340</td>\n",
       "      <td>0.907018</td>\n",
       "      <td>0.066652</td>\n",
       "      <td>-0.010767</td>\n",
       "      <td>1.000000</td>\n",
       "      <td>0.005697</td>\n",
       "      <td>0.000613</td>\n",
       "      <td>0.002849</td>\n",
       "      <td>-0.026720</td>\n",
       "      <td>0.004480</td>\n",
       "      <td>0.002247</td>\n",
       "      <td>-0.001087</td>\n",
       "      <td>0.004927</td>\n",
       "      <td>0.005132</td>\n",
       "      <td>-0.020064</td>\n",
       "      <td>-0.012396</td>\n",
       "      <td>-0.045646</td>\n",
       "    </tr>\n",
       "    <tr>\n",
       "      <th>high_education_ind</th>\n",
       "      <td>0.002919</td>\n",
       "      <td>0.004196</td>\n",
       "      <td>-0.001694</td>\n",
       "      <td>0.003022</td>\n",
       "      <td>0.005697</td>\n",
       "      <td>1.000000</td>\n",
       "      <td>0.011387</td>\n",
       "      <td>0.001375</td>\n",
       "      <td>0.005842</td>\n",
       "      <td>0.000426</td>\n",
       "      <td>0.003031</td>\n",
       "      <td>0.001254</td>\n",
       "      <td>-0.000763</td>\n",
       "      <td>-0.009948</td>\n",
       "      <td>-0.000383</td>\n",
       "      <td>0.002621</td>\n",
       "      <td>-0.098350</td>\n",
       "    </tr>\n",
       "    <tr>\n",
       "      <th>address_change_ind</th>\n",
       "      <td>-0.011654</td>\n",
       "      <td>0.001139</td>\n",
       "      <td>0.001979</td>\n",
       "      <td>-0.006362</td>\n",
       "      <td>0.000613</td>\n",
       "      <td>0.011387</td>\n",
       "      <td>1.000000</td>\n",
       "      <td>0.017621</td>\n",
       "      <td>0.011188</td>\n",
       "      <td>-0.008678</td>\n",
       "      <td>-0.008025</td>\n",
       "      <td>-0.001388</td>\n",
       "      <td>-0.007199</td>\n",
       "      <td>-0.001380</td>\n",
       "      <td>-0.003597</td>\n",
       "      <td>0.004810</td>\n",
       "      <td>0.072249</td>\n",
       "    </tr>\n",
       "    <tr>\n",
       "      <th>zip_code</th>\n",
       "      <td>-0.005396</td>\n",
       "      <td>-0.000789</td>\n",
       "      <td>-0.003646</td>\n",
       "      <td>-0.006070</td>\n",
       "      <td>0.002849</td>\n",
       "      <td>0.001375</td>\n",
       "      <td>0.017621</td>\n",
       "      <td>1.000000</td>\n",
       "      <td>0.000380</td>\n",
       "      <td>-0.006883</td>\n",
       "      <td>0.014195</td>\n",
       "      <td>0.000617</td>\n",
       "      <td>0.005358</td>\n",
       "      <td>0.004063</td>\n",
       "      <td>0.021401</td>\n",
       "      <td>-0.001034</td>\n",
       "      <td>-0.032322</td>\n",
       "    </tr>\n",
       "    <tr>\n",
       "      <th>past_num_of_claims</th>\n",
       "      <td>0.001580</td>\n",
       "      <td>-0.024351</td>\n",
       "      <td>-0.010953</td>\n",
       "      <td>0.011475</td>\n",
       "      <td>-0.026720</td>\n",
       "      <td>0.005842</td>\n",
       "      <td>0.011188</td>\n",
       "      <td>0.000380</td>\n",
       "      <td>1.000000</td>\n",
       "      <td>0.005176</td>\n",
       "      <td>-0.001435</td>\n",
       "      <td>0.252123</td>\n",
       "      <td>0.006735</td>\n",
       "      <td>0.005403</td>\n",
       "      <td>-0.001025</td>\n",
       "      <td>0.001536</td>\n",
       "      <td>0.118596</td>\n",
       "    </tr>\n",
       "    <tr>\n",
       "      <th>witness_present_ind</th>\n",
       "      <td>-0.002298</td>\n",
       "      <td>0.005660</td>\n",
       "      <td>0.000993</td>\n",
       "      <td>-0.004910</td>\n",
       "      <td>0.004480</td>\n",
       "      <td>0.000426</td>\n",
       "      <td>-0.008678</td>\n",
       "      <td>-0.006883</td>\n",
       "      <td>0.005176</td>\n",
       "      <td>1.000000</td>\n",
       "      <td>0.006040</td>\n",
       "      <td>0.064928</td>\n",
       "      <td>-0.006363</td>\n",
       "      <td>0.004248</td>\n",
       "      <td>0.025462</td>\n",
       "      <td>0.009849</td>\n",
       "      <td>-0.074150</td>\n",
       "    </tr>\n",
       "    <tr>\n",
       "      <th>liab_prct</th>\n",
       "      <td>0.015418</td>\n",
       "      <td>0.003558</td>\n",
       "      <td>0.005594</td>\n",
       "      <td>0.004564</td>\n",
       "      <td>0.002247</td>\n",
       "      <td>0.003031</td>\n",
       "      <td>-0.008025</td>\n",
       "      <td>0.014195</td>\n",
       "      <td>-0.001435</td>\n",
       "      <td>0.006040</td>\n",
       "      <td>1.000000</td>\n",
       "      <td>0.010231</td>\n",
       "      <td>0.012341</td>\n",
       "      <td>0.002463</td>\n",
       "      <td>0.016695</td>\n",
       "      <td>0.000347</td>\n",
       "      <td>0.001463</td>\n",
       "    </tr>\n",
       "    <tr>\n",
       "      <th>policy_report_filed_ind</th>\n",
       "      <td>-0.003159</td>\n",
       "      <td>0.001919</td>\n",
       "      <td>-0.001601</td>\n",
       "      <td>0.000303</td>\n",
       "      <td>-0.001087</td>\n",
       "      <td>0.001254</td>\n",
       "      <td>-0.001388</td>\n",
       "      <td>0.000617</td>\n",
       "      <td>0.252123</td>\n",
       "      <td>0.064928</td>\n",
       "      <td>0.010231</td>\n",
       "      <td>1.000000</td>\n",
       "      <td>-0.013609</td>\n",
       "      <td>-0.004830</td>\n",
       "      <td>0.008817</td>\n",
       "      <td>0.006687</td>\n",
       "      <td>0.030132</td>\n",
       "    </tr>\n",
       "    <tr>\n",
       "      <th>claim_est_payout</th>\n",
       "      <td>0.009851</td>\n",
       "      <td>0.004152</td>\n",
       "      <td>0.002612</td>\n",
       "      <td>0.004552</td>\n",
       "      <td>0.004927</td>\n",
       "      <td>-0.000763</td>\n",
       "      <td>-0.007199</td>\n",
       "      <td>0.005358</td>\n",
       "      <td>0.006735</td>\n",
       "      <td>-0.006363</td>\n",
       "      <td>0.012341</td>\n",
       "      <td>-0.013609</td>\n",
       "      <td>1.000000</td>\n",
       "      <td>-0.003014</td>\n",
       "      <td>0.003218</td>\n",
       "      <td>-0.005837</td>\n",
       "      <td>-0.016708</td>\n",
       "    </tr>\n",
       "    <tr>\n",
       "      <th>age_of_vehicle</th>\n",
       "      <td>-0.006860</td>\n",
       "      <td>0.004695</td>\n",
       "      <td>0.008617</td>\n",
       "      <td>0.010194</td>\n",
       "      <td>0.005132</td>\n",
       "      <td>-0.009948</td>\n",
       "      <td>-0.001380</td>\n",
       "      <td>0.004063</td>\n",
       "      <td>0.005403</td>\n",
       "      <td>0.004248</td>\n",
       "      <td>0.002463</td>\n",
       "      <td>-0.004830</td>\n",
       "      <td>-0.003014</td>\n",
       "      <td>1.000000</td>\n",
       "      <td>-0.006833</td>\n",
       "      <td>-0.003131</td>\n",
       "      <td>0.052197</td>\n",
       "    </tr>\n",
       "    <tr>\n",
       "      <th>vehicle_price</th>\n",
       "      <td>0.002604</td>\n",
       "      <td>-0.019054</td>\n",
       "      <td>0.003811</td>\n",
       "      <td>-0.007130</td>\n",
       "      <td>-0.020064</td>\n",
       "      <td>-0.000383</td>\n",
       "      <td>-0.003597</td>\n",
       "      <td>0.021401</td>\n",
       "      <td>-0.001025</td>\n",
       "      <td>0.025462</td>\n",
       "      <td>0.016695</td>\n",
       "      <td>0.008817</td>\n",
       "      <td>0.003218</td>\n",
       "      <td>-0.006833</td>\n",
       "      <td>1.000000</td>\n",
       "      <td>0.010852</td>\n",
       "      <td>0.000746</td>\n",
       "    </tr>\n",
       "    <tr>\n",
       "      <th>vehicle_weight</th>\n",
       "      <td>-0.000266</td>\n",
       "      <td>-0.011288</td>\n",
       "      <td>-0.014006</td>\n",
       "      <td>-0.003219</td>\n",
       "      <td>-0.012396</td>\n",
       "      <td>0.002621</td>\n",
       "      <td>0.004810</td>\n",
       "      <td>-0.001034</td>\n",
       "      <td>0.001536</td>\n",
       "      <td>0.009849</td>\n",
       "      <td>0.000347</td>\n",
       "      <td>0.006687</td>\n",
       "      <td>-0.005837</td>\n",
       "      <td>-0.003131</td>\n",
       "      <td>0.010852</td>\n",
       "      <td>1.000000</td>\n",
       "      <td>0.009484</td>\n",
       "    </tr>\n",
       "    <tr>\n",
       "      <th>fraud</th>\n",
       "      <td>0.007354</td>\n",
       "      <td>-0.059291</td>\n",
       "      <td>-0.078435</td>\n",
       "      <td>-0.050729</td>\n",
       "      <td>-0.045646</td>\n",
       "      <td>-0.098350</td>\n",
       "      <td>0.072249</td>\n",
       "      <td>-0.032322</td>\n",
       "      <td>0.118596</td>\n",
       "      <td>-0.074150</td>\n",
       "      <td>0.001463</td>\n",
       "      <td>0.030132</td>\n",
       "      <td>-0.016708</td>\n",
       "      <td>0.052197</td>\n",
       "      <td>0.000746</td>\n",
       "      <td>0.009484</td>\n",
       "      <td>1.000000</td>\n",
       "    </tr>\n",
       "  </tbody>\n",
       "</table>\n",
       "</div>"
      ],
      "text/plain": [
       "                         claim_number  age_of_driver  marital_status  \\\n",
       "claim_number                 1.000000      -0.009338       -0.000652   \n",
       "age_of_driver               -0.009338       1.000000        0.067701   \n",
       "marital_status              -0.000652       0.067701        1.000000   \n",
       "safty_rating                 0.002897      -0.017472       -0.019447   \n",
       "annual_income               -0.004340       0.907018        0.066652   \n",
       "high_education_ind           0.002919       0.004196       -0.001694   \n",
       "address_change_ind          -0.011654       0.001139        0.001979   \n",
       "zip_code                    -0.005396      -0.000789       -0.003646   \n",
       "past_num_of_claims           0.001580      -0.024351       -0.010953   \n",
       "witness_present_ind         -0.002298       0.005660        0.000993   \n",
       "liab_prct                    0.015418       0.003558        0.005594   \n",
       "policy_report_filed_ind     -0.003159       0.001919       -0.001601   \n",
       "claim_est_payout             0.009851       0.004152        0.002612   \n",
       "age_of_vehicle              -0.006860       0.004695        0.008617   \n",
       "vehicle_price                0.002604      -0.019054        0.003811   \n",
       "vehicle_weight              -0.000266      -0.011288       -0.014006   \n",
       "fraud                        0.007354      -0.059291       -0.078435   \n",
       "\n",
       "                         safty_rating  annual_income  high_education_ind  \\\n",
       "claim_number                 0.002897      -0.004340            0.002919   \n",
       "age_of_driver               -0.017472       0.907018            0.004196   \n",
       "marital_status              -0.019447       0.066652           -0.001694   \n",
       "safty_rating                 1.000000      -0.010767            0.003022   \n",
       "annual_income               -0.010767       1.000000            0.005697   \n",
       "high_education_ind           0.003022       0.005697            1.000000   \n",
       "address_change_ind          -0.006362       0.000613            0.011387   \n",
       "zip_code                    -0.006070       0.002849            0.001375   \n",
       "past_num_of_claims           0.011475      -0.026720            0.005842   \n",
       "witness_present_ind         -0.004910       0.004480            0.000426   \n",
       "liab_prct                    0.004564       0.002247            0.003031   \n",
       "policy_report_filed_ind      0.000303      -0.001087            0.001254   \n",
       "claim_est_payout             0.004552       0.004927           -0.000763   \n",
       "age_of_vehicle               0.010194       0.005132           -0.009948   \n",
       "vehicle_price               -0.007130      -0.020064           -0.000383   \n",
       "vehicle_weight              -0.003219      -0.012396            0.002621   \n",
       "fraud                       -0.050729      -0.045646           -0.098350   \n",
       "\n",
       "                         address_change_ind  zip_code  past_num_of_claims  \\\n",
       "claim_number                      -0.011654 -0.005396            0.001580   \n",
       "age_of_driver                      0.001139 -0.000789           -0.024351   \n",
       "marital_status                     0.001979 -0.003646           -0.010953   \n",
       "safty_rating                      -0.006362 -0.006070            0.011475   \n",
       "annual_income                      0.000613  0.002849           -0.026720   \n",
       "high_education_ind                 0.011387  0.001375            0.005842   \n",
       "address_change_ind                 1.000000  0.017621            0.011188   \n",
       "zip_code                           0.017621  1.000000            0.000380   \n",
       "past_num_of_claims                 0.011188  0.000380            1.000000   \n",
       "witness_present_ind               -0.008678 -0.006883            0.005176   \n",
       "liab_prct                         -0.008025  0.014195           -0.001435   \n",
       "policy_report_filed_ind           -0.001388  0.000617            0.252123   \n",
       "claim_est_payout                  -0.007199  0.005358            0.006735   \n",
       "age_of_vehicle                    -0.001380  0.004063            0.005403   \n",
       "vehicle_price                     -0.003597  0.021401           -0.001025   \n",
       "vehicle_weight                     0.004810 -0.001034            0.001536   \n",
       "fraud                              0.072249 -0.032322            0.118596   \n",
       "\n",
       "                         witness_present_ind  liab_prct  \\\n",
       "claim_number                       -0.002298   0.015418   \n",
       "age_of_driver                       0.005660   0.003558   \n",
       "marital_status                      0.000993   0.005594   \n",
       "safty_rating                       -0.004910   0.004564   \n",
       "annual_income                       0.004480   0.002247   \n",
       "high_education_ind                  0.000426   0.003031   \n",
       "address_change_ind                 -0.008678  -0.008025   \n",
       "zip_code                           -0.006883   0.014195   \n",
       "past_num_of_claims                  0.005176  -0.001435   \n",
       "witness_present_ind                 1.000000   0.006040   \n",
       "liab_prct                           0.006040   1.000000   \n",
       "policy_report_filed_ind             0.064928   0.010231   \n",
       "claim_est_payout                   -0.006363   0.012341   \n",
       "age_of_vehicle                      0.004248   0.002463   \n",
       "vehicle_price                       0.025462   0.016695   \n",
       "vehicle_weight                      0.009849   0.000347   \n",
       "fraud                              -0.074150   0.001463   \n",
       "\n",
       "                         policy_report_filed_ind  claim_est_payout  \\\n",
       "claim_number                           -0.003159          0.009851   \n",
       "age_of_driver                           0.001919          0.004152   \n",
       "marital_status                         -0.001601          0.002612   \n",
       "safty_rating                            0.000303          0.004552   \n",
       "annual_income                          -0.001087          0.004927   \n",
       "high_education_ind                      0.001254         -0.000763   \n",
       "address_change_ind                     -0.001388         -0.007199   \n",
       "zip_code                                0.000617          0.005358   \n",
       "past_num_of_claims                      0.252123          0.006735   \n",
       "witness_present_ind                     0.064928         -0.006363   \n",
       "liab_prct                               0.010231          0.012341   \n",
       "policy_report_filed_ind                 1.000000         -0.013609   \n",
       "claim_est_payout                       -0.013609          1.000000   \n",
       "age_of_vehicle                         -0.004830         -0.003014   \n",
       "vehicle_price                           0.008817          0.003218   \n",
       "vehicle_weight                          0.006687         -0.005837   \n",
       "fraud                                   0.030132         -0.016708   \n",
       "\n",
       "                         age_of_vehicle  vehicle_price  vehicle_weight  \\\n",
       "claim_number                  -0.006860       0.002604       -0.000266   \n",
       "age_of_driver                  0.004695      -0.019054       -0.011288   \n",
       "marital_status                 0.008617       0.003811       -0.014006   \n",
       "safty_rating                   0.010194      -0.007130       -0.003219   \n",
       "annual_income                  0.005132      -0.020064       -0.012396   \n",
       "high_education_ind            -0.009948      -0.000383        0.002621   \n",
       "address_change_ind            -0.001380      -0.003597        0.004810   \n",
       "zip_code                       0.004063       0.021401       -0.001034   \n",
       "past_num_of_claims             0.005403      -0.001025        0.001536   \n",
       "witness_present_ind            0.004248       0.025462        0.009849   \n",
       "liab_prct                      0.002463       0.016695        0.000347   \n",
       "policy_report_filed_ind       -0.004830       0.008817        0.006687   \n",
       "claim_est_payout              -0.003014       0.003218       -0.005837   \n",
       "age_of_vehicle                 1.000000      -0.006833       -0.003131   \n",
       "vehicle_price                 -0.006833       1.000000        0.010852   \n",
       "vehicle_weight                -0.003131       0.010852        1.000000   \n",
       "fraud                          0.052197       0.000746        0.009484   \n",
       "\n",
       "                            fraud  \n",
       "claim_number             0.007354  \n",
       "age_of_driver           -0.059291  \n",
       "marital_status          -0.078435  \n",
       "safty_rating            -0.050729  \n",
       "annual_income           -0.045646  \n",
       "high_education_ind      -0.098350  \n",
       "address_change_ind       0.072249  \n",
       "zip_code                -0.032322  \n",
       "past_num_of_claims       0.118596  \n",
       "witness_present_ind     -0.074150  \n",
       "liab_prct                0.001463  \n",
       "policy_report_filed_ind  0.030132  \n",
       "claim_est_payout        -0.016708  \n",
       "age_of_vehicle           0.052197  \n",
       "vehicle_price            0.000746  \n",
       "vehicle_weight           0.009484  \n",
       "fraud                    1.000000  "
      ]
     },
     "execution_count": 238,
     "metadata": {},
     "output_type": "execute_result"
    }
   ],
   "source": [
    "corr"
   ]
  },
  {
   "cell_type": "code",
   "execution_count": 239,
   "id": "37a09bf7",
   "metadata": {},
   "outputs": [],
   "source": [
    "folder = r'/Users/SFP5a/Documents/Teclent ML camp/Homework/Final_Project_2/'\n",
    "def plot(x):\n",
    "    plt.figure(figsize=(8,6),dpi=200)\n",
    "    sns.countplot(x=x,hue='fraud',data=df)\n",
    "    plt.xticks(rotation=90,fontsize=15)\n",
    "    plt.yticks(fontsize=15)\n",
    "    plt.xlabel(x,fontsize=20)\n",
    "    plt.ylabel('count',fontsize=20)\n",
    "    plt.legend(fontsize=20)\n",
    "    plt.savefig(folder + x +'.png',dpi=200)\n",
    "    plt.show()"
   ]
  },
  {
   "cell_type": "code",
   "execution_count": 240,
   "id": "a6218de0",
   "metadata": {
    "scrolled": false
   },
   "outputs": [],
   "source": [
    "# for column in list(df.columns):\n",
    "#     plot(column)"
   ]
  },
  {
   "cell_type": "code",
   "execution_count": 152,
   "id": "c8c907b4",
   "metadata": {
    "scrolled": true
   },
   "outputs": [
    {
     "data": {
      "text/plain": [
       "<Figure size 576x432 with 0 Axes>"
      ]
     },
     "metadata": {},
     "output_type": "display_data"
    },
    {
     "data": {
      "image/png": "[encoded data removed]",
      "text/plain": [
       "<Figure size 402.375x360 with 1 Axes>"
      ]
     },
     "metadata": {
      "needs_background": "light"
     },
     "output_type": "display_data"
    }
   ],
   "source": [
    "plt.figure(figsize=(8,6))\n",
    "sns.displot(x='age_of_driver',hue='fraud',kind='hist',data=df)\n",
    "plt.xticks(fontsize=12)\n",
    "plt.yticks(fontsize=12)\n",
    "plt.xlabel('Age',fontsize=12)\n",
    "plt.ylabel('Count',fontsize=12)\n",
    "plt.xlim(0,100)\n",
    "plt.savefig(folder + 'age' +'.png',dpi=200)"
   ]
  },
  {
   "cell_type": "code",
   "execution_count": 162,
   "id": "34519981",
   "metadata": {},
   "outputs": [
    {
     "name": "stdout",
     "output_type": "stream",
     "text": [
      "claim_number 17998\n",
      "age_of_driver 87\n",
      "gender 2\n",
      "marital_status 3\n",
      "safty_rating 100\n",
      "annual_income 2693\n",
      "high_education_ind 2\n",
      "address_change_ind 2\n",
      "living_status 2\n",
      "zip_code 276\n",
      "claim_date 731\n",
      "claim_day_of_week 7\n",
      "accident_site 3\n",
      "past_num_of_claims 7\n",
      "witness_present_ind 3\n",
      "liab_prct 101\n",
      "channel 3\n",
      "policy_report_filed_ind 2\n",
      "claim_est_payout 17982\n",
      "age_of_vehicle 18\n",
      "vehicle_category 3\n",
      "vehicle_price 17998\n",
      "vehicle_color 7\n",
      "vehicle_weight 17998\n",
      "fraud 2\n"
     ]
    }
   ],
   "source": [
    "for column in list(df.columns):\n",
    "    print(column, len(df[column].unique()))"
   ]
  },
  {
   "cell_type": "code",
   "execution_count": 164,
   "id": "aa5397db",
   "metadata": {},
   "outputs": [],
   "source": [
    "# sns.pairplot(data=df)"
   ]
  },
  {
   "cell_type": "code",
   "execution_count": 266,
   "id": "8946742c",
   "metadata": {},
   "outputs": [
    {
     "data": {
      "text/plain": [
       "731"
      ]
     },
     "execution_count": 266,
     "metadata": {},
     "output_type": "execute_result"
    }
   ],
   "source": [
    "len(df.claim_date.unique())"
   ]
  },
  {
   "cell_type": "markdown",
   "id": "2d5834e5",
   "metadata": {},
   "source": [
    "## baseline model \n",
    "\n"
   ]
  },
  {
   "cell_type": "code",
   "execution_count": 924,
   "id": "89a99561",
   "metadata": {},
   "outputs": [],
   "source": [
    "features = list(df.columns)\n",
    "for column in ['fraud','claim_number','claim_date']:\n",
    "    features.remove(column)\n",
    "\n",
    "target = 'fraud'\n",
    "X = df[features]\n",
    "y = df['fraud']"
   ]
  },
  {
   "cell_type": "code",
   "execution_count": 925,
   "id": "23f8e7b8",
   "metadata": {},
   "outputs": [
    {
     "data": {
      "text/plain": [
       "array([0, 1])"
      ]
     },
     "execution_count": 925,
     "metadata": {},
     "output_type": "execute_result"
    }
   ],
   "source": [
    "y.unique()"
   ]
  },
  {
   "cell_type": "code",
   "execution_count": 926,
   "id": "b99b6c2e",
   "metadata": {},
   "outputs": [],
   "source": [
    "from sklearn.model_selection import train_test_split"
   ]
  },
  {
   "cell_type": "code",
   "execution_count": 927,
   "id": "6bd1daa9",
   "metadata": {},
   "outputs": [],
   "source": [
    "X_train, X_test, y_train, y_test = train_test_split(X, y, test_size=0.3, random_state=101)"
   ]
  },
  {
   "cell_type": "code",
   "execution_count": 928,
   "id": "e982481d",
   "metadata": {},
   "outputs": [],
   "source": [
    "class Base_Transformer():\n",
    "    def fit(self,X,y=None):\n",
    "        df = pd.DataFrame()\n",
    "        df = pd.get_dummies(X,drop_first=True)\n",
    "        self.mean = df.mean()\n",
    "        \n",
    "    def transform(self,X,y=None):\n",
    "        df = pd.DataFrame()\n",
    "        df = pd.get_dummies(X,drop_first=True)\n",
    "        return df.fillna(self.mean)\n",
    "    \n",
    "    def fit_transform(self,X,y=None):\n",
    "        self.fit(X,y)\n",
    "        return self.transform(X,y)\n",
    "        \n",
    "    \n",
    "\n",
    "        \n",
    "        "
   ]
  },
  {
   "cell_type": "code",
   "execution_count": 929,
   "id": "532fcfb6",
   "metadata": {},
   "outputs": [],
   "source": [
    "bf = Base_Transformer()\n",
    "bf_X = bf.fit_transform(X_train,y_train)\n",
    "# tf_X.info()"
   ]
  },
  {
   "cell_type": "code",
   "execution_count": 930,
   "id": "175a431f",
   "metadata": {},
   "outputs": [],
   "source": [
    "from sklearn.ensemble import RandomForestClassifier"
   ]
  },
  {
   "cell_type": "code",
   "execution_count": 931,
   "id": "bad93bd7",
   "metadata": {},
   "outputs": [],
   "source": [
    "from sklearn.pipeline import Pipeline"
   ]
  },
  {
   "cell_type": "code",
   "execution_count": 932,
   "id": "3cd41828",
   "metadata": {},
   "outputs": [],
   "source": [
    "steps = [('bf',Transformer()),\n",
    "        ('rf',RandomForestClassifier(n_estimators=10,random_state=101))]\n",
    "model = Pipeline(steps)\n",
    "model = model.fit(X_train,y_train)"
   ]
  },
  {
   "cell_type": "code",
   "execution_count": 933,
   "id": "696f4ee9",
   "metadata": {},
   "outputs": [],
   "source": [
    "y_train_pred = model.predict(X_train)\n",
    "y_test_pred = model.predict(X_test)"
   ]
  },
  {
   "cell_type": "code",
   "execution_count": 934,
   "id": "d01b148e",
   "metadata": {},
   "outputs": [],
   "source": [
    "from sklearn.metrics import balanced_accuracy_score, accuracy_score, precision_score, recall_score,f1_score, classification_report, confusion_matrix, plot_confusion_matrix"
   ]
  },
  {
   "cell_type": "code",
   "execution_count": 937,
   "id": "8e9cd290",
   "metadata": {},
   "outputs": [
    {
     "name": "stdout",
     "output_type": "stream",
     "text": [
      "                   pre       rec       spe        f1       geo       iba       sup\n",
      "\n",
      "          0       0.85      0.99      0.04      0.91      0.20      0.04      4552\n",
      "          1       0.40      0.04      0.99      0.07      0.20      0.03       845\n",
      "\n",
      "avg / total       0.78      0.84      0.19      0.78      0.20      0.04      5397\n",
      "\n"
     ]
    }
   ],
   "source": [
    "print(classification_report_imbalanced(y_test,y_test_pred))"
   ]
  },
  {
   "cell_type": "code",
   "execution_count": 806,
   "id": "61a2e23f",
   "metadata": {},
   "outputs": [
    {
     "data": {
      "text/plain": [
       "0.5141443776583022"
      ]
     },
     "execution_count": 806,
     "metadata": {},
     "output_type": "execute_result"
    }
   ],
   "source": [
    "balanced_accuracy_score(y_test,y_test_pred)"
   ]
  },
  {
   "cell_type": "code",
   "execution_count": 936,
   "id": "3382d2e9",
   "metadata": {},
   "outputs": [
    {
     "name": "stdout",
     "output_type": "stream",
     "text": [
      "              precision    recall  f1-score   support\n",
      "\n",
      "           0       0.98      1.00      0.99     10621\n",
      "           1       1.00      0.87      0.93      1970\n",
      "\n",
      "    accuracy                           0.98     12591\n",
      "   macro avg       0.99      0.93      0.96     12591\n",
      "weighted avg       0.98      0.98      0.98     12591\n",
      "\n"
     ]
    }
   ],
   "source": [
    "print(classification_report(y_train,y_train_pred))"
   ]
  },
  {
   "cell_type": "code",
   "execution_count": 804,
   "id": "959e5a1f",
   "metadata": {},
   "outputs": [
    {
     "name": "stderr",
     "output_type": "stream",
     "text": [
      "/Users/SFP5a/Library/Python/3.10/lib/python/site-packages/sklearn/utils/deprecation.py:87: FutureWarning: Function plot_confusion_matrix is deprecated; Function `plot_confusion_matrix` is deprecated in 1.0 and will be removed in 1.2. Use one of the class methods: ConfusionMatrixDisplay.from_predictions or ConfusionMatrixDisplay.from_estimator.\n",
      "  warnings.warn(msg, category=FutureWarning)\n"
     ]
    },
    {
     "data": {
      "text/plain": [
       "<sklearn.metrics._plot.confusion_matrix.ConfusionMatrixDisplay at 0x1460cb460>"
      ]
     },
     "execution_count": 804,
     "metadata": {},
     "output_type": "execute_result"
    },
    {
     "data": {
      "image/png": "[encoded data removed]",
      "text/plain": [
       "<Figure size 432x288 with 2 Axes>"
      ]
     },
     "metadata": {
      "needs_background": "light"
     },
     "output_type": "display_data"
    }
   ],
   "source": [
    "plot_confusion_matrix(model,X_test,y_test)"
   ]
  },
  {
   "cell_type": "code",
   "execution_count": 805,
   "id": "14a1e383",
   "metadata": {},
   "outputs": [
    {
     "name": "stderr",
     "output_type": "stream",
     "text": [
      "/Users/SFP5a/Library/Python/3.10/lib/python/site-packages/sklearn/utils/deprecation.py:87: FutureWarning: Function plot_confusion_matrix is deprecated; Function `plot_confusion_matrix` is deprecated in 1.0 and will be removed in 1.2. Use one of the class methods: ConfusionMatrixDisplay.from_predictions or ConfusionMatrixDisplay.from_estimator.\n",
      "  warnings.warn(msg, category=FutureWarning)\n"
     ]
    },
    {
     "data": {
      "text/plain": [
       "<sklearn.metrics._plot.confusion_matrix.ConfusionMatrixDisplay at 0x180f21e10>"
      ]
     },
     "execution_count": 805,
     "metadata": {},
     "output_type": "execute_result"
    },
    {
     "data": {
      "image/png": "[encoded data removed]",
      "text/plain": [
       "<Figure size 432x288 with 2 Axes>"
      ]
     },
     "metadata": {
      "needs_background": "light"
     },
     "output_type": "display_data"
    }
   ],
   "source": [
    "plot_confusion_matrix(model,X_train,y_train)"
   ]
  },
  {
   "cell_type": "markdown",
   "id": "12b01fe0",
   "metadata": {},
   "source": [
    "## model_1 "
   ]
  },
  {
   "cell_type": "markdown",
   "id": "8c07a2a5",
   "metadata": {},
   "source": [
    "### EDA"
   ]
  },
  {
   "cell_type": "markdown",
   "id": "08d05f20",
   "metadata": {},
   "source": [
    "#### visualize date related features"
   ]
  },
  {
   "cell_type": "code",
   "execution_count": 275,
   "id": "cc1e53d3",
   "metadata": {},
   "outputs": [
    {
     "name": "stdout",
     "output_type": "stream",
     "text": [
      "year [2016 2015]\n",
      "month [12  2  5 10 11  3  1  9  7  4  6  8]\n",
      "day [16 12  6  5 27 14  7 31  3 11 20 30 19 23 25 24 26  9  4 13 15  2 10  1\n",
      " 18  8 21 22 29 17 28]\n"
     ]
    }
   ],
   "source": [
    "# transform date\n",
    "claim_date = pd.to_datetime(df.claim_date)\n",
    "claim_year = claim_date.dt.year\n",
    "claim_month = claim_date.dt.month\n",
    "claim_day = claim_date.dt.day\n",
    "print('year',claim_year.unique())\n",
    "print('month',claim_month.unique())\n",
    "print('day',claim_day.unique())"
   ]
  },
  {
   "cell_type": "code",
   "execution_count": 280,
   "id": "4f85403d",
   "metadata": {},
   "outputs": [
    {
     "name": "stderr",
     "output_type": "stream",
     "text": [
      "/var/folders/d9/m8w0rn2n6wv40ms83wcdcqs00000gp/T/ipykernel_20254/3117155938.py:2: SettingWithCopyWarning: \n",
      "A value is trying to be set on a copy of a slice from a DataFrame.\n",
      "Try using .loc[row_indexer,col_indexer] = value instead\n",
      "\n",
      "See the caveats in the documentation: https://pandas.pydata.org/pandas-docs/stable/user_guide/indexing.html#returning-a-view-versus-a-copy\n",
      "  df_date['year'] = claim_year\n",
      "/var/folders/d9/m8w0rn2n6wv40ms83wcdcqs00000gp/T/ipykernel_20254/3117155938.py:3: SettingWithCopyWarning: \n",
      "A value is trying to be set on a copy of a slice from a DataFrame.\n",
      "Try using .loc[row_indexer,col_indexer] = value instead\n",
      "\n",
      "See the caveats in the documentation: https://pandas.pydata.org/pandas-docs/stable/user_guide/indexing.html#returning-a-view-versus-a-copy\n",
      "  df_date['month'] = claim_month\n",
      "/var/folders/d9/m8w0rn2n6wv40ms83wcdcqs00000gp/T/ipykernel_20254/3117155938.py:4: SettingWithCopyWarning: \n",
      "A value is trying to be set on a copy of a slice from a DataFrame.\n",
      "Try using .loc[row_indexer,col_indexer] = value instead\n",
      "\n",
      "See the caveats in the documentation: https://pandas.pydata.org/pandas-docs/stable/user_guide/indexing.html#returning-a-view-versus-a-copy\n",
      "  df_date['day'] = claim_day\n"
     ]
    },
    {
     "data": {
      "text/html": [
       "<div>\n",
       "<style scoped>\n",
       "    .dataframe tbody tr th:only-of-type {\n",
       "        vertical-align: middle;\n",
       "    }\n",
       "\n",
       "    .dataframe tbody tr th {\n",
       "        vertical-align: top;\n",
       "    }\n",
       "\n",
       "    .dataframe thead th {\n",
       "        text-align: right;\n",
       "    }\n",
       "</style>\n",
       "<table border=\"1\" class=\"dataframe\">\n",
       "  <thead>\n",
       "    <tr style=\"text-align: right;\">\n",
       "      <th></th>\n",
       "      <th>fraud</th>\n",
       "      <th>claim_day_of_week</th>\n",
       "      <th>year</th>\n",
       "      <th>month</th>\n",
       "      <th>day</th>\n",
       "    </tr>\n",
       "  </thead>\n",
       "  <tbody>\n",
       "    <tr>\n",
       "      <th>0</th>\n",
       "      <td>0</td>\n",
       "      <td>Friday</td>\n",
       "      <td>2016</td>\n",
       "      <td>12</td>\n",
       "      <td>16</td>\n",
       "    </tr>\n",
       "    <tr>\n",
       "      <th>1</th>\n",
       "      <td>0</td>\n",
       "      <td>Thursday</td>\n",
       "      <td>2015</td>\n",
       "      <td>2</td>\n",
       "      <td>12</td>\n",
       "    </tr>\n",
       "    <tr>\n",
       "      <th>2</th>\n",
       "      <td>1</td>\n",
       "      <td>Tuesday</td>\n",
       "      <td>2016</td>\n",
       "      <td>12</td>\n",
       "      <td>6</td>\n",
       "    </tr>\n",
       "    <tr>\n",
       "      <th>3</th>\n",
       "      <td>1</td>\n",
       "      <td>Thursday</td>\n",
       "      <td>2016</td>\n",
       "      <td>5</td>\n",
       "      <td>5</td>\n",
       "    </tr>\n",
       "    <tr>\n",
       "      <th>4</th>\n",
       "      <td>0</td>\n",
       "      <td>Tuesday</td>\n",
       "      <td>2015</td>\n",
       "      <td>10</td>\n",
       "      <td>27</td>\n",
       "    </tr>\n",
       "  </tbody>\n",
       "</table>\n",
       "</div>"
      ],
      "text/plain": [
       "   fraud claim_day_of_week  year  month  day\n",
       "0      0            Friday  2016     12   16\n",
       "1      0          Thursday  2015      2   12\n",
       "2      1           Tuesday  2016     12    6\n",
       "3      1          Thursday  2016      5    5\n",
       "4      0           Tuesday  2015     10   27"
      ]
     },
     "execution_count": 280,
     "metadata": {},
     "output_type": "execute_result"
    }
   ],
   "source": [
    "df_date = df[['fraud','claim_day_of_week']]\n",
    "df_date['year'] = claim_year\n",
    "df_date['month'] = claim_month\n",
    "df_date['day'] = claim_day\n",
    "df_date.head()"
   ]
  },
  {
   "cell_type": "code",
   "execution_count": 279,
   "id": "83b7055a",
   "metadata": {},
   "outputs": [
    {
     "data": {
      "text/plain": [
       "<AxesSubplot:xlabel='day', ylabel='count'>"
      ]
     },
     "execution_count": 279,
     "metadata": {},
     "output_type": "execute_result"
    },
    {
     "data": {
      "image/png": "[encoded data removed]",
      "text/plain": [
       "<Figure size 432x288 with 1 Axes>"
      ]
     },
     "metadata": {
      "needs_background": "light"
     },
     "output_type": "display_data"
    }
   ],
   "source": [
    "sns.countplot(x='day',hue='fraud',data=df_date)"
   ]
  },
  {
   "cell_type": "code",
   "execution_count": 281,
   "id": "043d7d6e",
   "metadata": {},
   "outputs": [
    {
     "data": {
      "text/plain": [
       "<AxesSubplot:xlabel='claim_day_of_week', ylabel='count'>"
      ]
     },
     "execution_count": 281,
     "metadata": {},
     "output_type": "execute_result"
    },
    {
     "data": {
      "image/png": "[encoded data removed]",
      "text/plain": [
       "<Figure size 432x288 with 1 Axes>"
      ]
     },
     "metadata": {
      "needs_background": "light"
     },
     "output_type": "display_data"
    }
   ],
   "source": [
    "sns.countplot(x='claim_day_of_week',hue='fraud',data=df_date)"
   ]
  },
  {
   "cell_type": "code",
   "execution_count": 297,
   "id": "45e72b6e",
   "metadata": {},
   "outputs": [
    {
     "name": "stdout",
     "output_type": "stream",
     "text": [
      "<class 'pandas.core.frame.DataFrame'>\n",
      "RangeIndex: 17998 entries, 0 to 17997\n",
      "Data columns (total 25 columns):\n",
      " #   Column                   Non-Null Count  Dtype  \n",
      "---  ------                   --------------  -----  \n",
      " 0   claim_number             17998 non-null  int64  \n",
      " 1   age_of_driver            17998 non-null  int64  \n",
      " 2   gender                   17998 non-null  object \n",
      " 3   marital_status           17993 non-null  float64\n",
      " 4   safty_rating             17998 non-null  int64  \n",
      " 5   annual_income            17998 non-null  int64  \n",
      " 6   high_education_ind       17998 non-null  int64  \n",
      " 7   address_change_ind       17998 non-null  int64  \n",
      " 8   living_status            17998 non-null  object \n",
      " 9   zip_code                 17998 non-null  int64  \n",
      " 10  claim_date               17998 non-null  object \n",
      " 11  claim_day_of_week        17998 non-null  object \n",
      " 12  accident_site            17998 non-null  object \n",
      " 13  past_num_of_claims       17998 non-null  int64  \n",
      " 14  witness_present_ind      17866 non-null  float64\n",
      " 15  liab_prct                17998 non-null  int64  \n",
      " 16  channel                  17998 non-null  object \n",
      " 17  policy_report_filed_ind  17998 non-null  int64  \n",
      " 18  claim_est_payout         17981 non-null  float64\n",
      " 19  age_of_vehicle           17990 non-null  float64\n",
      " 20  vehicle_category         17998 non-null  object \n",
      " 21  vehicle_price            17998 non-null  float64\n",
      " 22  vehicle_color            17998 non-null  object \n",
      " 23  vehicle_weight           17998 non-null  float64\n",
      " 24  fraud                    17998 non-null  int64  \n",
      "dtypes: float64(6), int64(11), object(8)\n",
      "memory usage: 3.4+ MB\n"
     ]
    }
   ],
   "source": [
    "df.info()"
   ]
  },
  {
   "cell_type": "markdown",
   "id": "16a9135f",
   "metadata": {},
   "source": [
    "#### Visualize Insurer related features"
   ]
  },
  {
   "cell_type": "code",
   "execution_count": 352,
   "id": "77c63972",
   "metadata": {},
   "outputs": [],
   "source": [
    "df_insurer = df[['age_of_driver', 'gender', 'marital_status',\n",
    "       'safty_rating', 'annual_income', 'high_education_ind',\n",
    "       'address_change_ind', 'living_status', 'zip_code','past_num_of_claims','fraud']]"
   ]
  },
  {
   "cell_type": "code",
   "execution_count": 457,
   "id": "199154da",
   "metadata": {},
   "outputs": [
    {
     "data": {
      "text/plain": [
       "(17998, 11)"
      ]
     },
     "execution_count": 457,
     "metadata": {},
     "output_type": "execute_result"
    }
   ],
   "source": [
    "df_insurer.shape"
   ]
  },
  {
   "cell_type": "code",
   "execution_count": 296,
   "id": "23ba3a40",
   "metadata": {},
   "outputs": [
    {
     "data": {
      "text/plain": [
       "(0.0, 100.0)"
      ]
     },
     "execution_count": 296,
     "metadata": {},
     "output_type": "execute_result"
    },
    {
     "data": {
      "image/png": "[encoded data removed]",
      "text/plain": [
       "<Figure size 402.375x360 with 1 Axes>"
      ]
     },
     "metadata": {
      "needs_background": "light"
     },
     "output_type": "display_data"
    }
   ],
   "source": [
    "sns.displot(x='age_of_driver',hue='fraud',data=df_insurer)\n",
    "plt.xlim(0,100)"
   ]
  },
  {
   "cell_type": "code",
   "execution_count": 295,
   "id": "b8948941",
   "metadata": {},
   "outputs": [
    {
     "data": {
      "text/html": [
       "<div>\n",
       "<style scoped>\n",
       "    .dataframe tbody tr th:only-of-type {\n",
       "        vertical-align: middle;\n",
       "    }\n",
       "\n",
       "    .dataframe tbody tr th {\n",
       "        vertical-align: top;\n",
       "    }\n",
       "\n",
       "    .dataframe thead th {\n",
       "        text-align: right;\n",
       "    }\n",
       "</style>\n",
       "<table border=\"1\" class=\"dataframe\">\n",
       "  <thead>\n",
       "    <tr style=\"text-align: right;\">\n",
       "      <th></th>\n",
       "      <th>claim_number</th>\n",
       "      <th>age_of_driver</th>\n",
       "      <th>gender</th>\n",
       "      <th>marital_status</th>\n",
       "      <th>safty_rating</th>\n",
       "      <th>annual_income</th>\n",
       "      <th>high_education_ind</th>\n",
       "      <th>address_change_ind</th>\n",
       "      <th>living_status</th>\n",
       "      <th>zip_code</th>\n",
       "      <th>claim_date</th>\n",
       "      <th>claim_day_of_week</th>\n",
       "      <th>accident_site</th>\n",
       "      <th>past_num_of_claims</th>\n",
       "      <th>witness_present_ind</th>\n",
       "      <th>liab_prct</th>\n",
       "      <th>channel</th>\n",
       "      <th>policy_report_filed_ind</th>\n",
       "      <th>claim_est_payout</th>\n",
       "      <th>age_of_vehicle</th>\n",
       "      <th>vehicle_category</th>\n",
       "      <th>vehicle_price</th>\n",
       "      <th>vehicle_color</th>\n",
       "      <th>vehicle_weight</th>\n",
       "      <th>fraud</th>\n",
       "    </tr>\n",
       "  </thead>\n",
       "  <tbody>\n",
       "    <tr>\n",
       "      <th>25</th>\n",
       "      <td>38</td>\n",
       "      <td>200</td>\n",
       "      <td>M</td>\n",
       "      <td>1.0</td>\n",
       "      <td>60</td>\n",
       "      <td>52988</td>\n",
       "      <td>1</td>\n",
       "      <td>1</td>\n",
       "      <td>Rent</td>\n",
       "      <td>85020</td>\n",
       "      <td>12/26/2015</td>\n",
       "      <td>Saturday</td>\n",
       "      <td>Highway</td>\n",
       "      <td>0</td>\n",
       "      <td>0.0</td>\n",
       "      <td>85</td>\n",
       "      <td>Phone</td>\n",
       "      <td>1</td>\n",
       "      <td>5782.266662</td>\n",
       "      <td>5.0</td>\n",
       "      <td>Compact</td>\n",
       "      <td>21503.302070</td>\n",
       "      <td>other</td>\n",
       "      <td>21437.33521</td>\n",
       "      <td>0</td>\n",
       "    </tr>\n",
       "    <tr>\n",
       "      <th>70</th>\n",
       "      <td>111</td>\n",
       "      <td>133</td>\n",
       "      <td>M</td>\n",
       "      <td>1.0</td>\n",
       "      <td>60</td>\n",
       "      <td>48905</td>\n",
       "      <td>1</td>\n",
       "      <td>1</td>\n",
       "      <td>Own</td>\n",
       "      <td>15014</td>\n",
       "      <td>8/26/2015</td>\n",
       "      <td>Wednesday</td>\n",
       "      <td>Local</td>\n",
       "      <td>0</td>\n",
       "      <td>0.0</td>\n",
       "      <td>22</td>\n",
       "      <td>Broker</td>\n",
       "      <td>1</td>\n",
       "      <td>5922.919482</td>\n",
       "      <td>7.0</td>\n",
       "      <td>Medium</td>\n",
       "      <td>7626.946942</td>\n",
       "      <td>blue</td>\n",
       "      <td>24659.77971</td>\n",
       "      <td>0</td>\n",
       "    </tr>\n",
       "    <tr>\n",
       "      <th>663</th>\n",
       "      <td>1096</td>\n",
       "      <td>100</td>\n",
       "      <td>F</td>\n",
       "      <td>1.0</td>\n",
       "      <td>83</td>\n",
       "      <td>46066</td>\n",
       "      <td>1</td>\n",
       "      <td>1</td>\n",
       "      <td>Own</td>\n",
       "      <td>85007</td>\n",
       "      <td>1/22/2016</td>\n",
       "      <td>Friday</td>\n",
       "      <td>Local</td>\n",
       "      <td>0</td>\n",
       "      <td>1.0</td>\n",
       "      <td>34</td>\n",
       "      <td>Phone</td>\n",
       "      <td>1</td>\n",
       "      <td>4112.137481</td>\n",
       "      <td>5.0</td>\n",
       "      <td>Medium</td>\n",
       "      <td>20972.912580</td>\n",
       "      <td>white</td>\n",
       "      <td>16141.89140</td>\n",
       "      <td>0</td>\n",
       "    </tr>\n",
       "    <tr>\n",
       "      <th>1217</th>\n",
       "      <td>2005</td>\n",
       "      <td>229</td>\n",
       "      <td>M</td>\n",
       "      <td>1.0</td>\n",
       "      <td>52</td>\n",
       "      <td>54333</td>\n",
       "      <td>1</td>\n",
       "      <td>0</td>\n",
       "      <td>Rent</td>\n",
       "      <td>15033</td>\n",
       "      <td>4/25/2016</td>\n",
       "      <td>Monday</td>\n",
       "      <td>Highway</td>\n",
       "      <td>2</td>\n",
       "      <td>0.0</td>\n",
       "      <td>31</td>\n",
       "      <td>Broker</td>\n",
       "      <td>1</td>\n",
       "      <td>5025.442762</td>\n",
       "      <td>6.0</td>\n",
       "      <td>Compact</td>\n",
       "      <td>29133.038610</td>\n",
       "      <td>gray</td>\n",
       "      <td>19643.50895</td>\n",
       "      <td>1</td>\n",
       "    </tr>\n",
       "    <tr>\n",
       "      <th>14078</th>\n",
       "      <td>23404</td>\n",
       "      <td>113</td>\n",
       "      <td>F</td>\n",
       "      <td>1.0</td>\n",
       "      <td>79</td>\n",
       "      <td>47273</td>\n",
       "      <td>1</td>\n",
       "      <td>0</td>\n",
       "      <td>Own</td>\n",
       "      <td>85033</td>\n",
       "      <td>9/20/2015</td>\n",
       "      <td>Sunday</td>\n",
       "      <td>Local</td>\n",
       "      <td>4</td>\n",
       "      <td>1.0</td>\n",
       "      <td>93</td>\n",
       "      <td>Broker</td>\n",
       "      <td>0</td>\n",
       "      <td>5175.440125</td>\n",
       "      <td>6.0</td>\n",
       "      <td>Large</td>\n",
       "      <td>19407.302320</td>\n",
       "      <td>white</td>\n",
       "      <td>12325.66136</td>\n",
       "      <td>0</td>\n",
       "    </tr>\n",
       "  </tbody>\n",
       "</table>\n",
       "</div>"
      ],
      "text/plain": [
       "       claim_number  age_of_driver gender  marital_status  safty_rating  \\\n",
       "25               38            200      M             1.0            60   \n",
       "70              111            133      M             1.0            60   \n",
       "663            1096            100      F             1.0            83   \n",
       "1217           2005            229      M             1.0            52   \n",
       "14078         23404            113      F             1.0            79   \n",
       "\n",
       "       annual_income  high_education_ind  address_change_ind living_status  \\\n",
       "25             52988                   1                   1          Rent   \n",
       "70             48905                   1                   1           Own   \n",
       "663            46066                   1                   1           Own   \n",
       "1217           54333                   1                   0          Rent   \n",
       "14078          47273                   1                   0           Own   \n",
       "\n",
       "       zip_code  claim_date claim_day_of_week accident_site  \\\n",
       "25        85020  12/26/2015          Saturday       Highway   \n",
       "70        15014   8/26/2015         Wednesday         Local   \n",
       "663       85007   1/22/2016            Friday         Local   \n",
       "1217      15033   4/25/2016            Monday       Highway   \n",
       "14078     85033   9/20/2015            Sunday         Local   \n",
       "\n",
       "       past_num_of_claims  witness_present_ind  liab_prct channel  \\\n",
       "25                      0                  0.0         85   Phone   \n",
       "70                      0                  0.0         22  Broker   \n",
       "663                     0                  1.0         34   Phone   \n",
       "1217                    2                  0.0         31  Broker   \n",
       "14078                   4                  1.0         93  Broker   \n",
       "\n",
       "       policy_report_filed_ind  claim_est_payout  age_of_vehicle  \\\n",
       "25                           1       5782.266662             5.0   \n",
       "70                           1       5922.919482             7.0   \n",
       "663                          1       4112.137481             5.0   \n",
       "1217                         1       5025.442762             6.0   \n",
       "14078                        0       5175.440125             6.0   \n",
       "\n",
       "      vehicle_category  vehicle_price vehicle_color  vehicle_weight  fraud  \n",
       "25             Compact   21503.302070         other     21437.33521      0  \n",
       "70              Medium    7626.946942          blue     24659.77971      0  \n",
       "663             Medium   20972.912580         white     16141.89140      0  \n",
       "1217           Compact   29133.038610          gray     19643.50895      1  \n",
       "14078            Large   19407.302320         white     12325.66136      0  "
      ]
     },
     "execution_count": 295,
     "metadata": {},
     "output_type": "execute_result"
    }
   ],
   "source": [
    "df.loc[df['age_of_driver'] >= 100]  # the samples can be dropped"
   ]
  },
  {
   "cell_type": "code",
   "execution_count": 463,
   "id": "e17898cb",
   "metadata": {},
   "outputs": [
    {
     "data": {
      "text/plain": [
       "(17988, 11)"
      ]
     },
     "execution_count": 463,
     "metadata": {},
     "output_type": "execute_result"
    }
   ],
   "source": [
    "df_insurer = df_insurer.loc[df_insurer['age_of_driver']<100]\n",
    "df_insurer.shape"
   ]
  },
  {
   "cell_type": "code",
   "execution_count": 299,
   "id": "9e6f5866",
   "metadata": {},
   "outputs": [
    {
     "data": {
      "text/html": [
       "<div>\n",
       "<style scoped>\n",
       "    .dataframe tbody tr th:only-of-type {\n",
       "        vertical-align: middle;\n",
       "    }\n",
       "\n",
       "    .dataframe tbody tr th {\n",
       "        vertical-align: top;\n",
       "    }\n",
       "\n",
       "    .dataframe thead th {\n",
       "        text-align: right;\n",
       "    }\n",
       "</style>\n",
       "<table border=\"1\" class=\"dataframe\">\n",
       "  <thead>\n",
       "    <tr style=\"text-align: right;\">\n",
       "      <th></th>\n",
       "      <th>claim_number</th>\n",
       "      <th>age_of_driver</th>\n",
       "      <th>gender</th>\n",
       "      <th>marital_status</th>\n",
       "      <th>safty_rating</th>\n",
       "      <th>annual_income</th>\n",
       "      <th>high_education_ind</th>\n",
       "      <th>address_change_ind</th>\n",
       "      <th>living_status</th>\n",
       "      <th>zip_code</th>\n",
       "      <th>claim_date</th>\n",
       "      <th>claim_day_of_week</th>\n",
       "      <th>accident_site</th>\n",
       "      <th>past_num_of_claims</th>\n",
       "      <th>witness_present_ind</th>\n",
       "      <th>liab_prct</th>\n",
       "      <th>channel</th>\n",
       "      <th>policy_report_filed_ind</th>\n",
       "      <th>claim_est_payout</th>\n",
       "      <th>age_of_vehicle</th>\n",
       "      <th>vehicle_category</th>\n",
       "      <th>vehicle_price</th>\n",
       "      <th>vehicle_color</th>\n",
       "      <th>vehicle_weight</th>\n",
       "      <th>fraud</th>\n",
       "    </tr>\n",
       "  </thead>\n",
       "  <tbody>\n",
       "    <tr>\n",
       "      <th>2425</th>\n",
       "      <td>4046</td>\n",
       "      <td>59</td>\n",
       "      <td>F</td>\n",
       "      <td>NaN</td>\n",
       "      <td>78</td>\n",
       "      <td>40785</td>\n",
       "      <td>1</td>\n",
       "      <td>0</td>\n",
       "      <td>Own</td>\n",
       "      <td>15033</td>\n",
       "      <td>2/12/2015</td>\n",
       "      <td>Thursday</td>\n",
       "      <td>Parking Lot</td>\n",
       "      <td>0</td>\n",
       "      <td>0.0</td>\n",
       "      <td>45</td>\n",
       "      <td>Broker</td>\n",
       "      <td>1</td>\n",
       "      <td>5880.659059</td>\n",
       "      <td>4.0</td>\n",
       "      <td>Large</td>\n",
       "      <td>9792.047015</td>\n",
       "      <td>other</td>\n",
       "      <td>27196.23877</td>\n",
       "      <td>0</td>\n",
       "    </tr>\n",
       "    <tr>\n",
       "      <th>4081</th>\n",
       "      <td>6805</td>\n",
       "      <td>33</td>\n",
       "      <td>F</td>\n",
       "      <td>NaN</td>\n",
       "      <td>93</td>\n",
       "      <td>34978</td>\n",
       "      <td>1</td>\n",
       "      <td>1</td>\n",
       "      <td>Own</td>\n",
       "      <td>50033</td>\n",
       "      <td>6/1/2015</td>\n",
       "      <td>Monday</td>\n",
       "      <td>Highway</td>\n",
       "      <td>1</td>\n",
       "      <td>1.0</td>\n",
       "      <td>72</td>\n",
       "      <td>Phone</td>\n",
       "      <td>1</td>\n",
       "      <td>1541.188333</td>\n",
       "      <td>5.0</td>\n",
       "      <td>Large</td>\n",
       "      <td>23077.037210</td>\n",
       "      <td>other</td>\n",
       "      <td>13047.20070</td>\n",
       "      <td>0</td>\n",
       "    </tr>\n",
       "    <tr>\n",
       "      <th>16430</th>\n",
       "      <td>27400</td>\n",
       "      <td>47</td>\n",
       "      <td>M</td>\n",
       "      <td>NaN</td>\n",
       "      <td>78</td>\n",
       "      <td>38500</td>\n",
       "      <td>1</td>\n",
       "      <td>1</td>\n",
       "      <td>Own</td>\n",
       "      <td>15030</td>\n",
       "      <td>8/25/2016</td>\n",
       "      <td>Thursday</td>\n",
       "      <td>Local</td>\n",
       "      <td>0</td>\n",
       "      <td>1.0</td>\n",
       "      <td>50</td>\n",
       "      <td>Online</td>\n",
       "      <td>1</td>\n",
       "      <td>6199.250322</td>\n",
       "      <td>3.0</td>\n",
       "      <td>Medium</td>\n",
       "      <td>26226.732090</td>\n",
       "      <td>gray</td>\n",
       "      <td>12273.13255</td>\n",
       "      <td>0</td>\n",
       "    </tr>\n",
       "    <tr>\n",
       "      <th>17065</th>\n",
       "      <td>28469</td>\n",
       "      <td>80</td>\n",
       "      <td>M</td>\n",
       "      <td>NaN</td>\n",
       "      <td>75</td>\n",
       "      <td>43815</td>\n",
       "      <td>1</td>\n",
       "      <td>0</td>\n",
       "      <td>Rent</td>\n",
       "      <td>15022</td>\n",
       "      <td>5/4/2015</td>\n",
       "      <td>Monday</td>\n",
       "      <td>Local</td>\n",
       "      <td>0</td>\n",
       "      <td>0.0</td>\n",
       "      <td>32</td>\n",
       "      <td>Broker</td>\n",
       "      <td>1</td>\n",
       "      <td>2473.074798</td>\n",
       "      <td>2.0</td>\n",
       "      <td>Compact</td>\n",
       "      <td>21650.912480</td>\n",
       "      <td>black</td>\n",
       "      <td>16007.28156</td>\n",
       "      <td>0</td>\n",
       "    </tr>\n",
       "    <tr>\n",
       "      <th>17236</th>\n",
       "      <td>28746</td>\n",
       "      <td>56</td>\n",
       "      <td>M</td>\n",
       "      <td>NaN</td>\n",
       "      <td>92</td>\n",
       "      <td>40261</td>\n",
       "      <td>1</td>\n",
       "      <td>1</td>\n",
       "      <td>Rent</td>\n",
       "      <td>20152</td>\n",
       "      <td>3/5/2015</td>\n",
       "      <td>Thursday</td>\n",
       "      <td>Local</td>\n",
       "      <td>0</td>\n",
       "      <td>0.0</td>\n",
       "      <td>97</td>\n",
       "      <td>Broker</td>\n",
       "      <td>0</td>\n",
       "      <td>5980.566021</td>\n",
       "      <td>5.0</td>\n",
       "      <td>Compact</td>\n",
       "      <td>34612.072880</td>\n",
       "      <td>red</td>\n",
       "      <td>10429.53196</td>\n",
       "      <td>0</td>\n",
       "    </tr>\n",
       "  </tbody>\n",
       "</table>\n",
       "</div>"
      ],
      "text/plain": [
       "       claim_number  age_of_driver gender  marital_status  safty_rating  \\\n",
       "2425           4046             59      F             NaN            78   \n",
       "4081           6805             33      F             NaN            93   \n",
       "16430         27400             47      M             NaN            78   \n",
       "17065         28469             80      M             NaN            75   \n",
       "17236         28746             56      M             NaN            92   \n",
       "\n",
       "       annual_income  high_education_ind  address_change_ind living_status  \\\n",
       "2425           40785                   1                   0           Own   \n",
       "4081           34978                   1                   1           Own   \n",
       "16430          38500                   1                   1           Own   \n",
       "17065          43815                   1                   0          Rent   \n",
       "17236          40261                   1                   1          Rent   \n",
       "\n",
       "       zip_code claim_date claim_day_of_week accident_site  \\\n",
       "2425      15033  2/12/2015          Thursday   Parking Lot   \n",
       "4081      50033   6/1/2015            Monday       Highway   \n",
       "16430     15030  8/25/2016          Thursday         Local   \n",
       "17065     15022   5/4/2015            Monday         Local   \n",
       "17236     20152   3/5/2015          Thursday         Local   \n",
       "\n",
       "       past_num_of_claims  witness_present_ind  liab_prct channel  \\\n",
       "2425                    0                  0.0         45  Broker   \n",
       "4081                    1                  1.0         72   Phone   \n",
       "16430                   0                  1.0         50  Online   \n",
       "17065                   0                  0.0         32  Broker   \n",
       "17236                   0                  0.0         97  Broker   \n",
       "\n",
       "       policy_report_filed_ind  claim_est_payout  age_of_vehicle  \\\n",
       "2425                         1       5880.659059             4.0   \n",
       "4081                         1       1541.188333             5.0   \n",
       "16430                        1       6199.250322             3.0   \n",
       "17065                        1       2473.074798             2.0   \n",
       "17236                        0       5980.566021             5.0   \n",
       "\n",
       "      vehicle_category  vehicle_price vehicle_color  vehicle_weight  fraud  \n",
       "2425             Large    9792.047015         other     27196.23877      0  \n",
       "4081             Large   23077.037210         other     13047.20070      0  \n",
       "16430           Medium   26226.732090          gray     12273.13255      0  \n",
       "17065          Compact   21650.912480         black     16007.28156      0  \n",
       "17236          Compact   34612.072880           red     10429.53196      0  "
      ]
     },
     "execution_count": 299,
     "metadata": {},
     "output_type": "execute_result"
    }
   ],
   "source": [
    "df.loc[df_insurer.marital_status.isnull()]\n",
    "# can drop, since all negative\n",
    "# fill with KNN?"
   ]
  },
  {
   "cell_type": "code",
   "execution_count": 460,
   "id": "7f1a558b",
   "metadata": {},
   "outputs": [
    {
     "data": {
      "text/plain": [
       "(17993, 11)"
      ]
     },
     "execution_count": 460,
     "metadata": {},
     "output_type": "execute_result"
    }
   ],
   "source": [
    "df_insurer = df_insurer.dropna(subset = 'marital_status',axis=0)\n",
    "df_insurer.shape"
   ]
  },
  {
   "cell_type": "code",
   "execution_count": 302,
   "id": "b5ec581a",
   "metadata": {},
   "outputs": [
    {
     "data": {
      "text/plain": [
       "<seaborn.axisgrid.FacetGrid at 0x1814f7610>"
      ]
     },
     "execution_count": 302,
     "metadata": {},
     "output_type": "execute_result"
    },
    {
     "data": {
      "image/png": "[encoded data removed]",
      "text/plain": [
       "<Figure size 402.375x360 with 1 Axes>"
      ]
     },
     "metadata": {
      "needs_background": "light"
     },
     "output_type": "display_data"
    }
   ],
   "source": [
    "sns.displot(x='safty_rating',hue='fraud',data=df_insurer,kind='kde')"
   ]
  },
  {
   "cell_type": "code",
   "execution_count": 303,
   "id": "f70985a2",
   "metadata": {},
   "outputs": [
    {
     "data": {
      "text/plain": [
       "<seaborn.axisgrid.FacetGrid at 0x1825ddea0>"
      ]
     },
     "execution_count": 303,
     "metadata": {},
     "output_type": "execute_result"
    },
    {
     "data": {
      "image/png": "[encoded data removed]",
      "text/plain": [
       "<Figure size 402.375x360 with 1 Axes>"
      ]
     },
     "metadata": {
      "needs_background": "light"
     },
     "output_type": "display_data"
    }
   ],
   "source": [
    "sns.displot(x='annual_income',hue='fraud',data=df_insurer,kind='kde')"
   ]
  },
  {
   "cell_type": "code",
   "execution_count": 305,
   "id": "02293562",
   "metadata": {},
   "outputs": [
    {
     "data": {
      "text/plain": [
       "<AxesSubplot:xlabel='high_education_ind', ylabel='count'>"
      ]
     },
     "execution_count": 305,
     "metadata": {},
     "output_type": "execute_result"
    },
    {
     "data": {
      "image/png": "[encoded data removed]",
      "text/plain": [
       "<Figure size 432x288 with 1 Axes>"
      ]
     },
     "metadata": {
      "needs_background": "light"
     },
     "output_type": "display_data"
    }
   ],
   "source": [
    "#low edu more likely fraud\n",
    "sns.countplot(x='high_education_ind',hue='fraud',data=df_insurer)"
   ]
  },
  {
   "cell_type": "code",
   "execution_count": 313,
   "id": "0239ad6a",
   "metadata": {},
   "outputs": [
    {
     "data": {
      "text/plain": [
       "21.093461396379755"
      ]
     },
     "execution_count": 313,
     "metadata": {},
     "output_type": "execute_result"
    }
   ],
   "source": [
    "low_edu_fraud = len(df_insurer.loc[(df_insurer['high_education_ind']==0) & (df_insurer['fraud']==1)])\n",
    "low_edu_all = len(df_insurer.loc[(df_insurer['high_education_ind']==0)]) \n",
    "low_edu_fraud/low_edu_all *100"
   ]
  },
  {
   "cell_type": "code",
   "execution_count": 314,
   "id": "079d7969",
   "metadata": {},
   "outputs": [
    {
     "data": {
      "text/plain": [
       "13.302606484424667"
      ]
     },
     "execution_count": 314,
     "metadata": {},
     "output_type": "execute_result"
    }
   ],
   "source": [
    "high_edu_fraud = len(df_insurer.loc[(df_insurer['high_education_ind']==1) & (df_insurer['fraud']==1)])\n",
    "high_edu_all = len(df_insurer.loc[(df_insurer['high_education_ind']==1)]) \n",
    "high_edu_fraud/high_edu_all *100"
   ]
  },
  {
   "cell_type": "code",
   "execution_count": 315,
   "id": "7d753abb",
   "metadata": {},
   "outputs": [
    {
     "data": {
      "text/plain": [
       "<AxesSubplot:xlabel='address_change_ind', ylabel='count'>"
      ]
     },
     "execution_count": 315,
     "metadata": {},
     "output_type": "execute_result"
    },
    {
     "data": {
      "image/png": "[encoded data removed]",
      "text/plain": [
       "<Figure size 432x288 with 1 Axes>"
      ]
     },
     "metadata": {
      "needs_background": "light"
     },
     "output_type": "display_data"
    }
   ],
   "source": [
    "#change address more likely fraud\n",
    "sns.countplot(x='address_change_ind',hue='fraud',data=df_insurer)"
   ]
  },
  {
   "cell_type": "code",
   "execution_count": 318,
   "id": "dec3bc9d",
   "metadata": {},
   "outputs": [
    {
     "data": {
      "text/plain": [
       "12.578864353312301"
      ]
     },
     "execution_count": 318,
     "metadata": {},
     "output_type": "execute_result"
    }
   ],
   "source": [
    "no_change_fraud = len(df_insurer.loc[(df_insurer['address_change_ind']==0) & (df_insurer['fraud']==1)])\n",
    "no_change_all = len(df_insurer.loc[(df_insurer['address_change_ind']==0)]) \n",
    "no_change_fraud/no_change_all *100"
   ]
  },
  {
   "cell_type": "code",
   "execution_count": 319,
   "id": "8eeacadb",
   "metadata": {},
   "outputs": [
    {
     "data": {
      "text/plain": [
       "24.4348054679285"
      ]
     },
     "execution_count": 319,
     "metadata": {},
     "output_type": "execute_result"
    }
   ],
   "source": [
    "change_fraud = len(df_insurer.loc[(df_insurer['address_change_ind']==1) & (df_insurer['fraud']==1)])\n",
    "change_all = len(df_insurer.loc[(df_insurer['address_change_ind']==1)]) \n",
    "change_fraud/no_change_all *100"
   ]
  },
  {
   "cell_type": "code",
   "execution_count": 321,
   "id": "9fdd2be3",
   "metadata": {},
   "outputs": [
    {
     "data": {
      "text/plain": [
       "array(['Rent', 'Own'], dtype=object)"
      ]
     },
     "execution_count": 321,
     "metadata": {},
     "output_type": "execute_result"
    }
   ],
   "source": [
    "#living status\n",
    "#renting has slightly higher risk\n",
    "df_insurer.living_status.unique()"
   ]
  },
  {
   "cell_type": "code",
   "execution_count": 322,
   "id": "833c5f46",
   "metadata": {},
   "outputs": [
    {
     "data": {
      "text/plain": [
       "<AxesSubplot:xlabel='living_status', ylabel='count'>"
      ]
     },
     "execution_count": 322,
     "metadata": {},
     "output_type": "execute_result"
    },
    {
     "data": {
      "image/png": "[encoded data removed]",
      "text/plain": [
       "<Figure size 432x288 with 1 Axes>"
      ]
     },
     "metadata": {
      "needs_background": "light"
     },
     "output_type": "display_data"
    }
   ],
   "source": [
    "sns.countplot(x='living_status',hue='fraud',data=df_insurer)"
   ]
  },
  {
   "cell_type": "code",
   "execution_count": 323,
   "id": "ef5597ca",
   "metadata": {},
   "outputs": [
    {
     "data": {
      "text/plain": [
       "16.72686511396189"
      ]
     },
     "execution_count": 323,
     "metadata": {},
     "output_type": "execute_result"
    }
   ],
   "source": [
    "rent_fraud = len(df_insurer.loc[(df_insurer['living_status']=='Rent') & (df_insurer['fraud']==1)])\n",
    "rent_all = len(df_insurer.loc[(df_insurer['living_status']=='Rent')]) \n",
    "rent_fraud/rent_all *100"
   ]
  },
  {
   "cell_type": "code",
   "execution_count": 324,
   "id": "ea9a85fa",
   "metadata": {},
   "outputs": [
    {
     "data": {
      "text/plain": [
       "14.775804995486006"
      ]
     },
     "execution_count": 324,
     "metadata": {},
     "output_type": "execute_result"
    }
   ],
   "source": [
    "own_fraud = len(df_insurer.loc[(df_insurer['living_status']=='Own') & (df_insurer['fraud']==1)])\n",
    "own_all = len(df_insurer.loc[(df_insurer['living_status']=='Own')]) \n",
    "own_fraud/own_all *100"
   ]
  },
  {
   "cell_type": "code",
   "execution_count": 470,
   "id": "5867c87b",
   "metadata": {},
   "outputs": [
    {
     "data": {
      "text/plain": [
       "276"
      ]
     },
     "execution_count": 470,
     "metadata": {},
     "output_type": "execute_result"
    }
   ],
   "source": [
    "#zip_code\n",
    "# can use fraud rate to code\n",
    "len(df.zip_code.unique())"
   ]
  },
  {
   "cell_type": "code",
   "execution_count": 471,
   "id": "5d1387e1",
   "metadata": {},
   "outputs": [
    {
     "data": {
      "text/html": [
       "<div>\n",
       "<style scoped>\n",
       "    .dataframe tbody tr th:only-of-type {\n",
       "        vertical-align: middle;\n",
       "    }\n",
       "\n",
       "    .dataframe tbody tr th {\n",
       "        vertical-align: top;\n",
       "    }\n",
       "\n",
       "    .dataframe thead th {\n",
       "        text-align: right;\n",
       "    }\n",
       "</style>\n",
       "<table border=\"1\" class=\"dataframe\">\n",
       "  <thead>\n",
       "    <tr style=\"text-align: right;\">\n",
       "      <th></th>\n",
       "      <th>claim_number</th>\n",
       "      <th>age_of_driver</th>\n",
       "      <th>gender</th>\n",
       "      <th>marital_status</th>\n",
       "      <th>safty_rating</th>\n",
       "      <th>annual_income</th>\n",
       "      <th>high_education_ind</th>\n",
       "      <th>address_change_ind</th>\n",
       "      <th>living_status</th>\n",
       "      <th>zip_code</th>\n",
       "      <th>claim_date</th>\n",
       "      <th>claim_day_of_week</th>\n",
       "      <th>accident_site</th>\n",
       "      <th>past_num_of_claims</th>\n",
       "      <th>witness_present_ind</th>\n",
       "      <th>liab_prct</th>\n",
       "      <th>channel</th>\n",
       "      <th>policy_report_filed_ind</th>\n",
       "      <th>claim_est_payout</th>\n",
       "      <th>age_of_vehicle</th>\n",
       "      <th>vehicle_category</th>\n",
       "      <th>vehicle_price</th>\n",
       "      <th>vehicle_color</th>\n",
       "      <th>vehicle_weight</th>\n",
       "      <th>fraud</th>\n",
       "    </tr>\n",
       "  </thead>\n",
       "  <tbody>\n",
       "    <tr>\n",
       "      <th>359</th>\n",
       "      <td>607</td>\n",
       "      <td>43</td>\n",
       "      <td>F</td>\n",
       "      <td>1.0</td>\n",
       "      <td>91</td>\n",
       "      <td>37642</td>\n",
       "      <td>1</td>\n",
       "      <td>1</td>\n",
       "      <td>Rent</td>\n",
       "      <td>0</td>\n",
       "      <td>6/14/2015</td>\n",
       "      <td>Sunday</td>\n",
       "      <td>Local</td>\n",
       "      <td>0</td>\n",
       "      <td>0.0</td>\n",
       "      <td>50</td>\n",
       "      <td>Online</td>\n",
       "      <td>1</td>\n",
       "      <td>1689.083898</td>\n",
       "      <td>NaN</td>\n",
       "      <td>Medium</td>\n",
       "      <td>38113.91342</td>\n",
       "      <td>black</td>\n",
       "      <td>36952.736520</td>\n",
       "      <td>0</td>\n",
       "    </tr>\n",
       "    <tr>\n",
       "      <th>639</th>\n",
       "      <td>1057</td>\n",
       "      <td>88</td>\n",
       "      <td>M</td>\n",
       "      <td>1.0</td>\n",
       "      <td>59</td>\n",
       "      <td>44773</td>\n",
       "      <td>0</td>\n",
       "      <td>1</td>\n",
       "      <td>Rent</td>\n",
       "      <td>0</td>\n",
       "      <td>7/10/2016</td>\n",
       "      <td>Sunday</td>\n",
       "      <td>Highway</td>\n",
       "      <td>0</td>\n",
       "      <td>0.0</td>\n",
       "      <td>23</td>\n",
       "      <td>Broker</td>\n",
       "      <td>0</td>\n",
       "      <td>5444.281501</td>\n",
       "      <td>5.0</td>\n",
       "      <td>Large</td>\n",
       "      <td>19978.05576</td>\n",
       "      <td>black</td>\n",
       "      <td>11283.398880</td>\n",
       "      <td>0</td>\n",
       "    </tr>\n",
       "    <tr>\n",
       "      <th>1062</th>\n",
       "      <td>1735</td>\n",
       "      <td>47</td>\n",
       "      <td>M</td>\n",
       "      <td>0.0</td>\n",
       "      <td>85</td>\n",
       "      <td>38509</td>\n",
       "      <td>1</td>\n",
       "      <td>1</td>\n",
       "      <td>Own</td>\n",
       "      <td>0</td>\n",
       "      <td>2/21/2016</td>\n",
       "      <td>Sunday</td>\n",
       "      <td>Local</td>\n",
       "      <td>0</td>\n",
       "      <td>0.0</td>\n",
       "      <td>98</td>\n",
       "      <td>Broker</td>\n",
       "      <td>0</td>\n",
       "      <td>3669.972666</td>\n",
       "      <td>5.0</td>\n",
       "      <td>Large</td>\n",
       "      <td>28024.39222</td>\n",
       "      <td>white</td>\n",
       "      <td>14233.198130</td>\n",
       "      <td>0</td>\n",
       "    </tr>\n",
       "    <tr>\n",
       "      <th>1186</th>\n",
       "      <td>1957</td>\n",
       "      <td>43</td>\n",
       "      <td>F</td>\n",
       "      <td>1.0</td>\n",
       "      <td>77</td>\n",
       "      <td>37598</td>\n",
       "      <td>0</td>\n",
       "      <td>1</td>\n",
       "      <td>Own</td>\n",
       "      <td>0</td>\n",
       "      <td>5/14/2016</td>\n",
       "      <td>Saturday</td>\n",
       "      <td>Parking Lot</td>\n",
       "      <td>0</td>\n",
       "      <td>1.0</td>\n",
       "      <td>36</td>\n",
       "      <td>Phone</td>\n",
       "      <td>1</td>\n",
       "      <td>7306.185751</td>\n",
       "      <td>7.0</td>\n",
       "      <td>Medium</td>\n",
       "      <td>21485.68133</td>\n",
       "      <td>other</td>\n",
       "      <td>12841.489510</td>\n",
       "      <td>0</td>\n",
       "    </tr>\n",
       "    <tr>\n",
       "      <th>2581</th>\n",
       "      <td>4309</td>\n",
       "      <td>33</td>\n",
       "      <td>M</td>\n",
       "      <td>1.0</td>\n",
       "      <td>77</td>\n",
       "      <td>34974</td>\n",
       "      <td>1</td>\n",
       "      <td>1</td>\n",
       "      <td>Own</td>\n",
       "      <td>0</td>\n",
       "      <td>12/9/2015</td>\n",
       "      <td>Wednesday</td>\n",
       "      <td>Parking Lot</td>\n",
       "      <td>0</td>\n",
       "      <td>0.0</td>\n",
       "      <td>0</td>\n",
       "      <td>Broker</td>\n",
       "      <td>1</td>\n",
       "      <td>4167.803557</td>\n",
       "      <td>4.0</td>\n",
       "      <td>Large</td>\n",
       "      <td>24771.33834</td>\n",
       "      <td>black</td>\n",
       "      <td>4715.069667</td>\n",
       "      <td>0</td>\n",
       "    </tr>\n",
       "    <tr>\n",
       "      <th>2786</th>\n",
       "      <td>4658</td>\n",
       "      <td>39</td>\n",
       "      <td>F</td>\n",
       "      <td>1.0</td>\n",
       "      <td>93</td>\n",
       "      <td>36637</td>\n",
       "      <td>1</td>\n",
       "      <td>1</td>\n",
       "      <td>Own</td>\n",
       "      <td>0</td>\n",
       "      <td>9/16/2015</td>\n",
       "      <td>Wednesday</td>\n",
       "      <td>Local</td>\n",
       "      <td>0</td>\n",
       "      <td>0.0</td>\n",
       "      <td>100</td>\n",
       "      <td>Broker</td>\n",
       "      <td>0</td>\n",
       "      <td>6228.872802</td>\n",
       "      <td>6.0</td>\n",
       "      <td>Compact</td>\n",
       "      <td>24585.58907</td>\n",
       "      <td>white</td>\n",
       "      <td>22612.331210</td>\n",
       "      <td>0</td>\n",
       "    </tr>\n",
       "    <tr>\n",
       "      <th>2887</th>\n",
       "      <td>4823</td>\n",
       "      <td>41</td>\n",
       "      <td>F</td>\n",
       "      <td>0.0</td>\n",
       "      <td>69</td>\n",
       "      <td>37133</td>\n",
       "      <td>1</td>\n",
       "      <td>1</td>\n",
       "      <td>Own</td>\n",
       "      <td>0</td>\n",
       "      <td>1/12/2015</td>\n",
       "      <td>Monday</td>\n",
       "      <td>Parking Lot</td>\n",
       "      <td>0</td>\n",
       "      <td>0.0</td>\n",
       "      <td>3</td>\n",
       "      <td>Online</td>\n",
       "      <td>0</td>\n",
       "      <td>5392.616758</td>\n",
       "      <td>4.0</td>\n",
       "      <td>Large</td>\n",
       "      <td>34837.32526</td>\n",
       "      <td>other</td>\n",
       "      <td>18984.885420</td>\n",
       "      <td>0</td>\n",
       "    </tr>\n",
       "    <tr>\n",
       "      <th>3282</th>\n",
       "      <td>5487</td>\n",
       "      <td>34</td>\n",
       "      <td>M</td>\n",
       "      <td>1.0</td>\n",
       "      <td>89</td>\n",
       "      <td>35255</td>\n",
       "      <td>0</td>\n",
       "      <td>0</td>\n",
       "      <td>Rent</td>\n",
       "      <td>0</td>\n",
       "      <td>8/7/2015</td>\n",
       "      <td>Friday</td>\n",
       "      <td>Local</td>\n",
       "      <td>0</td>\n",
       "      <td>1.0</td>\n",
       "      <td>47</td>\n",
       "      <td>Broker</td>\n",
       "      <td>0</td>\n",
       "      <td>3883.543778</td>\n",
       "      <td>7.0</td>\n",
       "      <td>Compact</td>\n",
       "      <td>27189.81885</td>\n",
       "      <td>other</td>\n",
       "      <td>6583.348788</td>\n",
       "      <td>0</td>\n",
       "    </tr>\n",
       "    <tr>\n",
       "      <th>3615</th>\n",
       "      <td>6029</td>\n",
       "      <td>38</td>\n",
       "      <td>F</td>\n",
       "      <td>1.0</td>\n",
       "      <td>56</td>\n",
       "      <td>36371</td>\n",
       "      <td>1</td>\n",
       "      <td>1</td>\n",
       "      <td>Own</td>\n",
       "      <td>0</td>\n",
       "      <td>5/12/2015</td>\n",
       "      <td>Tuesday</td>\n",
       "      <td>Highway</td>\n",
       "      <td>0</td>\n",
       "      <td>1.0</td>\n",
       "      <td>16</td>\n",
       "      <td>Broker</td>\n",
       "      <td>0</td>\n",
       "      <td>6461.269770</td>\n",
       "      <td>6.0</td>\n",
       "      <td>Compact</td>\n",
       "      <td>37488.64998</td>\n",
       "      <td>other</td>\n",
       "      <td>17776.316520</td>\n",
       "      <td>0</td>\n",
       "    </tr>\n",
       "    <tr>\n",
       "      <th>3793</th>\n",
       "      <td>6331</td>\n",
       "      <td>44</td>\n",
       "      <td>M</td>\n",
       "      <td>1.0</td>\n",
       "      <td>80</td>\n",
       "      <td>37831</td>\n",
       "      <td>1</td>\n",
       "      <td>0</td>\n",
       "      <td>Own</td>\n",
       "      <td>0</td>\n",
       "      <td>11/12/2016</td>\n",
       "      <td>Saturday</td>\n",
       "      <td>Local</td>\n",
       "      <td>0</td>\n",
       "      <td>0.0</td>\n",
       "      <td>100</td>\n",
       "      <td>Phone</td>\n",
       "      <td>0</td>\n",
       "      <td>2633.974768</td>\n",
       "      <td>1.0</td>\n",
       "      <td>Large</td>\n",
       "      <td>37650.91774</td>\n",
       "      <td>other</td>\n",
       "      <td>13970.595590</td>\n",
       "      <td>0</td>\n",
       "    </tr>\n",
       "    <tr>\n",
       "      <th>4733</th>\n",
       "      <td>7848</td>\n",
       "      <td>46</td>\n",
       "      <td>M</td>\n",
       "      <td>0.0</td>\n",
       "      <td>67</td>\n",
       "      <td>38299</td>\n",
       "      <td>1</td>\n",
       "      <td>0</td>\n",
       "      <td>Rent</td>\n",
       "      <td>0</td>\n",
       "      <td>3/30/2016</td>\n",
       "      <td>Wednesday</td>\n",
       "      <td>Local</td>\n",
       "      <td>0</td>\n",
       "      <td>1.0</td>\n",
       "      <td>57</td>\n",
       "      <td>Phone</td>\n",
       "      <td>0</td>\n",
       "      <td>5371.510494</td>\n",
       "      <td>5.0</td>\n",
       "      <td>Medium</td>\n",
       "      <td>35282.36809</td>\n",
       "      <td>black</td>\n",
       "      <td>25350.882700</td>\n",
       "      <td>0</td>\n",
       "    </tr>\n",
       "    <tr>\n",
       "      <th>5590</th>\n",
       "      <td>9248</td>\n",
       "      <td>47</td>\n",
       "      <td>M</td>\n",
       "      <td>1.0</td>\n",
       "      <td>88</td>\n",
       "      <td>38486</td>\n",
       "      <td>1</td>\n",
       "      <td>1</td>\n",
       "      <td>Rent</td>\n",
       "      <td>0</td>\n",
       "      <td>1/6/2015</td>\n",
       "      <td>Tuesday</td>\n",
       "      <td>Parking Lot</td>\n",
       "      <td>1</td>\n",
       "      <td>0.0</td>\n",
       "      <td>4</td>\n",
       "      <td>Online</td>\n",
       "      <td>1</td>\n",
       "      <td>1903.260223</td>\n",
       "      <td>5.0</td>\n",
       "      <td>Compact</td>\n",
       "      <td>10195.25256</td>\n",
       "      <td>black</td>\n",
       "      <td>9548.816967</td>\n",
       "      <td>0</td>\n",
       "    </tr>\n",
       "    <tr>\n",
       "      <th>6007</th>\n",
       "      <td>9946</td>\n",
       "      <td>39</td>\n",
       "      <td>F</td>\n",
       "      <td>0.0</td>\n",
       "      <td>89</td>\n",
       "      <td>36637</td>\n",
       "      <td>1</td>\n",
       "      <td>1</td>\n",
       "      <td>Rent</td>\n",
       "      <td>0</td>\n",
       "      <td>12/8/2015</td>\n",
       "      <td>Tuesday</td>\n",
       "      <td>Local</td>\n",
       "      <td>0</td>\n",
       "      <td>0.0</td>\n",
       "      <td>39</td>\n",
       "      <td>Broker</td>\n",
       "      <td>0</td>\n",
       "      <td>2910.028911</td>\n",
       "      <td>4.0</td>\n",
       "      <td>Medium</td>\n",
       "      <td>53161.16060</td>\n",
       "      <td>gray</td>\n",
       "      <td>28859.913340</td>\n",
       "      <td>1</td>\n",
       "    </tr>\n",
       "    <tr>\n",
       "      <th>6241</th>\n",
       "      <td>10323</td>\n",
       "      <td>51</td>\n",
       "      <td>F</td>\n",
       "      <td>1.0</td>\n",
       "      <td>71</td>\n",
       "      <td>39326</td>\n",
       "      <td>1</td>\n",
       "      <td>1</td>\n",
       "      <td>Rent</td>\n",
       "      <td>0</td>\n",
       "      <td>3/6/2016</td>\n",
       "      <td>Sunday</td>\n",
       "      <td>Highway</td>\n",
       "      <td>0</td>\n",
       "      <td>0.0</td>\n",
       "      <td>64</td>\n",
       "      <td>Broker</td>\n",
       "      <td>0</td>\n",
       "      <td>5561.754918</td>\n",
       "      <td>4.0</td>\n",
       "      <td>Medium</td>\n",
       "      <td>20687.07979</td>\n",
       "      <td>other</td>\n",
       "      <td>22053.955700</td>\n",
       "      <td>0</td>\n",
       "    </tr>\n",
       "    <tr>\n",
       "      <th>6310</th>\n",
       "      <td>10450</td>\n",
       "      <td>48</td>\n",
       "      <td>M</td>\n",
       "      <td>1.0</td>\n",
       "      <td>91</td>\n",
       "      <td>38707</td>\n",
       "      <td>1</td>\n",
       "      <td>1</td>\n",
       "      <td>Rent</td>\n",
       "      <td>0</td>\n",
       "      <td>12/22/2015</td>\n",
       "      <td>Tuesday</td>\n",
       "      <td>Parking Lot</td>\n",
       "      <td>1</td>\n",
       "      <td>0.0</td>\n",
       "      <td>81</td>\n",
       "      <td>Phone</td>\n",
       "      <td>1</td>\n",
       "      <td>4474.971830</td>\n",
       "      <td>5.0</td>\n",
       "      <td>Large</td>\n",
       "      <td>10224.71868</td>\n",
       "      <td>other</td>\n",
       "      <td>23949.719220</td>\n",
       "      <td>0</td>\n",
       "    </tr>\n",
       "    <tr>\n",
       "      <th>6358</th>\n",
       "      <td>10538</td>\n",
       "      <td>56</td>\n",
       "      <td>M</td>\n",
       "      <td>0.0</td>\n",
       "      <td>79</td>\n",
       "      <td>40253</td>\n",
       "      <td>1</td>\n",
       "      <td>0</td>\n",
       "      <td>Own</td>\n",
       "      <td>0</td>\n",
       "      <td>7/15/2015</td>\n",
       "      <td>Wednesday</td>\n",
       "      <td>Parking Lot</td>\n",
       "      <td>0</td>\n",
       "      <td>1.0</td>\n",
       "      <td>84</td>\n",
       "      <td>Broker</td>\n",
       "      <td>0</td>\n",
       "      <td>10390.082460</td>\n",
       "      <td>4.0</td>\n",
       "      <td>Compact</td>\n",
       "      <td>11715.74999</td>\n",
       "      <td>black</td>\n",
       "      <td>12809.463650</td>\n",
       "      <td>0</td>\n",
       "    </tr>\n",
       "    <tr>\n",
       "      <th>6486</th>\n",
       "      <td>10754</td>\n",
       "      <td>51</td>\n",
       "      <td>M</td>\n",
       "      <td>0.0</td>\n",
       "      <td>91</td>\n",
       "      <td>39332</td>\n",
       "      <td>1</td>\n",
       "      <td>0</td>\n",
       "      <td>Own</td>\n",
       "      <td>0</td>\n",
       "      <td>3/18/2016</td>\n",
       "      <td>Friday</td>\n",
       "      <td>Parking Lot</td>\n",
       "      <td>0</td>\n",
       "      <td>0.0</td>\n",
       "      <td>22</td>\n",
       "      <td>Phone</td>\n",
       "      <td>0</td>\n",
       "      <td>1945.639874</td>\n",
       "      <td>5.0</td>\n",
       "      <td>Compact</td>\n",
       "      <td>22774.03982</td>\n",
       "      <td>white</td>\n",
       "      <td>30647.839270</td>\n",
       "      <td>0</td>\n",
       "    </tr>\n",
       "    <tr>\n",
       "      <th>6490</th>\n",
       "      <td>10759</td>\n",
       "      <td>35</td>\n",
       "      <td>F</td>\n",
       "      <td>0.0</td>\n",
       "      <td>95</td>\n",
       "      <td>35546</td>\n",
       "      <td>0</td>\n",
       "      <td>0</td>\n",
       "      <td>Rent</td>\n",
       "      <td>0</td>\n",
       "      <td>1/14/2016</td>\n",
       "      <td>Thursday</td>\n",
       "      <td>Local</td>\n",
       "      <td>0</td>\n",
       "      <td>0.0</td>\n",
       "      <td>77</td>\n",
       "      <td>Broker</td>\n",
       "      <td>0</td>\n",
       "      <td>2188.489346</td>\n",
       "      <td>7.0</td>\n",
       "      <td>Medium</td>\n",
       "      <td>24868.12863</td>\n",
       "      <td>black</td>\n",
       "      <td>18080.350350</td>\n",
       "      <td>0</td>\n",
       "    </tr>\n",
       "    <tr>\n",
       "      <th>7024</th>\n",
       "      <td>11648</td>\n",
       "      <td>39</td>\n",
       "      <td>F</td>\n",
       "      <td>0.0</td>\n",
       "      <td>33</td>\n",
       "      <td>36642</td>\n",
       "      <td>1</td>\n",
       "      <td>1</td>\n",
       "      <td>Rent</td>\n",
       "      <td>0</td>\n",
       "      <td>6/13/2015</td>\n",
       "      <td>Saturday</td>\n",
       "      <td>Local</td>\n",
       "      <td>0</td>\n",
       "      <td>0.0</td>\n",
       "      <td>61</td>\n",
       "      <td>Phone</td>\n",
       "      <td>1</td>\n",
       "      <td>5773.950875</td>\n",
       "      <td>6.0</td>\n",
       "      <td>Compact</td>\n",
       "      <td>28278.87298</td>\n",
       "      <td>other</td>\n",
       "      <td>12342.932640</td>\n",
       "      <td>0</td>\n",
       "    </tr>\n",
       "    <tr>\n",
       "      <th>12708</th>\n",
       "      <td>21143</td>\n",
       "      <td>41</td>\n",
       "      <td>M</td>\n",
       "      <td>1.0</td>\n",
       "      <td>88</td>\n",
       "      <td>37132</td>\n",
       "      <td>0</td>\n",
       "      <td>1</td>\n",
       "      <td>Own</td>\n",
       "      <td>0</td>\n",
       "      <td>7/1/2015</td>\n",
       "      <td>Wednesday</td>\n",
       "      <td>Local</td>\n",
       "      <td>1</td>\n",
       "      <td>0.0</td>\n",
       "      <td>38</td>\n",
       "      <td>Phone</td>\n",
       "      <td>1</td>\n",
       "      <td>2733.068315</td>\n",
       "      <td>5.0</td>\n",
       "      <td>Compact</td>\n",
       "      <td>35772.40605</td>\n",
       "      <td>blue</td>\n",
       "      <td>21346.824090</td>\n",
       "      <td>0</td>\n",
       "    </tr>\n",
       "    <tr>\n",
       "      <th>14778</th>\n",
       "      <td>24593</td>\n",
       "      <td>43</td>\n",
       "      <td>M</td>\n",
       "      <td>1.0</td>\n",
       "      <td>80</td>\n",
       "      <td>37614</td>\n",
       "      <td>1</td>\n",
       "      <td>1</td>\n",
       "      <td>Own</td>\n",
       "      <td>0</td>\n",
       "      <td>12/10/2015</td>\n",
       "      <td>Thursday</td>\n",
       "      <td>Parking Lot</td>\n",
       "      <td>0</td>\n",
       "      <td>0.0</td>\n",
       "      <td>65</td>\n",
       "      <td>Broker</td>\n",
       "      <td>0</td>\n",
       "      <td>7490.597318</td>\n",
       "      <td>1.0</td>\n",
       "      <td>Large</td>\n",
       "      <td>37137.60481</td>\n",
       "      <td>silver</td>\n",
       "      <td>18578.209640</td>\n",
       "      <td>1</td>\n",
       "    </tr>\n",
       "    <tr>\n",
       "      <th>15586</th>\n",
       "      <td>25953</td>\n",
       "      <td>49</td>\n",
       "      <td>F</td>\n",
       "      <td>1.0</td>\n",
       "      <td>57</td>\n",
       "      <td>38913</td>\n",
       "      <td>1</td>\n",
       "      <td>0</td>\n",
       "      <td>Own</td>\n",
       "      <td>0</td>\n",
       "      <td>11/8/2016</td>\n",
       "      <td>Tuesday</td>\n",
       "      <td>Local</td>\n",
       "      <td>0</td>\n",
       "      <td>0.0</td>\n",
       "      <td>79</td>\n",
       "      <td>Broker</td>\n",
       "      <td>0</td>\n",
       "      <td>6597.772131</td>\n",
       "      <td>3.0</td>\n",
       "      <td>Medium</td>\n",
       "      <td>16104.67231</td>\n",
       "      <td>white</td>\n",
       "      <td>45329.431300</td>\n",
       "      <td>1</td>\n",
       "    </tr>\n",
       "    <tr>\n",
       "      <th>17437</th>\n",
       "      <td>29073</td>\n",
       "      <td>41</td>\n",
       "      <td>F</td>\n",
       "      <td>1.0</td>\n",
       "      <td>70</td>\n",
       "      <td>37150</td>\n",
       "      <td>1</td>\n",
       "      <td>0</td>\n",
       "      <td>Own</td>\n",
       "      <td>0</td>\n",
       "      <td>2/15/2015</td>\n",
       "      <td>Sunday</td>\n",
       "      <td>Highway</td>\n",
       "      <td>0</td>\n",
       "      <td>0.0</td>\n",
       "      <td>50</td>\n",
       "      <td>Broker</td>\n",
       "      <td>0</td>\n",
       "      <td>5949.191352</td>\n",
       "      <td>3.0</td>\n",
       "      <td>Compact</td>\n",
       "      <td>26557.08552</td>\n",
       "      <td>silver</td>\n",
       "      <td>40593.259740</td>\n",
       "      <td>0</td>\n",
       "    </tr>\n",
       "  </tbody>\n",
       "</table>\n",
       "</div>"
      ],
      "text/plain": [
       "       claim_number  age_of_driver gender  marital_status  safty_rating  \\\n",
       "359             607             43      F             1.0            91   \n",
       "639            1057             88      M             1.0            59   \n",
       "1062           1735             47      M             0.0            85   \n",
       "1186           1957             43      F             1.0            77   \n",
       "2581           4309             33      M             1.0            77   \n",
       "2786           4658             39      F             1.0            93   \n",
       "2887           4823             41      F             0.0            69   \n",
       "3282           5487             34      M             1.0            89   \n",
       "3615           6029             38      F             1.0            56   \n",
       "3793           6331             44      M             1.0            80   \n",
       "4733           7848             46      M             0.0            67   \n",
       "5590           9248             47      M             1.0            88   \n",
       "6007           9946             39      F             0.0            89   \n",
       "6241          10323             51      F             1.0            71   \n",
       "6310          10450             48      M             1.0            91   \n",
       "6358          10538             56      M             0.0            79   \n",
       "6486          10754             51      M             0.0            91   \n",
       "6490          10759             35      F             0.0            95   \n",
       "7024          11648             39      F             0.0            33   \n",
       "12708         21143             41      M             1.0            88   \n",
       "14778         24593             43      M             1.0            80   \n",
       "15586         25953             49      F             1.0            57   \n",
       "17437         29073             41      F             1.0            70   \n",
       "\n",
       "       annual_income  high_education_ind  address_change_ind living_status  \\\n",
       "359            37642                   1                   1          Rent   \n",
       "639            44773                   0                   1          Rent   \n",
       "1062           38509                   1                   1           Own   \n",
       "1186           37598                   0                   1           Own   \n",
       "2581           34974                   1                   1           Own   \n",
       "2786           36637                   1                   1           Own   \n",
       "2887           37133                   1                   1           Own   \n",
       "3282           35255                   0                   0          Rent   \n",
       "3615           36371                   1                   1           Own   \n",
       "3793           37831                   1                   0           Own   \n",
       "4733           38299                   1                   0          Rent   \n",
       "5590           38486                   1                   1          Rent   \n",
       "6007           36637                   1                   1          Rent   \n",
       "6241           39326                   1                   1          Rent   \n",
       "6310           38707                   1                   1          Rent   \n",
       "6358           40253                   1                   0           Own   \n",
       "6486           39332                   1                   0           Own   \n",
       "6490           35546                   0                   0          Rent   \n",
       "7024           36642                   1                   1          Rent   \n",
       "12708          37132                   0                   1           Own   \n",
       "14778          37614                   1                   1           Own   \n",
       "15586          38913                   1                   0           Own   \n",
       "17437          37150                   1                   0           Own   \n",
       "\n",
       "       zip_code  claim_date claim_day_of_week accident_site  \\\n",
       "359           0   6/14/2015            Sunday         Local   \n",
       "639           0   7/10/2016            Sunday       Highway   \n",
       "1062          0   2/21/2016            Sunday         Local   \n",
       "1186          0   5/14/2016          Saturday   Parking Lot   \n",
       "2581          0   12/9/2015         Wednesday   Parking Lot   \n",
       "2786          0   9/16/2015         Wednesday         Local   \n",
       "2887          0   1/12/2015            Monday   Parking Lot   \n",
       "3282          0    8/7/2015            Friday         Local   \n",
       "3615          0   5/12/2015           Tuesday       Highway   \n",
       "3793          0  11/12/2016          Saturday         Local   \n",
       "4733          0   3/30/2016         Wednesday         Local   \n",
       "5590          0    1/6/2015           Tuesday   Parking Lot   \n",
       "6007          0   12/8/2015           Tuesday         Local   \n",
       "6241          0    3/6/2016            Sunday       Highway   \n",
       "6310          0  12/22/2015           Tuesday   Parking Lot   \n",
       "6358          0   7/15/2015         Wednesday   Parking Lot   \n",
       "6486          0   3/18/2016            Friday   Parking Lot   \n",
       "6490          0   1/14/2016          Thursday         Local   \n",
       "7024          0   6/13/2015          Saturday         Local   \n",
       "12708         0    7/1/2015         Wednesday         Local   \n",
       "14778         0  12/10/2015          Thursday   Parking Lot   \n",
       "15586         0   11/8/2016           Tuesday         Local   \n",
       "17437         0   2/15/2015            Sunday       Highway   \n",
       "\n",
       "       past_num_of_claims  witness_present_ind  liab_prct channel  \\\n",
       "359                     0                  0.0         50  Online   \n",
       "639                     0                  0.0         23  Broker   \n",
       "1062                    0                  0.0         98  Broker   \n",
       "1186                    0                  1.0         36   Phone   \n",
       "2581                    0                  0.0          0  Broker   \n",
       "2786                    0                  0.0        100  Broker   \n",
       "2887                    0                  0.0          3  Online   \n",
       "3282                    0                  1.0         47  Broker   \n",
       "3615                    0                  1.0         16  Broker   \n",
       "3793                    0                  0.0        100   Phone   \n",
       "4733                    0                  1.0         57   Phone   \n",
       "5590                    1                  0.0          4  Online   \n",
       "6007                    0                  0.0         39  Broker   \n",
       "6241                    0                  0.0         64  Broker   \n",
       "6310                    1                  0.0         81   Phone   \n",
       "6358                    0                  1.0         84  Broker   \n",
       "6486                    0                  0.0         22   Phone   \n",
       "6490                    0                  0.0         77  Broker   \n",
       "7024                    0                  0.0         61   Phone   \n",
       "12708                   1                  0.0         38   Phone   \n",
       "14778                   0                  0.0         65  Broker   \n",
       "15586                   0                  0.0         79  Broker   \n",
       "17437                   0                  0.0         50  Broker   \n",
       "\n",
       "       policy_report_filed_ind  claim_est_payout  age_of_vehicle  \\\n",
       "359                          1       1689.083898             NaN   \n",
       "639                          0       5444.281501             5.0   \n",
       "1062                         0       3669.972666             5.0   \n",
       "1186                         1       7306.185751             7.0   \n",
       "2581                         1       4167.803557             4.0   \n",
       "2786                         0       6228.872802             6.0   \n",
       "2887                         0       5392.616758             4.0   \n",
       "3282                         0       3883.543778             7.0   \n",
       "3615                         0       6461.269770             6.0   \n",
       "3793                         0       2633.974768             1.0   \n",
       "4733                         0       5371.510494             5.0   \n",
       "5590                         1       1903.260223             5.0   \n",
       "6007                         0       2910.028911             4.0   \n",
       "6241                         0       5561.754918             4.0   \n",
       "6310                         1       4474.971830             5.0   \n",
       "6358                         0      10390.082460             4.0   \n",
       "6486                         0       1945.639874             5.0   \n",
       "6490                         0       2188.489346             7.0   \n",
       "7024                         1       5773.950875             6.0   \n",
       "12708                        1       2733.068315             5.0   \n",
       "14778                        0       7490.597318             1.0   \n",
       "15586                        0       6597.772131             3.0   \n",
       "17437                        0       5949.191352             3.0   \n",
       "\n",
       "      vehicle_category  vehicle_price vehicle_color  vehicle_weight  fraud  \n",
       "359             Medium    38113.91342         black    36952.736520      0  \n",
       "639              Large    19978.05576         black    11283.398880      0  \n",
       "1062             Large    28024.39222         white    14233.198130      0  \n",
       "1186            Medium    21485.68133         other    12841.489510      0  \n",
       "2581             Large    24771.33834         black     4715.069667      0  \n",
       "2786           Compact    24585.58907         white    22612.331210      0  \n",
       "2887             Large    34837.32526         other    18984.885420      0  \n",
       "3282           Compact    27189.81885         other     6583.348788      0  \n",
       "3615           Compact    37488.64998         other    17776.316520      0  \n",
       "3793             Large    37650.91774         other    13970.595590      0  \n",
       "4733            Medium    35282.36809         black    25350.882700      0  \n",
       "5590           Compact    10195.25256         black     9548.816967      0  \n",
       "6007            Medium    53161.16060          gray    28859.913340      1  \n",
       "6241            Medium    20687.07979         other    22053.955700      0  \n",
       "6310             Large    10224.71868         other    23949.719220      0  \n",
       "6358           Compact    11715.74999         black    12809.463650      0  \n",
       "6486           Compact    22774.03982         white    30647.839270      0  \n",
       "6490            Medium    24868.12863         black    18080.350350      0  \n",
       "7024           Compact    28278.87298         other    12342.932640      0  \n",
       "12708          Compact    35772.40605          blue    21346.824090      0  \n",
       "14778            Large    37137.60481        silver    18578.209640      1  \n",
       "15586           Medium    16104.67231         white    45329.431300      1  \n",
       "17437          Compact    26557.08552        silver    40593.259740      0  "
      ]
     },
     "execution_count": 471,
     "metadata": {},
     "output_type": "execute_result"
    }
   ],
   "source": [
    "df[df['zip_code']== 0]"
   ]
  },
  {
   "cell_type": "code",
   "execution_count": 349,
   "id": "7d9eac56",
   "metadata": {},
   "outputs": [
    {
     "data": {
      "text/plain": [
       "<AxesSubplot:xlabel='zip_code'>"
      ]
     },
     "execution_count": 349,
     "metadata": {},
     "output_type": "execute_result"
    },
    {
     "data": {
      "image/png": "[encoded data removed]",
      "text/plain": [
       "<Figure size 432x288 with 1 Axes>"
      ]
     },
     "metadata": {
      "needs_background": "light"
     },
     "output_type": "display_data"
    }
   ],
   "source": [
    "df_insurer.groupby('zip_code')['fraud'].mean().plot()\n"
   ]
  },
  {
   "cell_type": "code",
   "execution_count": 468,
   "id": "90988c57",
   "metadata": {},
   "outputs": [
    {
     "data": {
      "text/plain": [
       "{0: 0.13043478260869565,\n",
       " 15001: 0.13074204946996468,\n",
       " 15003: 0.16091954022988506,\n",
       " 15004: 0.25,\n",
       " 15005: 0.225,\n",
       " 15006: 0.17857142857142858,\n",
       " 15007: 0.17391304347826086,\n",
       " 15009: 0.1875,\n",
       " 15010: 0.15723270440251572,\n",
       " 15012: 0.17028985507246377,\n",
       " 15014: 0.18604651162790697,\n",
       " 15015: 0.13333333333333333,\n",
       " 15017: 0.1590909090909091,\n",
       " 15018: 0.15217391304347827,\n",
       " 15019: 0.14583333333333334,\n",
       " 15020: 0.1568627450980392,\n",
       " 15021: 0.16759776536312848,\n",
       " 15022: 0.18518518518518517,\n",
       " 15024: 0.12244897959183673,\n",
       " 15025: 0.13983050847457626,\n",
       " 15026: 0.19047619047619047,\n",
       " 15027: 0.1111111111111111,\n",
       " 15028: 0.17543859649122806,\n",
       " 15030: 0.11627906976744186,\n",
       " 15031: 0.18181818181818182,\n",
       " 15032: 0.1206896551724138,\n",
       " 15033: 0.10810810810810811,\n",
       " 15034: 0.0975609756097561,\n",
       " 15035: 0.15,\n",
       " 15037: 0.08163265306122448,\n",
       " 15038: 0.08571428571428572,\n",
       " 15042: 0.16363636363636364,\n",
       " 15043: 0.2037037037037037,\n",
       " 15044: 0.22641509433962265,\n",
       " 15045: 0.21052631578947367,\n",
       " 15046: 0.20192307692307693,\n",
       " 15047: 0.14893617021276595,\n",
       " 15049: 0.2,\n",
       " 15050: 0.2553191489361702,\n",
       " 15051: 0.26,\n",
       " 15052: 0.1702127659574468,\n",
       " 15053: 0.13953488372093023,\n",
       " 15054: 0.08695652173913043,\n",
       " 15055: 0.07894736842105263,\n",
       " 15056: 0.2,\n",
       " 15057: 0.19117647058823528,\n",
       " 15059: 0.1694915254237288,\n",
       " 15060: 0.13953488372093023,\n",
       " 20101: 0.17708333333333334,\n",
       " 20102: 0.20618556701030927,\n",
       " 20103: 0.17582417582417584,\n",
       " 20104: 0.19047619047619047,\n",
       " 20105: 0.10309278350515463,\n",
       " 20106: 0.11494252873563218,\n",
       " 20107: 0.2549019607843137,\n",
       " 20108: 0.43333333333333335,\n",
       " 20109: 0.171875,\n",
       " 20110: 0.1111111111111111,\n",
       " 20111: 0.12871287128712872,\n",
       " 20112: 0.19047619047619047,\n",
       " 20113: 0.1702127659574468,\n",
       " 20115: 0.21153846153846154,\n",
       " 20116: 0.19148936170212766,\n",
       " 20117: 0.20689655172413793,\n",
       " 20118: 0.10869565217391304,\n",
       " 20119: 0.12244897959183673,\n",
       " 20120: 0.25,\n",
       " 20121: 0.19298245614035087,\n",
       " 20122: 0.2727272727272727,\n",
       " 20124: 0.16981132075471697,\n",
       " 20128: 0.19047619047619047,\n",
       " 20129: 0.19753086419753085,\n",
       " 20130: 0.125,\n",
       " 20131: 0.14634146341463414,\n",
       " 20132: 0.20408163265306123,\n",
       " 20134: 0.24175824175824176,\n",
       " 20135: 0.15384615384615385,\n",
       " 20136: 0.2,\n",
       " 20137: 0.13953488372093023,\n",
       " 20138: 0.16,\n",
       " 20139: 0.1875,\n",
       " 20140: 0.16071428571428573,\n",
       " 20141: 0.21739130434782608,\n",
       " 20142: 0.13333333333333333,\n",
       " 20143: 0.17647058823529413,\n",
       " 20144: 0.15,\n",
       " 20146: 0.15789473684210525,\n",
       " 20147: 0.2608695652173913,\n",
       " 20148: 0.14534883720930233,\n",
       " 20149: 0.20238095238095238,\n",
       " 20151: 0.17307692307692307,\n",
       " 20152: 0.12781954887218044,\n",
       " 20153: 0.2222222222222222,\n",
       " 20155: 0.21739130434782608,\n",
       " 20156: 0.14285714285714285,\n",
       " 20158: 0.2,\n",
       " 20159: 0.26,\n",
       " 20160: 0.1553398058252427,\n",
       " 20163: 0.16470588235294117,\n",
       " 20164: 0.1568627450980392,\n",
       " 20165: 0.17073170731707318,\n",
       " 50001: 0.1375,\n",
       " 50002: 0.1232876712328767,\n",
       " 50003: 0.14583333333333334,\n",
       " 50005: 0.13636363636363635,\n",
       " 50006: 0.15555555555555556,\n",
       " 50007: 0.05555555555555555,\n",
       " 50008: 0.1276595744680851,\n",
       " 50009: 0.1510791366906475,\n",
       " 50010: 0.11538461538461539,\n",
       " 50011: 0.15,\n",
       " 50012: 0.16483516483516483,\n",
       " 50013: 0.20652173913043478,\n",
       " 50014: 0.1276595744680851,\n",
       " 50020: 0.10588235294117647,\n",
       " 50021: 0.17415730337078653,\n",
       " 50022: 0.2159090909090909,\n",
       " 50023: 0.10810810810810811,\n",
       " 50025: 0.1497326203208556,\n",
       " 50026: 0.14814814814814814,\n",
       " 50027: 0.15384615384615385,\n",
       " 50028: 0.2,\n",
       " 50029: 0.16129032258064516,\n",
       " 50031: 0.14285714285714285,\n",
       " 50032: 0.12195121951219512,\n",
       " 50033: 0.061224489795918366,\n",
       " 50034: 0.225,\n",
       " 50035: 0.17073170731707318,\n",
       " 50036: 0.13333333333333333,\n",
       " 50037: 0.11538461538461539,\n",
       " 50038: 0.17857142857142858,\n",
       " 50039: 0.2268041237113402,\n",
       " 50040: 0.17857142857142858,\n",
       " 50041: 0.10204081632653061,\n",
       " 50042: 0.15217391304347827,\n",
       " 50043: 0.06818181818181818,\n",
       " 50044: 0.12,\n",
       " 50046: 0.17777777777777778,\n",
       " 50047: 0.13392857142857142,\n",
       " 50048: 0.2608695652173913,\n",
       " 50049: 0.1651376146788991,\n",
       " 50050: 0.25,\n",
       " 50051: 0.15217391304347827,\n",
       " 50052: 0.1836734693877551,\n",
       " 50054: 0.152317880794702,\n",
       " 50055: 0.16129032258064516,\n",
       " 50056: 0.24528301886792453,\n",
       " 50057: 0.08888888888888889,\n",
       " 50058: 0.17391304347826086,\n",
       " 50059: 0.19047619047619047,\n",
       " 80001: 0.07692307692307693,\n",
       " 80002: 0.16312056737588654,\n",
       " 80003: 0.13131313131313133,\n",
       " 80004: 0.16279069767441862,\n",
       " 80005: 0.20212765957446807,\n",
       " 80006: 0.07142857142857142,\n",
       " 80007: 0.09523809523809523,\n",
       " 80010: 0.16666666666666666,\n",
       " 80011: 0.1557377049180328,\n",
       " 80012: 0.13793103448275862,\n",
       " 80013: 0.08888888888888889,\n",
       " 80014: 0.13970588235294118,\n",
       " 80015: 0.12195121951219512,\n",
       " 80016: 0.0916030534351145,\n",
       " 80017: 0.14893617021276595,\n",
       " 80018: 0.125,\n",
       " 80019: 0.1111111111111111,\n",
       " 80020: 0.08421052631578947,\n",
       " 80021: 0.15,\n",
       " 80022: 0.1324200913242009,\n",
       " 80023: 0.16901408450704225,\n",
       " 80024: 0.09259259259259259,\n",
       " 80025: 0.15384615384615385,\n",
       " 80026: 0.19047619047619047,\n",
       " 80027: 0.19607843137254902,\n",
       " 80028: 0.18823529411764706,\n",
       " 80030: 0.15,\n",
       " 80031: 0.13513513513513514,\n",
       " 80033: 0.11235955056179775,\n",
       " 80034: 0.11764705882352941,\n",
       " 80035: 0.08333333333333333,\n",
       " 80036: 0.17857142857142858,\n",
       " 80037: 0.14285714285714285,\n",
       " 80038: 0.17857142857142858,\n",
       " 80040: 0.16666666666666666,\n",
       " 80041: 0.0625,\n",
       " 80042: 0.11538461538461539,\n",
       " 80044: 0.24,\n",
       " 80045: 0.15,\n",
       " 80046: 0.13114754098360656,\n",
       " 80047: 0.12244897959183673,\n",
       " 80101: 0.13559322033898305,\n",
       " 80102: 0.19230769230769232,\n",
       " 80103: 0.21951219512195122,\n",
       " 80104: 0.2558139534883721,\n",
       " 80105: 0.08333333333333333,\n",
       " 80106: 0.11956521739130435,\n",
       " 80107: 0.13513513513513514,\n",
       " 80108: 0.17307692307692307,\n",
       " 80109: 0.09523809523809523,\n",
       " 80110: 0.0967741935483871,\n",
       " 85001: 0.16279069767441862,\n",
       " 85002: 0.20454545454545456,\n",
       " 85003: 0.2,\n",
       " 85004: 0.14035087719298245,\n",
       " 85005: 0.16,\n",
       " 85006: 0.19230769230769232,\n",
       " 85007: 0.14285714285714285,\n",
       " 85008: 0.11764705882352941,\n",
       " 85009: 0.10810810810810811,\n",
       " 85010: 0.13043478260869565,\n",
       " 85011: 0.0975609756097561,\n",
       " 85012: 0.18,\n",
       " 85013: 0.061224489795918366,\n",
       " 85014: 0.05263157894736842,\n",
       " 85015: 0.11538461538461539,\n",
       " 85016: 0.0784313725490196,\n",
       " 85017: 0.16216216216216217,\n",
       " 85018: 0.24528301886792453,\n",
       " 85019: 0.12,\n",
       " 85020: 0.1590909090909091,\n",
       " 85021: 0.2222222222222222,\n",
       " 85022: 0.15,\n",
       " 85023: 0.22807017543859648,\n",
       " 85024: 0.023255813953488372,\n",
       " 85025: 0.09615384615384616,\n",
       " 85026: 0.18181818181818182,\n",
       " 85027: 0.12121212121212122,\n",
       " 85028: 0.14893617021276595,\n",
       " 85029: 0.24444444444444444,\n",
       " 85030: 0.2222222222222222,\n",
       " 85031: 0.125,\n",
       " 85032: 0.1111111111111111,\n",
       " 85033: 0.061224489795918366,\n",
       " 85034: 0.13636363636363635,\n",
       " 85035: 0.10204081632653061,\n",
       " 85036: 0.1276595744680851,\n",
       " 85037: 0.1320754716981132,\n",
       " 85038: 0.06976744186046512,\n",
       " 85039: 0.13333333333333333,\n",
       " 85040: 0.19047619047619047,\n",
       " 85041: 0.19047619047619047,\n",
       " 85042: 0.17073170731707318,\n",
       " 85043: 0.0851063829787234,\n",
       " 85044: 0.20512820512820512,\n",
       " 85045: 0.1111111111111111,\n",
       " 85046: 0.18181818181818182,\n",
       " 85048: 0.12,\n",
       " 85050: 0.18421052631578946,\n",
       " 85051: 0.17307692307692307,\n",
       " 85053: 0.15217391304347827,\n",
       " 85054: 0.05128205128205128,\n",
       " 85055: 0.14893617021276595,\n",
       " 85060: 0.1956521739130435,\n",
       " 85061: 0.1282051282051282,\n",
       " 85062: 0.1320754716981132,\n",
       " 85063: 0.1951219512195122,\n",
       " 85064: 0.20408163265306123,\n",
       " 85065: 0.1,\n",
       " 85066: 0.10204081632653061,\n",
       " 85067: 0.14583333333333334,\n",
       " 85068: 0.16666666666666666,\n",
       " 85069: 0.10869565217391304,\n",
       " 85070: 0.14814814814814814,\n",
       " 85071: 0.15517241379310345,\n",
       " 85072: 0.23076923076923078,\n",
       " 85073: 0.14285714285714285,\n",
       " 85074: 0.08333333333333333,\n",
       " 85075: 0.175,\n",
       " 85076: 0.08888888888888889,\n",
       " 85077: 0.16891891891891891,\n",
       " 85078: 0.11320754716981132,\n",
       " 85079: 0.2571428571428571,\n",
       " 85080: 0.09090909090909091,\n",
       " 85082: 0.11764705882352941,\n",
       " 85083: 0.1388888888888889}"
      ]
     },
     "execution_count": 468,
     "metadata": {},
     "output_type": "execute_result"
    }
   ],
   "source": [
    "df_insurer.groupby('zip_code')['fraud'].mean().to_dict()"
   ]
  },
  {
   "cell_type": "code",
   "execution_count": 354,
   "id": "8e86323c",
   "metadata": {},
   "outputs": [
    {
     "data": {
      "text/plain": [
       "array([1, 0, 3, 5, 2, 4, 6])"
      ]
     },
     "execution_count": 354,
     "metadata": {},
     "output_type": "execute_result"
    }
   ],
   "source": [
    "# number of claims\n",
    "#can use fraud rate to encode\n",
    "df_insurer['past_num_of_claims'].unique()"
   ]
  },
  {
   "cell_type": "code",
   "execution_count": 355,
   "id": "0429dba9",
   "metadata": {},
   "outputs": [
    {
     "data": {
      "text/plain": [
       "<AxesSubplot:xlabel='past_num_of_claims', ylabel='count'>"
      ]
     },
     "execution_count": 355,
     "metadata": {},
     "output_type": "execute_result"
    },
    {
     "data": {
      "image/png": "[encoded data removed]",
      "text/plain": [
       "<Figure size 432x288 with 1 Axes>"
      ]
     },
     "metadata": {
      "needs_background": "light"
     },
     "output_type": "display_data"
    }
   ],
   "source": [
    "sns.countplot(x='past_num_of_claims',hue='fraud',data=df_insurer)"
   ]
  },
  {
   "cell_type": "code",
   "execution_count": 361,
   "id": "c7b38417",
   "metadata": {},
   "outputs": [
    {
     "data": {
      "text/plain": [
       "<AxesSubplot:xlabel='past_num_of_claims', ylabel='count'>"
      ]
     },
     "execution_count": 361,
     "metadata": {},
     "output_type": "execute_result"
    },
    {
     "data": {
      "image/png": "[encoded data removed]",
      "text/plain": [
       "<Figure size 432x288 with 1 Axes>"
      ]
     },
     "metadata": {
      "needs_background": "light"
     },
     "output_type": "display_data"
    }
   ],
   "source": [
    "sns.countplot(x='past_num_of_claims',hue='fraud',data=df_insurer[df_insurer['fraud']== 1])"
   ]
  },
  {
   "cell_type": "code",
   "execution_count": 363,
   "id": "025c56a3",
   "metadata": {},
   "outputs": [
    {
     "data": {
      "text/plain": [
       "<AxesSubplot:xlabel='past_num_of_claims'>"
      ]
     },
     "execution_count": 363,
     "metadata": {},
     "output_type": "execute_result"
    },
    {
     "data": {
      "image/png": "[encoded data removed]",
      "text/plain": [
       "<Figure size 432x288 with 1 Axes>"
      ]
     },
     "metadata": {
      "needs_background": "light"
     },
     "output_type": "display_data"
    }
   ],
   "source": [
    "df_insurer.groupby('past_num_of_claims')['fraud'].mean().plot()"
   ]
  },
  {
   "cell_type": "code",
   "execution_count": 367,
   "id": "1ffe614f",
   "metadata": {},
   "outputs": [
    {
     "name": "stdout",
     "output_type": "stream",
     "text": [
      "<class 'pandas.core.frame.DataFrame'>\n",
      "RangeIndex: 17998 entries, 0 to 17997\n",
      "Data columns (total 25 columns):\n",
      " #   Column                   Non-Null Count  Dtype  \n",
      "---  ------                   --------------  -----  \n",
      " 0   claim_number             17998 non-null  int64  \n",
      " 1   age_of_driver            17998 non-null  int64  \n",
      " 2   gender                   17998 non-null  object \n",
      " 3   marital_status           17993 non-null  float64\n",
      " 4   safty_rating             17998 non-null  int64  \n",
      " 5   annual_income            17998 non-null  int64  \n",
      " 6   high_education_ind       17998 non-null  int64  \n",
      " 7   address_change_ind       17998 non-null  int64  \n",
      " 8   living_status            17998 non-null  object \n",
      " 9   zip_code                 17998 non-null  int64  \n",
      " 10  claim_date               17998 non-null  object \n",
      " 11  claim_day_of_week        17998 non-null  object \n",
      " 12  accident_site            17998 non-null  object \n",
      " 13  past_num_of_claims       17998 non-null  int64  \n",
      " 14  witness_present_ind      17866 non-null  float64\n",
      " 15  liab_prct                17998 non-null  int64  \n",
      " 16  channel                  17998 non-null  object \n",
      " 17  policy_report_filed_ind  17998 non-null  int64  \n",
      " 18  claim_est_payout         17981 non-null  float64\n",
      " 19  age_of_vehicle           17990 non-null  float64\n",
      " 20  vehicle_category         17998 non-null  object \n",
      " 21  vehicle_price            17998 non-null  float64\n",
      " 22  vehicle_color            17998 non-null  object \n",
      " 23  vehicle_weight           17998 non-null  float64\n",
      " 24  fraud                    17998 non-null  int64  \n",
      "dtypes: float64(6), int64(11), object(8)\n",
      "memory usage: 3.4+ MB\n"
     ]
    }
   ],
   "source": [
    "df.info()"
   ]
  },
  {
   "cell_type": "markdown",
   "id": "4e9b514b",
   "metadata": {},
   "source": [
    "#### visualize car related features "
   ]
  },
  {
   "cell_type": "code",
   "execution_count": 445,
   "id": "874ab10b",
   "metadata": {},
   "outputs": [],
   "source": [
    "df_vehicle = df[['age_of_vehicle','vehicle_category', 'vehicle_price', 'vehicle_color', 'vehicle_weight',\n",
    "       'fraud']]"
   ]
  },
  {
   "cell_type": "code",
   "execution_count": 366,
   "id": "26acdfff",
   "metadata": {},
   "outputs": [
    {
     "data": {
      "text/plain": [
       "array([ 9.,  4.,  3.,  7.,  8.,  5.,  6.,  2., 10.,  1., 12., 13., 11.,\n",
       "        0., nan, 14., 16., 15.])"
      ]
     },
     "execution_count": 366,
     "metadata": {},
     "output_type": "execute_result"
    }
   ],
   "source": [
    "# normal distribution, can fillna with mean\n",
    "df_vehicle.age_of_vehicle.unique()"
   ]
  },
  {
   "cell_type": "code",
   "execution_count": 368,
   "id": "c7ed9849",
   "metadata": {},
   "outputs": [
    {
     "data": {
      "text/html": [
       "<div>\n",
       "<style scoped>\n",
       "    .dataframe tbody tr th:only-of-type {\n",
       "        vertical-align: middle;\n",
       "    }\n",
       "\n",
       "    .dataframe tbody tr th {\n",
       "        vertical-align: top;\n",
       "    }\n",
       "\n",
       "    .dataframe thead th {\n",
       "        text-align: right;\n",
       "    }\n",
       "</style>\n",
       "<table border=\"1\" class=\"dataframe\">\n",
       "  <thead>\n",
       "    <tr style=\"text-align: right;\">\n",
       "      <th></th>\n",
       "      <th>age_of_vehicle</th>\n",
       "      <th>vehicle_category</th>\n",
       "      <th>vehicle_price</th>\n",
       "      <th>vehicle_color</th>\n",
       "      <th>vehicle_weight</th>\n",
       "      <th>fraud</th>\n",
       "    </tr>\n",
       "  </thead>\n",
       "  <tbody>\n",
       "    <tr>\n",
       "      <th>359</th>\n",
       "      <td>NaN</td>\n",
       "      <td>Medium</td>\n",
       "      <td>38113.913420</td>\n",
       "      <td>black</td>\n",
       "      <td>36952.73652</td>\n",
       "      <td>0</td>\n",
       "    </tr>\n",
       "    <tr>\n",
       "      <th>396</th>\n",
       "      <td>NaN</td>\n",
       "      <td>Large</td>\n",
       "      <td>15031.179650</td>\n",
       "      <td>blue</td>\n",
       "      <td>27652.80573</td>\n",
       "      <td>0</td>\n",
       "    </tr>\n",
       "    <tr>\n",
       "      <th>3246</th>\n",
       "      <td>NaN</td>\n",
       "      <td>Compact</td>\n",
       "      <td>7909.677821</td>\n",
       "      <td>black</td>\n",
       "      <td>51000.58893</td>\n",
       "      <td>1</td>\n",
       "    </tr>\n",
       "    <tr>\n",
       "      <th>3285</th>\n",
       "      <td>NaN</td>\n",
       "      <td>Medium</td>\n",
       "      <td>13162.783910</td>\n",
       "      <td>white</td>\n",
       "      <td>10861.12944</td>\n",
       "      <td>0</td>\n",
       "    </tr>\n",
       "    <tr>\n",
       "      <th>4606</th>\n",
       "      <td>NaN</td>\n",
       "      <td>Compact</td>\n",
       "      <td>22874.609020</td>\n",
       "      <td>blue</td>\n",
       "      <td>36343.28391</td>\n",
       "      <td>1</td>\n",
       "    </tr>\n",
       "    <tr>\n",
       "      <th>10139</th>\n",
       "      <td>NaN</td>\n",
       "      <td>Medium</td>\n",
       "      <td>10827.602690</td>\n",
       "      <td>white</td>\n",
       "      <td>25119.46125</td>\n",
       "      <td>0</td>\n",
       "    </tr>\n",
       "    <tr>\n",
       "      <th>12478</th>\n",
       "      <td>NaN</td>\n",
       "      <td>Large</td>\n",
       "      <td>21856.497600</td>\n",
       "      <td>red</td>\n",
       "      <td>36417.67936</td>\n",
       "      <td>0</td>\n",
       "    </tr>\n",
       "    <tr>\n",
       "      <th>16207</th>\n",
       "      <td>NaN</td>\n",
       "      <td>Compact</td>\n",
       "      <td>41141.914700</td>\n",
       "      <td>silver</td>\n",
       "      <td>19346.57938</td>\n",
       "      <td>0</td>\n",
       "    </tr>\n",
       "  </tbody>\n",
       "</table>\n",
       "</div>"
      ],
      "text/plain": [
       "       age_of_vehicle vehicle_category  vehicle_price vehicle_color  \\\n",
       "359               NaN           Medium   38113.913420         black   \n",
       "396               NaN            Large   15031.179650          blue   \n",
       "3246              NaN          Compact    7909.677821         black   \n",
       "3285              NaN           Medium   13162.783910         white   \n",
       "4606              NaN          Compact   22874.609020          blue   \n",
       "10139             NaN           Medium   10827.602690         white   \n",
       "12478             NaN            Large   21856.497600           red   \n",
       "16207             NaN          Compact   41141.914700        silver   \n",
       "\n",
       "       vehicle_weight  fraud  \n",
       "359       36952.73652      0  \n",
       "396       27652.80573      0  \n",
       "3246      51000.58893      1  \n",
       "3285      10861.12944      0  \n",
       "4606      36343.28391      1  \n",
       "10139     25119.46125      0  \n",
       "12478     36417.67936      0  \n",
       "16207     19346.57938      0  "
      ]
     },
     "execution_count": 368,
     "metadata": {},
     "output_type": "execute_result"
    }
   ],
   "source": [
    "df_vehicle.loc[df_vehicle.age_of_vehicle.isnull()]"
   ]
  },
  {
   "cell_type": "code",
   "execution_count": 369,
   "id": "71bab058",
   "metadata": {},
   "outputs": [
    {
     "data": {
      "text/plain": [
       "5.008060033351862"
      ]
     },
     "execution_count": 369,
     "metadata": {},
     "output_type": "execute_result"
    }
   ],
   "source": [
    "df_vehicle.age_of_vehicle.mean()"
   ]
  },
  {
   "cell_type": "code",
   "execution_count": 382,
   "id": "feec0205",
   "metadata": {},
   "outputs": [
    {
     "data": {
      "text/plain": [
       "<seaborn.axisgrid.FacetGrid at 0x12e80fac0>"
      ]
     },
     "execution_count": 382,
     "metadata": {},
     "output_type": "execute_result"
    },
    {
     "data": {
      "image/png": "[encoded data removed]",
      "text/plain": [
       "<Figure size 402.375x360 with 1 Axes>"
      ]
     },
     "metadata": {
      "needs_background": "light"
     },
     "output_type": "display_data"
    }
   ],
   "source": [
    "sns.displot(x='age_of_vehicle',hue='fraud',kind='hist',data=df_vehicle)"
   ]
  },
  {
   "cell_type": "code",
   "execution_count": 383,
   "id": "3fc3e056",
   "metadata": {},
   "outputs": [
    {
     "data": {
      "text/plain": [
       "<AxesSubplot:xlabel='age_of_vehicle'>"
      ]
     },
     "execution_count": 383,
     "metadata": {},
     "output_type": "execute_result"
    },
    {
     "data": {
      "image/png": "[encoded data removed]",
      "text/plain": [
       "<Figure size 432x288 with 1 Axes>"
      ]
     },
     "metadata": {
      "needs_background": "light"
     },
     "output_type": "display_data"
    }
   ],
   "source": [
    "df_vehicle.groupby('age_of_vehicle')['fraud'].mean().plot()"
   ]
  },
  {
   "cell_type": "code",
   "execution_count": 384,
   "id": "bcd52177",
   "metadata": {},
   "outputs": [
    {
     "data": {
      "text/plain": [
       "array(['Compact', 'Large', 'Medium'], dtype=object)"
      ]
     },
     "execution_count": 384,
     "metadata": {},
     "output_type": "execute_result"
    }
   ],
   "source": [
    "#vehicle category not much correlation, can be dummy coder\n",
    "df.vehicle_category.unique()"
   ]
  },
  {
   "cell_type": "code",
   "execution_count": 386,
   "id": "1dd9aaf2",
   "metadata": {},
   "outputs": [
    {
     "data": {
      "text/plain": [
       "<AxesSubplot:xlabel='vehicle_category', ylabel='count'>"
      ]
     },
     "execution_count": 386,
     "metadata": {},
     "output_type": "execute_result"
    },
    {
     "data": {
      "image/png": "[encoded data removed]",
      "text/plain": [
       "<Figure size 432x288 with 1 Axes>"
      ]
     },
     "metadata": {
      "needs_background": "light"
     },
     "output_type": "display_data"
    }
   ],
   "source": [
    "sns.countplot(x='vehicle_category',hue='fraud',data=df_vehicle)"
   ]
  },
  {
   "cell_type": "code",
   "execution_count": 393,
   "id": "230022b7",
   "metadata": {},
   "outputs": [
    {
     "data": {
      "text/plain": [
       "17998"
      ]
     },
     "execution_count": 393,
     "metadata": {},
     "output_type": "execute_result"
    }
   ],
   "source": [
    "#vehicle price numerical data\n",
    "df.vehicle_price.unique()"
   ]
  },
  {
   "cell_type": "code",
   "execution_count": 399,
   "id": "0e1015a0",
   "metadata": {},
   "outputs": [
    {
     "data": {
      "text/plain": [
       "<seaborn.axisgrid.FacetGrid at 0x16f846d40>"
      ]
     },
     "execution_count": 399,
     "metadata": {},
     "output_type": "execute_result"
    },
    {
     "data": {
      "image/png": "[encoded data removed]",
      "text/plain": [
       "<Figure size 402.375x360 with 1 Axes>"
      ]
     },
     "metadata": {
      "needs_background": "light"
     },
     "output_type": "display_data"
    }
   ],
   "source": [
    "sns.displot(x='vehicle_price',hue='fraud',kind='hist',data=df_vehicle)"
   ]
  },
  {
   "cell_type": "code",
   "execution_count": 400,
   "id": "774d3701",
   "metadata": {},
   "outputs": [
    {
     "data": {
      "text/plain": [
       "array(['white', 'other', 'gray', 'black', 'red', 'blue', 'silver'],\n",
       "      dtype=object)"
      ]
     },
     "execution_count": 400,
     "metadata": {},
     "output_type": "execute_result"
    }
   ],
   "source": [
    "#vehicle_color, dummy encoder\n",
    "df.vehicle_color.unique()"
   ]
  },
  {
   "cell_type": "code",
   "execution_count": 401,
   "id": "c80fd3c7",
   "metadata": {},
   "outputs": [
    {
     "data": {
      "text/plain": [
       "<AxesSubplot:xlabel='vehicle_color', ylabel='count'>"
      ]
     },
     "execution_count": 401,
     "metadata": {},
     "output_type": "execute_result"
    },
    {
     "data": {
      "image/png": "[encoded data removed]",
      "text/plain": [
       "<Figure size 432x288 with 1 Axes>"
      ]
     },
     "metadata": {
      "needs_background": "light"
     },
     "output_type": "display_data"
    }
   ],
   "source": [
    "sns.countplot(x='vehicle_color',hue='fraud',data=df_vehicle)"
   ]
  },
  {
   "cell_type": "code",
   "execution_count": 403,
   "id": "8a0f142f",
   "metadata": {},
   "outputs": [
    {
     "data": {
      "text/plain": [
       "17998"
      ]
     },
     "execution_count": 403,
     "metadata": {},
     "output_type": "execute_result"
    }
   ],
   "source": [
    "#vehicle_weight\n",
    "len(df.vehicle_weight.unique())"
   ]
  },
  {
   "cell_type": "code",
   "execution_count": 404,
   "id": "57a065b8",
   "metadata": {},
   "outputs": [
    {
     "data": {
      "text/plain": [
       "<seaborn.axisgrid.FacetGrid at 0x18124d300>"
      ]
     },
     "execution_count": 404,
     "metadata": {},
     "output_type": "execute_result"
    },
    {
     "data": {
      "image/png": "[encoded data removed]",
      "text/plain": [
       "<Figure size 402.375x360 with 1 Axes>"
      ]
     },
     "metadata": {
      "needs_background": "light"
     },
     "output_type": "display_data"
    }
   ],
   "source": [
    "sns.displot(x='vehicle_weight',hue='fraud',kind='hist',data=df_vehicle)"
   ]
  },
  {
   "cell_type": "code",
   "execution_count": 406,
   "id": "765eee9f",
   "metadata": {},
   "outputs": [
    {
     "data": {
      "text/plain": [
       "[<matplotlib.lines.Line2D at 0x1312603a0>]"
      ]
     },
     "execution_count": 406,
     "metadata": {},
     "output_type": "execute_result"
    },
    {
     "data": {
      "image/png": "[encoded data removed]",
      "text/plain": [
       "<Figure size 432x288 with 1 Axes>"
      ]
     },
     "metadata": {
      "needs_background": "light"
     },
     "output_type": "display_data"
    }
   ],
   "source": [
    "#no collinearity\n",
    "plt.plot(df.vehicle_weight,df.vehicle_price)"
   ]
  },
  {
   "cell_type": "markdown",
   "id": "db2b26fa",
   "metadata": {},
   "source": [
    "#### visualize other features"
   ]
  },
  {
   "cell_type": "code",
   "execution_count": 410,
   "id": "7e416079",
   "metadata": {},
   "outputs": [
    {
     "name": "stdout",
     "output_type": "stream",
     "text": [
      "<class 'pandas.core.frame.DataFrame'>\n",
      "RangeIndex: 17998 entries, 0 to 17997\n",
      "Data columns (total 25 columns):\n",
      " #   Column                   Non-Null Count  Dtype  \n",
      "---  ------                   --------------  -----  \n",
      " 0   claim_number             17998 non-null  int64  \n",
      " 1   age_of_driver            17998 non-null  int64  \n",
      " 2   gender                   17998 non-null  object \n",
      " 3   marital_status           17993 non-null  float64\n",
      " 4   safty_rating             17998 non-null  int64  \n",
      " 5   annual_income            17998 non-null  int64  \n",
      " 6   high_education_ind       17998 non-null  int64  \n",
      " 7   address_change_ind       17998 non-null  int64  \n",
      " 8   living_status            17998 non-null  object \n",
      " 9   zip_code                 17998 non-null  int64  \n",
      " 10  claim_date               17998 non-null  object \n",
      " 11  claim_day_of_week        17998 non-null  object \n",
      " 12  accident_site            17998 non-null  object \n",
      " 13  past_num_of_claims       17998 non-null  int64  \n",
      " 14  witness_present_ind      17866 non-null  float64\n",
      " 15  liab_prct                17998 non-null  int64  \n",
      " 16  channel                  17998 non-null  object \n",
      " 17  policy_report_filed_ind  17998 non-null  int64  \n",
      " 18  claim_est_payout         17981 non-null  float64\n",
      " 19  age_of_vehicle           17990 non-null  float64\n",
      " 20  vehicle_category         17998 non-null  object \n",
      " 21  vehicle_price            17998 non-null  float64\n",
      " 22  vehicle_color            17998 non-null  object \n",
      " 23  vehicle_weight           17998 non-null  float64\n",
      " 24  fraud                    17998 non-null  int64  \n",
      "dtypes: float64(6), int64(11), object(8)\n",
      "memory usage: 3.4+ MB\n"
     ]
    }
   ],
   "source": [
    "df.info()"
   ]
  },
  {
   "cell_type": "code",
   "execution_count": 446,
   "id": "86508e45",
   "metadata": {},
   "outputs": [],
   "source": [
    "df_other = df[['accident_site','witness_present_ind', 'liab_prct', 'channel',\n",
    "       'policy_report_filed_ind', 'claim_est_payout','fraud']]"
   ]
  },
  {
   "cell_type": "code",
   "execution_count": 447,
   "id": "e7d185e4",
   "metadata": {},
   "outputs": [
    {
     "data": {
      "text/plain": [
       "array(['Local', 'Highway', 'Parking Lot'], dtype=object)"
      ]
     },
     "execution_count": 447,
     "metadata": {},
     "output_type": "execute_result"
    }
   ],
   "source": [
    "#accident_site, use fraud rate or onhot\n",
    "df_other.accident_site.unique()"
   ]
  },
  {
   "cell_type": "code",
   "execution_count": 448,
   "id": "d0366b93",
   "metadata": {},
   "outputs": [
    {
     "data": {
      "text/plain": [
       "<AxesSubplot:xlabel='accident_site', ylabel='count'>"
      ]
     },
     "execution_count": 448,
     "metadata": {},
     "output_type": "execute_result"
    },
    {
     "data": {
      "image/png": "[encoded data removed]",
      "text/plain": [
       "<Figure size 432x288 with 1 Axes>"
      ]
     },
     "metadata": {
      "needs_background": "light"
     },
     "output_type": "display_data"
    }
   ],
   "source": [
    "sns.countplot(x='accident_site',hue='fraud',data=df_other)"
   ]
  },
  {
   "cell_type": "code",
   "execution_count": 450,
   "id": "013a0f16",
   "metadata": {},
   "outputs": [
    {
     "data": {
      "text/plain": [
       "0.17221715328467152"
      ]
     },
     "execution_count": 450,
     "metadata": {},
     "output_type": "execute_result"
    }
   ],
   "source": [
    "df_other[df_other['accident_site']=='Local']['fraud'].mean()"
   ]
  },
  {
   "cell_type": "code",
   "execution_count": 451,
   "id": "3a1206d1",
   "metadata": {},
   "outputs": [
    {
     "data": {
      "text/plain": [
       "0.20569451836083022"
      ]
     },
     "execution_count": 451,
     "metadata": {},
     "output_type": "execute_result"
    }
   ],
   "source": [
    "df_other[df_other['accident_site']=='Highway']['fraud'].mean()"
   ]
  },
  {
   "cell_type": "code",
   "execution_count": 452,
   "id": "f5a2e16f",
   "metadata": {},
   "outputs": [
    {
     "data": {
      "text/plain": [
       "0.09740497076023392"
      ]
     },
     "execution_count": 452,
     "metadata": {},
     "output_type": "execute_result"
    }
   ],
   "source": [
    "df_other[df_other['accident_site']=='Parking Lot']['fraud'].mean()"
   ]
  },
  {
   "cell_type": "code",
   "execution_count": null,
   "id": "b51b4625",
   "metadata": {},
   "outputs": [],
   "source": []
  },
  {
   "cell_type": "code",
   "execution_count": 409,
   "id": "6ab104f7",
   "metadata": {},
   "outputs": [
    {
     "data": {
      "text/plain": [
       "array([ 0.,  1., nan])"
      ]
     },
     "execution_count": 409,
     "metadata": {},
     "output_type": "execute_result"
    }
   ],
   "source": [
    "#witness_present.  since the fraud rate of na is closer to '1'category, can fillna with 1\n",
    "df_other.witness_present_ind.unique()"
   ]
  },
  {
   "cell_type": "code",
   "execution_count": 411,
   "id": "d0f74a0e",
   "metadata": {},
   "outputs": [
    {
     "data": {
      "text/plain": [
       "<AxesSubplot:xlabel='witness_present_ind', ylabel='count'>"
      ]
     },
     "execution_count": 411,
     "metadata": {},
     "output_type": "execute_result"
    },
    {
     "data": {
      "image/png": "[encoded data removed]",
      "text/plain": [
       "<Figure size 432x288 with 1 Axes>"
      ]
     },
     "metadata": {
      "needs_background": "light"
     },
     "output_type": "display_data"
    }
   ],
   "source": [
    "sns.countplot(x='witness_present_ind',hue='fraud',data=df_other)"
   ]
  },
  {
   "cell_type": "code",
   "execution_count": 419,
   "id": "d2e6098f",
   "metadata": {},
   "outputs": [
    {
     "data": {
      "text/plain": [
       "0.12121212121212122"
      ]
     },
     "execution_count": 419,
     "metadata": {},
     "output_type": "execute_result"
    }
   ],
   "source": [
    "df_other[df.witness_present_ind.isnull()]['fraud'].mean()"
   ]
  },
  {
   "cell_type": "code",
   "execution_count": 417,
   "id": "747da39a",
   "metadata": {},
   "outputs": [
    {
     "data": {
      "text/plain": [
       "0.17156612444379604"
      ]
     },
     "execution_count": 417,
     "metadata": {},
     "output_type": "execute_result"
    }
   ],
   "source": [
    "df_other[df['witness_present_ind']==0]['fraud'].mean()"
   ]
  },
  {
   "cell_type": "code",
   "execution_count": 418,
   "id": "2f24da6d",
   "metadata": {},
   "outputs": [
    {
     "data": {
      "text/plain": [
       "0.10777002646139043"
      ]
     },
     "execution_count": 418,
     "metadata": {},
     "output_type": "execute_result"
    }
   ],
   "source": [
    "df_other[df['witness_present_ind']==1]['fraud'].mean()"
   ]
  },
  {
   "cell_type": "code",
   "execution_count": 420,
   "id": "417a1066",
   "metadata": {},
   "outputs": [
    {
     "data": {
      "text/plain": [
       "array([ 74,  79,   0,  99,   7,  64,  50,  95,   3,   9,  19,   8,  98,\n",
       "        12,  57,  81,  71,  28,  59,  34,   1,   2,  85,  27,  17,  31,\n",
       "        60,  54,  77,  78,  68,  62,  67,  83,  84,  97,  49,  37,  36,\n",
       "         5,  66,  42,  76,  11,  40,  25,  93,  48,  22,   4,  69,  61,\n",
       "        10,  39,  92,  46,  45,  52,  96,  88,  87,  55,  75,  32,  73,\n",
       "        94,  80,  35,  43,   6,  15,  91,  38,  13, 100,  70,  47,  82,\n",
       "        18,  58,  89,  30,  21,  26,  29,  56,  86,  63,  65,  20,  53,\n",
       "        51,  44,  33,  14,  90,  23,  72,  24,  16,  41])"
      ]
     },
     "execution_count": 420,
     "metadata": {},
     "output_type": "execute_result"
    }
   ],
   "source": [
    "#liab_prct. not really know what means\n",
    "df_other.liab_prct.unique()"
   ]
  },
  {
   "cell_type": "code",
   "execution_count": 425,
   "id": "74f9137d",
   "metadata": {},
   "outputs": [
    {
     "data": {
      "text/plain": [
       "<seaborn.axisgrid.FacetGrid at 0x1743a76a0>"
      ]
     },
     "execution_count": 425,
     "metadata": {},
     "output_type": "execute_result"
    },
    {
     "data": {
      "image/png": "[encoded data removed]",
      "text/plain": [
       "<Figure size 402.375x360 with 1 Axes>"
      ]
     },
     "metadata": {
      "needs_background": "light"
     },
     "output_type": "display_data"
    }
   ],
   "source": [
    "sns.displot(x='liab_prct',hue='fraud',data=df_other)"
   ]
  },
  {
   "cell_type": "code",
   "execution_count": 427,
   "id": "65722541",
   "metadata": {},
   "outputs": [
    {
     "data": {
      "text/plain": [
       "array(['Broker', 'Online', 'Phone'], dtype=object)"
      ]
     },
     "execution_count": 427,
     "metadata": {},
     "output_type": "execute_result"
    }
   ],
   "source": [
    "#channel\n",
    "df_other.channel.unique()"
   ]
  },
  {
   "cell_type": "code",
   "execution_count": 428,
   "id": "f9aaba51",
   "metadata": {},
   "outputs": [
    {
     "data": {
      "text/plain": [
       "<seaborn.axisgrid.FacetGrid at 0x1824ea4a0>"
      ]
     },
     "execution_count": 428,
     "metadata": {},
     "output_type": "execute_result"
    },
    {
     "data": {
      "image/png": "[encoded data removed]",
      "text/plain": [
       "<Figure size 402.375x360 with 1 Axes>"
      ]
     },
     "metadata": {
      "needs_background": "light"
     },
     "output_type": "display_data"
    }
   ],
   "source": [
    "sns.displot(x='channel',hue='fraud',data=df_other)"
   ]
  },
  {
   "cell_type": "code",
   "execution_count": 429,
   "id": "4a714c0d",
   "metadata": {},
   "outputs": [
    {
     "data": {
      "text/plain": [
       "0.15478044222983495"
      ]
     },
     "execution_count": 429,
     "metadata": {},
     "output_type": "execute_result"
    }
   ],
   "source": [
    "df_other[df['channel']=='Broker']['fraud'].mean()"
   ]
  },
  {
   "cell_type": "code",
   "execution_count": 431,
   "id": "ad8691c2",
   "metadata": {},
   "outputs": [
    {
     "data": {
      "text/plain": [
       "0.15651503469545103"
      ]
     },
     "execution_count": 431,
     "metadata": {},
     "output_type": "execute_result"
    }
   ],
   "source": [
    "df_other[df['channel']=='Online']['fraud'].mean()"
   ]
  },
  {
   "cell_type": "code",
   "execution_count": 432,
   "id": "aa72b7db",
   "metadata": {},
   "outputs": [
    {
     "data": {
      "text/plain": [
       "0.15924449835383817"
      ]
     },
     "execution_count": 432,
     "metadata": {},
     "output_type": "execute_result"
    }
   ],
   "source": [
    "df_other[df['channel']=='Phone']['fraud'].mean()"
   ]
  },
  {
   "cell_type": "code",
   "execution_count": 433,
   "id": "e9fe55b7",
   "metadata": {},
   "outputs": [
    {
     "data": {
      "text/plain": [
       "array([0, 1])"
      ]
     },
     "execution_count": 433,
     "metadata": {},
     "output_type": "execute_result"
    }
   ],
   "source": [
    "#police report\n",
    "df['policy_report_filed_ind'].unique()"
   ]
  },
  {
   "cell_type": "code",
   "execution_count": 434,
   "id": "15ea75b4",
   "metadata": {},
   "outputs": [
    {
     "data": {
      "text/plain": [
       "<seaborn.axisgrid.FacetGrid at 0x1824aa2c0>"
      ]
     },
     "execution_count": 434,
     "metadata": {},
     "output_type": "execute_result"
    },
    {
     "data": {
      "image/png": "[encoded data removed]",
      "text/plain": [
       "<Figure size 402.375x360 with 1 Axes>"
      ]
     },
     "metadata": {
      "needs_background": "light"
     },
     "output_type": "display_data"
    }
   ],
   "source": [
    "sns.displot(x='policy_report_filed_ind',hue='fraud',data=df_other)"
   ]
  },
  {
   "cell_type": "code",
   "execution_count": 435,
   "id": "0227fd9a",
   "metadata": {},
   "outputs": [
    {
     "data": {
      "text/plain": [
       "0.1653871057256498"
      ]
     },
     "execution_count": 435,
     "metadata": {},
     "output_type": "execute_result"
    }
   ],
   "source": [
    "df_other[df['policy_report_filed_ind']==1]['fraud'].mean()"
   ]
  },
  {
   "cell_type": "code",
   "execution_count": 436,
   "id": "353ed61c",
   "metadata": {},
   "outputs": [
    {
     "data": {
      "text/plain": [
       "0.14303603728955058"
      ]
     },
     "execution_count": 436,
     "metadata": {},
     "output_type": "execute_result"
    }
   ],
   "source": [
    "df_other[df['policy_report_filed_ind']==0]['fraud'].mean()"
   ]
  },
  {
   "cell_type": "code",
   "execution_count": 437,
   "id": "bfabdb83",
   "metadata": {},
   "outputs": [
    {
     "data": {
      "text/plain": [
       "<seaborn.axisgrid.FacetGrid at 0x1824ea560>"
      ]
     },
     "execution_count": 437,
     "metadata": {},
     "output_type": "execute_result"
    },
    {
     "data": {
      "image/png": "[encoded data removed]",
      "text/plain": [
       "<Figure size 402.375x360 with 1 Axes>"
      ]
     },
     "metadata": {
      "needs_background": "light"
     },
     "output_type": "display_data"
    }
   ],
   "source": [
    "#'claim_est_payout' fillna with mean\n",
    "sns.displot(x='claim_est_payout',hue='fraud',data=df_other)"
   ]
  },
  {
   "cell_type": "code",
   "execution_count": 439,
   "id": "02ac7db6",
   "metadata": {},
   "outputs": [
    {
     "data": {
      "text/plain": [
       "13760028.8182191"
      ]
     },
     "execution_count": 439,
     "metadata": {},
     "output_type": "execute_result"
    }
   ],
   "source": [
    "df_other[df_other['fraud']==1]['claim_est_payout'].sum()"
   ]
  },
  {
   "cell_type": "code",
   "execution_count": 441,
   "id": "73574624",
   "metadata": {},
   "outputs": [
    {
     "data": {
      "text/plain": [
       "0.15379537582128916"
      ]
     },
     "execution_count": 441,
     "metadata": {},
     "output_type": "execute_result"
    }
   ],
   "source": [
    "df_other[df_other['fraud']==1]['claim_est_payout'].sum()/df_other['claim_est_payout'].sum()"
   ]
  },
  {
   "cell_type": "code",
   "execution_count": 442,
   "id": "5001cb51",
   "metadata": {},
   "outputs": [
    {
     "name": "stdout",
     "output_type": "stream",
     "text": [
      "<class 'pandas.core.frame.DataFrame'>\n",
      "RangeIndex: 17998 entries, 0 to 17997\n",
      "Data columns (total 25 columns):\n",
      " #   Column                   Non-Null Count  Dtype  \n",
      "---  ------                   --------------  -----  \n",
      " 0   claim_number             17998 non-null  int64  \n",
      " 1   age_of_driver            17998 non-null  int64  \n",
      " 2   gender                   17998 non-null  object \n",
      " 3   marital_status           17993 non-null  float64\n",
      " 4   safty_rating             17998 non-null  int64  \n",
      " 5   annual_income            17998 non-null  int64  \n",
      " 6   high_education_ind       17998 non-null  int64  \n",
      " 7   address_change_ind       17998 non-null  int64  \n",
      " 8   living_status            17998 non-null  object \n",
      " 9   zip_code                 17998 non-null  int64  \n",
      " 10  claim_date               17998 non-null  object \n",
      " 11  claim_day_of_week        17998 non-null  object \n",
      " 12  accident_site            17998 non-null  object \n",
      " 13  past_num_of_claims       17998 non-null  int64  \n",
      " 14  witness_present_ind      17866 non-null  float64\n",
      " 15  liab_prct                17998 non-null  int64  \n",
      " 16  channel                  17998 non-null  object \n",
      " 17  policy_report_filed_ind  17998 non-null  int64  \n",
      " 18  claim_est_payout         17981 non-null  float64\n",
      " 19  age_of_vehicle           17990 non-null  float64\n",
      " 20  vehicle_category         17998 non-null  object \n",
      " 21  vehicle_price            17998 non-null  float64\n",
      " 22  vehicle_color            17998 non-null  object \n",
      " 23  vehicle_weight           17998 non-null  float64\n",
      " 24  fraud                    17998 non-null  int64  \n",
      "dtypes: float64(6), int64(11), object(8)\n",
      "memory usage: 3.4+ MB\n"
     ]
    }
   ],
   "source": [
    "df.info()"
   ]
  },
  {
   "cell_type": "code",
   "execution_count": 443,
   "id": "5ab776e4",
   "metadata": {},
   "outputs": [
    {
     "data": {
      "text/plain": [
       "Index(['claim_number', 'age_of_driver', 'gender', 'marital_status',\n",
       "       'safty_rating', 'annual_income', 'high_education_ind',\n",
       "       'address_change_ind', 'living_status', 'zip_code', 'claim_date',\n",
       "       'claim_day_of_week', 'accident_site', 'past_num_of_claims',\n",
       "       'witness_present_ind', 'liab_prct', 'channel',\n",
       "       'policy_report_filed_ind', 'claim_est_payout', 'age_of_vehicle',\n",
       "       'vehicle_category', 'vehicle_price', 'vehicle_color', 'vehicle_weight',\n",
       "       'fraud'],\n",
       "      dtype='object')"
      ]
     },
     "execution_count": 443,
     "metadata": {},
     "output_type": "execute_result"
    }
   ],
   "source": [
    "df.columns"
   ]
  },
  {
   "cell_type": "markdown",
   "id": "d6c83349",
   "metadata": {},
   "source": [
    "#### feature summary\n"
   ]
  },
  {
   "cell_type": "markdown",
   "id": "b5c8852f",
   "metadata": {},
   "source": [
    "'claim_number',  -- del\n",
    "'age_of_driver',  --num, drop >=100\n",
    "'gender',         --dummy\n",
    "'marital_status', -- dummy, dropna\n",
    "       'safty_rating', -- change column name,  num\n",
    "    'annual_income', -- num\n",
    "    'high_education_ind', -- one hot, fraud rate to encode\n",
    "       'address_change_ind',  -- on hot or fraud rate to encode\n",
    "        'living_status', -- one hot or fraud rate \n",
    "        'zip_code', -- fraud rate\n",
    "        'claim_date', -- can get year, month, day column, or drop\n",
    "       'claim_day_of_week', -- one hot\n",
    "    'accident_site',   -- one hot or fraud rate\n",
    "    'past_num_of_claims', -- fraud rate\n",
    "       'witness_present_ind', -- fillna with 1\n",
    "        'liab_prct',  -- num, no change\n",
    "        'channel',   -- one hot\n",
    "       'policy_report_filed_ind', -- no change\n",
    "    'claim_est_payout',  -- num, fillna with mean\n",
    "    'age_of_vehicle',  -- fillna with mean\n",
    "       'vehicle_category', -- one hot\n",
    "        'vehicle_price',  -- num, no change\n",
    "        'vehicle_color', -- one hot\n",
    "        'vehicle_weight', -- one hot\n",
    "       'fraud'"
   ]
  },
  {
   "cell_type": "code",
   "execution_count": 466,
   "id": "8027e34c",
   "metadata": {},
   "outputs": [
    {
     "data": {
      "text/html": [
       "<div>\n",
       "<style scoped>\n",
       "    .dataframe tbody tr th:only-of-type {\n",
       "        vertical-align: middle;\n",
       "    }\n",
       "\n",
       "    .dataframe tbody tr th {\n",
       "        vertical-align: top;\n",
       "    }\n",
       "\n",
       "    .dataframe thead th {\n",
       "        text-align: right;\n",
       "    }\n",
       "</style>\n",
       "<table border=\"1\" class=\"dataframe\">\n",
       "  <thead>\n",
       "    <tr style=\"text-align: right;\">\n",
       "      <th></th>\n",
       "      <th>claim_number</th>\n",
       "      <th>age_of_driver</th>\n",
       "      <th>gender</th>\n",
       "      <th>marital_status</th>\n",
       "      <th>safty_rating</th>\n",
       "      <th>annual_income</th>\n",
       "      <th>high_education_ind</th>\n",
       "      <th>address_change_ind</th>\n",
       "      <th>living_status</th>\n",
       "      <th>zip_code</th>\n",
       "      <th>claim_date</th>\n",
       "      <th>claim_day_of_week</th>\n",
       "      <th>accident_site</th>\n",
       "      <th>past_num_of_claims</th>\n",
       "      <th>witness_present_ind</th>\n",
       "      <th>liab_prct</th>\n",
       "      <th>channel</th>\n",
       "      <th>policy_report_filed_ind</th>\n",
       "      <th>claim_est_payout</th>\n",
       "      <th>age_of_vehicle</th>\n",
       "      <th>vehicle_category</th>\n",
       "      <th>vehicle_price</th>\n",
       "      <th>vehicle_color</th>\n",
       "      <th>vehicle_weight</th>\n",
       "      <th>fraud</th>\n",
       "    </tr>\n",
       "  </thead>\n",
       "  <tbody>\n",
       "    <tr>\n",
       "      <th>0</th>\n",
       "      <td>1</td>\n",
       "      <td>46</td>\n",
       "      <td>M</td>\n",
       "      <td>1.0</td>\n",
       "      <td>85</td>\n",
       "      <td>38301</td>\n",
       "      <td>1</td>\n",
       "      <td>1</td>\n",
       "      <td>Rent</td>\n",
       "      <td>80006</td>\n",
       "      <td>12/16/2016</td>\n",
       "      <td>Friday</td>\n",
       "      <td>Local</td>\n",
       "      <td>1</td>\n",
       "      <td>0.0</td>\n",
       "      <td>74</td>\n",
       "      <td>Broker</td>\n",
       "      <td>0</td>\n",
       "      <td>7530.940993</td>\n",
       "      <td>9.0</td>\n",
       "      <td>Compact</td>\n",
       "      <td>12885.45235</td>\n",
       "      <td>white</td>\n",
       "      <td>16161.33381</td>\n",
       "      <td>0</td>\n",
       "    </tr>\n",
       "    <tr>\n",
       "      <th>1</th>\n",
       "      <td>3</td>\n",
       "      <td>21</td>\n",
       "      <td>F</td>\n",
       "      <td>0.0</td>\n",
       "      <td>75</td>\n",
       "      <td>30445</td>\n",
       "      <td>0</td>\n",
       "      <td>1</td>\n",
       "      <td>Rent</td>\n",
       "      <td>15021</td>\n",
       "      <td>2/12/2015</td>\n",
       "      <td>Thursday</td>\n",
       "      <td>Highway</td>\n",
       "      <td>1</td>\n",
       "      <td>1.0</td>\n",
       "      <td>79</td>\n",
       "      <td>Online</td>\n",
       "      <td>0</td>\n",
       "      <td>2966.024895</td>\n",
       "      <td>4.0</td>\n",
       "      <td>Large</td>\n",
       "      <td>29429.45218</td>\n",
       "      <td>white</td>\n",
       "      <td>28691.96422</td>\n",
       "      <td>0</td>\n",
       "    </tr>\n",
       "    <tr>\n",
       "      <th>2</th>\n",
       "      <td>4</td>\n",
       "      <td>49</td>\n",
       "      <td>F</td>\n",
       "      <td>0.0</td>\n",
       "      <td>87</td>\n",
       "      <td>38923</td>\n",
       "      <td>0</td>\n",
       "      <td>1</td>\n",
       "      <td>Own</td>\n",
       "      <td>20158</td>\n",
       "      <td>12/6/2016</td>\n",
       "      <td>Tuesday</td>\n",
       "      <td>Local</td>\n",
       "      <td>0</td>\n",
       "      <td>0.0</td>\n",
       "      <td>0</td>\n",
       "      <td>Broker</td>\n",
       "      <td>0</td>\n",
       "      <td>6283.888333</td>\n",
       "      <td>3.0</td>\n",
       "      <td>Compact</td>\n",
       "      <td>21701.18195</td>\n",
       "      <td>white</td>\n",
       "      <td>22090.94758</td>\n",
       "      <td>1</td>\n",
       "    </tr>\n",
       "    <tr>\n",
       "      <th>3</th>\n",
       "      <td>5</td>\n",
       "      <td>58</td>\n",
       "      <td>F</td>\n",
       "      <td>1.0</td>\n",
       "      <td>58</td>\n",
       "      <td>40605</td>\n",
       "      <td>1</td>\n",
       "      <td>0</td>\n",
       "      <td>Own</td>\n",
       "      <td>15024</td>\n",
       "      <td>5/5/2016</td>\n",
       "      <td>Thursday</td>\n",
       "      <td>Local</td>\n",
       "      <td>3</td>\n",
       "      <td>0.0</td>\n",
       "      <td>99</td>\n",
       "      <td>Broker</td>\n",
       "      <td>1</td>\n",
       "      <td>6169.747994</td>\n",
       "      <td>4.0</td>\n",
       "      <td>Medium</td>\n",
       "      <td>13198.27344</td>\n",
       "      <td>other</td>\n",
       "      <td>38329.58106</td>\n",
       "      <td>1</td>\n",
       "    </tr>\n",
       "    <tr>\n",
       "      <th>4</th>\n",
       "      <td>6</td>\n",
       "      <td>38</td>\n",
       "      <td>M</td>\n",
       "      <td>1.0</td>\n",
       "      <td>95</td>\n",
       "      <td>36380</td>\n",
       "      <td>1</td>\n",
       "      <td>0</td>\n",
       "      <td>Rent</td>\n",
       "      <td>50034</td>\n",
       "      <td>10/27/2015</td>\n",
       "      <td>Tuesday</td>\n",
       "      <td>Highway</td>\n",
       "      <td>0</td>\n",
       "      <td>1.0</td>\n",
       "      <td>7</td>\n",
       "      <td>Broker</td>\n",
       "      <td>0</td>\n",
       "      <td>4541.387150</td>\n",
       "      <td>7.0</td>\n",
       "      <td>Medium</td>\n",
       "      <td>38060.21122</td>\n",
       "      <td>gray</td>\n",
       "      <td>25876.56319</td>\n",
       "      <td>0</td>\n",
       "    </tr>\n",
       "  </tbody>\n",
       "</table>\n",
       "</div>"
      ],
      "text/plain": [
       "   claim_number  age_of_driver gender  marital_status  safty_rating  \\\n",
       "0             1             46      M             1.0            85   \n",
       "1             3             21      F             0.0            75   \n",
       "2             4             49      F             0.0            87   \n",
       "3             5             58      F             1.0            58   \n",
       "4             6             38      M             1.0            95   \n",
       "\n",
       "   annual_income  high_education_ind  address_change_ind living_status  \\\n",
       "0          38301                   1                   1          Rent   \n",
       "1          30445                   0                   1          Rent   \n",
       "2          38923                   0                   1           Own   \n",
       "3          40605                   1                   0           Own   \n",
       "4          36380                   1                   0          Rent   \n",
       "\n",
       "   zip_code  claim_date claim_day_of_week accident_site  past_num_of_claims  \\\n",
       "0     80006  12/16/2016            Friday         Local                   1   \n",
       "1     15021   2/12/2015          Thursday       Highway                   1   \n",
       "2     20158   12/6/2016           Tuesday         Local                   0   \n",
       "3     15024    5/5/2016          Thursday         Local                   3   \n",
       "4     50034  10/27/2015           Tuesday       Highway                   0   \n",
       "\n",
       "   witness_present_ind  liab_prct channel  policy_report_filed_ind  \\\n",
       "0                  0.0         74  Broker                        0   \n",
       "1                  1.0         79  Online                        0   \n",
       "2                  0.0          0  Broker                        0   \n",
       "3                  0.0         99  Broker                        1   \n",
       "4                  1.0          7  Broker                        0   \n",
       "\n",
       "   claim_est_payout  age_of_vehicle vehicle_category  vehicle_price  \\\n",
       "0       7530.940993             9.0          Compact    12885.45235   \n",
       "1       2966.024895             4.0            Large    29429.45218   \n",
       "2       6283.888333             3.0          Compact    21701.18195   \n",
       "3       6169.747994             4.0           Medium    13198.27344   \n",
       "4       4541.387150             7.0           Medium    38060.21122   \n",
       "\n",
       "  vehicle_color  vehicle_weight  fraud  \n",
       "0         white     16161.33381      0  \n",
       "1         white     28691.96422      0  \n",
       "2         white     22090.94758      1  \n",
       "3         other     38329.58106      1  \n",
       "4          gray     25876.56319      0  "
      ]
     },
     "execution_count": 466,
     "metadata": {},
     "output_type": "execute_result"
    }
   ],
   "source": [
    "df.head()"
   ]
  },
  {
   "cell_type": "markdown",
   "id": "375dd880",
   "metadata": {},
   "source": [
    "###  Transformer "
   ]
  },
  {
   "cell_type": "code",
   "execution_count": 816,
   "id": "49ce99f4",
   "metadata": {},
   "outputs": [],
   "source": [
    "df = df.dropna(subset='marital_status',axis = 0)\n",
    "df = df.loc[df['age_of_driver']<100]\n",
    "features = list(df.columns)\n",
    "for column in ['fraud','claim_number','claim_date']:\n",
    "    features.remove(column)\n",
    "\n",
    "target = 'fraud'\n",
    "X = df[features]\n",
    "y = df['fraud']"
   ]
  },
  {
   "cell_type": "code",
   "execution_count": 817,
   "id": "d1784d25",
   "metadata": {},
   "outputs": [],
   "source": [
    "X_train, X_test, y_train, y_test = train_test_split(X, y, test_size=0.3, random_state=101)"
   ]
  },
  {
   "cell_type": "code",
   "execution_count": 818,
   "id": "3d14727a",
   "metadata": {},
   "outputs": [],
   "source": [
    "def zip_code_tranformer(X,y):\n",
    "    df = pd.DataFrame()\n",
    "    df['zip_code'] = X.zip_code\n",
    "    df['fraud'] = y\n",
    "    return df.groupby('zip_code')['fraud'].mean().to_dict()\n",
    "        "
   ]
  },
  {
   "cell_type": "code",
   "execution_count": 819,
   "id": "dc3ac54c",
   "metadata": {},
   "outputs": [],
   "source": [
    "class Transformer():\n",
    "    def fit(self,X,y=None):\n",
    "        df = pd.DataFrame()\n",
    "        # Dummy encoder for categorical features\n",
    "        df = pd.get_dummies(X[['gender','living_status','claim_day_of_week','accident_site','channel',\n",
    "                              'vehicle_category','vehicle_color']],drop_first=True)\n",
    "        # num features\n",
    "        df['age_of_driver'] = X['age_of_driver']\n",
    "        df['marital_status'] =X['marital_status']\n",
    "        df['safty_rating'] = X['safty_rating']\n",
    "        df['annual_income'] = X['annual_income']\n",
    "        df['high_education_ind'] = X['high_education_ind']\n",
    "        df['address_change_ind'] = X['address_change_ind']\n",
    "        df['past_num_of_claims'] = X['past_num_of_claims']\n",
    "        df['witness_present_ind'] = X['witness_present_ind']\n",
    "        df['liab_prct'] = X['liab_prct']\n",
    "        df['policy_report_filed_ind'] =X['policy_report_filed_ind']\n",
    "        df['claim_est_payout'] = X['claim_est_payout']\n",
    "        df['age_of_vehicle'] =X['age_of_vehicle']\n",
    "        df['vehicle_price'] = X['vehicle_price']\n",
    "        df['vehicle_weight'] = X['vehicle_weight']\n",
    "        \n",
    "        #zip code map fraud rate\n",
    "        self.zip_code_fraud = self.zip_code_transformer(X,y)\n",
    "        df['zip_code'] = X.zip_code.map(self.zip_code_fraud)\n",
    "        \n",
    "        #for fill na\n",
    "        # 'witness_present_ind' 1\n",
    "        #'claim_est_payout',  -- num, fillna with mean\n",
    "#     'age_of_vehicle',  -- fillna with mean\n",
    "        self.payout = df['claim_est_payout'].mean()\n",
    "        self.age_vehicle = df['age_of_vehicle'].mean()\n",
    "        self.witness = 1\n",
    "\n",
    "        \n",
    "    def transform(self,X,y=None):\n",
    "        df = pd.DataFrame()\n",
    "        # Dummy encoder for categorical features\n",
    "        df = pd.get_dummies(X[['gender','living_status','claim_day_of_week','accident_site','channel',\n",
    "                              'vehicle_category','vehicle_color']],drop_first=True)\n",
    "        # num features\n",
    "        df['age_of_driver'] = X['age_of_driver']\n",
    "        df['marital_status'] =X['marital_status']\n",
    "        df['safty_rating'] = X['safty_rating']\n",
    "        df['annual_income'] = X['annual_income']\n",
    "        df['high_education_ind'] = X['high_education_ind']\n",
    "        df['address_change_ind'] = X['address_change_ind']\n",
    "        df['past_num_of_claims'] = X['past_num_of_claims']\n",
    "        df['witness_present_ind'] = X['witness_present_ind']\n",
    "        df['liab_prct'] = X['liab_prct']\n",
    "        df['policy_report_filed_ind'] =X['policy_report_filed_ind']\n",
    "        df['claim_est_payout'] = X['claim_est_payout']\n",
    "        df['age_of_vehicle'] =X['age_of_vehicle']\n",
    "        df['vehicle_price'] = X['vehicle_price']\n",
    "        df['vehicle_weight'] = X['vehicle_weight']\n",
    "        \n",
    "        #zip code map fraud rate\n",
    "        df['zip_code'] = X.zip_code.map(self.zip_code_fraud)\n",
    "        \n",
    "        #fill na\n",
    "        values = {'witness_present_ind':1, 'claim_est_payout':self.payout,'age_of_vehicle':self.age_vehicle}\n",
    "        return df.fillna(value = values)\n",
    "\n",
    "    \n",
    "    def fit_transform(self,X,y=None):\n",
    "        self.fit(X,y)\n",
    "        return self.transform(X,y)\n",
    "        \n",
    "    def zip_code_transformer(self,X,y):\n",
    "        df = pd.DataFrame()\n",
    "        df['zip_code'] = X.zip_code\n",
    "        df['fraud'] = y\n",
    "        return df.groupby('zip_code')['fraud'].mean().to_dict()\n",
    "        \n",
    "        \n",
    "        \n",
    "        "
   ]
  },
  {
   "cell_type": "code",
   "execution_count": 820,
   "id": "61051adc",
   "metadata": {},
   "outputs": [],
   "source": [
    "tf = Transformer()"
   ]
  },
  {
   "cell_type": "code",
   "execution_count": 821,
   "id": "bfdd7492",
   "metadata": {},
   "outputs": [
    {
     "data": {
      "text/plain": [
       "(12591, 35)"
      ]
     },
     "execution_count": 821,
     "metadata": {},
     "output_type": "execute_result"
    }
   ],
   "source": [
    "tf_X = tf.fit_transform(X_train,y_train)\n",
    "tf_X.shape"
   ]
  },
  {
   "cell_type": "code",
   "execution_count": null,
   "id": "f748fc29",
   "metadata": {},
   "outputs": [],
   "source": []
  }
 ],
 "metadata": {
  "kernelspec": {
   "display_name": "Python 3 (ipykernel)",
   "language": "python",
   "name": "python3"
  },
  "language_info": {
   "codemirror_mode": {
    "name": "ipython",
    "version": 3
   },
   "file_extension": ".py",
   "mimetype": "text/x-python",
   "name": "python",
   "nbconvert_exporter": "python",
   "pygments_lexer": "ipython3",
   "version": "3.10.4"
  },
  "toc": {
   "base_numbering": 1,
   "nav_menu": {},
   "number_sections": true,
   "sideBar": true,
   "skip_h1_title": false,
   "title_cell": "Table of Contents",
   "title_sidebar": "Contents",
   "toc_cell": false,
   "toc_position": {
    "height": "calc(100% - 180px)",
    "left": "10px",
    "top": "150px",
    "width": "422.222px"
   },
   "toc_section_display": true,
   "toc_window_display": true
  }
 },
 "nbformat": 4,
 "nbformat_minor": 5
}
